{
 "cells": [
  {
   "cell_type": "code",
   "execution_count": 1,
   "metadata": {},
   "outputs": [
    {
     "name": "stderr",
     "output_type": "stream",
     "text": [
      "Importing plotly failed. Interactive plots will not work.\n"
     ]
    }
   ],
   "source": [
    "%matplotlib inline\n",
    "\n",
    "import random\n",
    "import numpy as np\n",
    "import pandas as pd\n",
    "import matplotlib.pyplot as plt\n",
    "from time import sleep\n",
    "from fbprophet import Prophet\n",
    "from bayes_opt import BayesianOptimization\n",
    "\n",
    "random.seed(42)\n",
    "np.random.seed(42)"
   ]
  },
  {
   "cell_type": "markdown",
   "metadata": {},
   "source": [
    "# Bayesian Optimisation of Prophet Hyperparameters\n",
    "\n",
    "This notebook illustrates optimisation of continuous hyperparamaters of prophet models using the \n",
    "[BayesianOptimization](https://github.com/fmfn/BayesianOptimization) package.\n",
    "\n",
    "The notebook is organised into the following sections:\n",
    " * Importing Data\n",
    " * Building Simple Model\n",
    " * Cross-validating Model\n",
    " * Tuning Discrete Prophet Hyperparameters\n",
    " * Bayesian Optimisation of Continuous Prophet Hyperparameters\n",
    " * Conclusion\n",
    "\n",
    "\n",
    "## Import Data\n",
    "\n",
    "Data has been cleaned but may still have issues.  See the [cleaning section](https://github.com/makeyourownmaker/CambridgeTemperatureModel#Cleaning) in my [Cambridge Temperature Model repository](https://github.com/makeyourownmaker/CambridgeTemperatureModel) for details.\n",
    "\n",
    "The `y` variable is temperature * 10.  I'm primarily interested in very short term forecasts (less than 2 hours)\n",
    "but forecasts over 24 hours are also interesting."
   ]
  },
  {
   "cell_type": "code",
   "execution_count": 2,
   "metadata": {},
   "outputs": [
    {
     "name": "stdout",
     "output_type": "stream",
     "text": [
      "Shape:\n",
      "(192885, 11)\n",
      "\n",
      "Info:\n",
      "<class 'pandas.core.frame.DataFrame'>\n",
      "RangeIndex: 192885 entries, 0 to 192884\n",
      "Data columns (total 11 columns):\n",
      " #   Column             Non-Null Count   Dtype \n",
      "---  ------             --------------   ----- \n",
      " 0   ds                 192885 non-null  object\n",
      " 1   year               192885 non-null  int64 \n",
      " 2   doy                192885 non-null  int64 \n",
      " 3   time               192885 non-null  object\n",
      " 4   y                  192885 non-null  int64 \n",
      " 5   humidity           192885 non-null  int64 \n",
      " 6   dew.point          192885 non-null  int64 \n",
      " 7   pressure           192885 non-null  int64 \n",
      " 8   wind.speed.mean    192885 non-null  int64 \n",
      " 9   wind.bearing.mean  192885 non-null  int64 \n",
      " 10  wind.speed.max     192885 non-null  int64 \n",
      "dtypes: int64(9), object(2)\n",
      "memory usage: 16.2+ MB\n",
      "None\n",
      "\n",
      "Summary stats:\n"
     ]
    },
    {
     "data": {
      "text/html": [
       "<div>\n",
       "<style scoped>\n",
       "    .dataframe tbody tr th:only-of-type {\n",
       "        vertical-align: middle;\n",
       "    }\n",
       "\n",
       "    .dataframe tbody tr th {\n",
       "        vertical-align: top;\n",
       "    }\n",
       "\n",
       "    .dataframe thead th {\n",
       "        text-align: right;\n",
       "    }\n",
       "</style>\n",
       "<table border=\"1\" class=\"dataframe\">\n",
       "  <thead>\n",
       "    <tr style=\"text-align: right;\">\n",
       "      <th></th>\n",
       "      <th>year</th>\n",
       "      <th>doy</th>\n",
       "      <th>y</th>\n",
       "      <th>humidity</th>\n",
       "      <th>dew.point</th>\n",
       "      <th>pressure</th>\n",
       "      <th>wind.speed.mean</th>\n",
       "      <th>wind.bearing.mean</th>\n",
       "      <th>wind.speed.max</th>\n",
       "    </tr>\n",
       "  </thead>\n",
       "  <tbody>\n",
       "    <tr>\n",
       "      <th>count</th>\n",
       "      <td>192885.000000</td>\n",
       "      <td>192885.000000</td>\n",
       "      <td>192885.000000</td>\n",
       "      <td>192885.000000</td>\n",
       "      <td>192885.000000</td>\n",
       "      <td>192885.000000</td>\n",
       "      <td>192885.000000</td>\n",
       "      <td>192885.000000</td>\n",
       "      <td>192885.000000</td>\n",
       "    </tr>\n",
       "    <tr>\n",
       "      <th>mean</th>\n",
       "      <td>2013.895803</td>\n",
       "      <td>186.882298</td>\n",
       "      <td>101.096819</td>\n",
       "      <td>79.239951</td>\n",
       "      <td>62.135174</td>\n",
       "      <td>1014.404153</td>\n",
       "      <td>44.588148</td>\n",
       "      <td>196.223423</td>\n",
       "      <td>117.140369</td>\n",
       "    </tr>\n",
       "    <tr>\n",
       "      <th>std</th>\n",
       "      <td>3.283992</td>\n",
       "      <td>106.486420</td>\n",
       "      <td>64.465602</td>\n",
       "      <td>16.908724</td>\n",
       "      <td>51.016879</td>\n",
       "      <td>11.823922</td>\n",
       "      <td>40.025546</td>\n",
       "      <td>82.458390</td>\n",
       "      <td>80.116199</td>\n",
       "    </tr>\n",
       "    <tr>\n",
       "      <th>min</th>\n",
       "      <td>2008.000000</td>\n",
       "      <td>1.000000</td>\n",
       "      <td>-138.000000</td>\n",
       "      <td>25.000000</td>\n",
       "      <td>-143.000000</td>\n",
       "      <td>963.000000</td>\n",
       "      <td>0.000000</td>\n",
       "      <td>0.000000</td>\n",
       "      <td>0.000000</td>\n",
       "    </tr>\n",
       "    <tr>\n",
       "      <th>25%</th>\n",
       "      <td>2011.000000</td>\n",
       "      <td>94.000000</td>\n",
       "      <td>52.000000</td>\n",
       "      <td>69.000000</td>\n",
       "      <td>25.000000</td>\n",
       "      <td>1008.000000</td>\n",
       "      <td>12.000000</td>\n",
       "      <td>135.000000</td>\n",
       "      <td>60.000000</td>\n",
       "    </tr>\n",
       "    <tr>\n",
       "      <th>50%</th>\n",
       "      <td>2014.000000</td>\n",
       "      <td>191.000000</td>\n",
       "      <td>100.000000</td>\n",
       "      <td>83.000000</td>\n",
       "      <td>64.000000</td>\n",
       "      <td>1016.000000</td>\n",
       "      <td>35.000000</td>\n",
       "      <td>225.000000</td>\n",
       "      <td>100.000000</td>\n",
       "    </tr>\n",
       "    <tr>\n",
       "      <th>75%</th>\n",
       "      <td>2017.000000</td>\n",
       "      <td>280.000000</td>\n",
       "      <td>145.000000</td>\n",
       "      <td>92.000000</td>\n",
       "      <td>100.000000</td>\n",
       "      <td>1023.000000</td>\n",
       "      <td>67.000000</td>\n",
       "      <td>270.000000</td>\n",
       "      <td>160.000000</td>\n",
       "    </tr>\n",
       "    <tr>\n",
       "      <th>max</th>\n",
       "      <td>2020.000000</td>\n",
       "      <td>366.000000</td>\n",
       "      <td>361.000000</td>\n",
       "      <td>100.000000</td>\n",
       "      <td>216.000000</td>\n",
       "      <td>1048.000000</td>\n",
       "      <td>291.000000</td>\n",
       "      <td>315.000000</td>\n",
       "      <td>580.000000</td>\n",
       "    </tr>\n",
       "  </tbody>\n",
       "</table>\n",
       "</div>"
      ],
      "text/plain": [
       "                year            doy              y       humidity  \\\n",
       "count  192885.000000  192885.000000  192885.000000  192885.000000   \n",
       "mean     2013.895803     186.882298     101.096819      79.239951   \n",
       "std         3.283992     106.486420      64.465602      16.908724   \n",
       "min      2008.000000       1.000000    -138.000000      25.000000   \n",
       "25%      2011.000000      94.000000      52.000000      69.000000   \n",
       "50%      2014.000000     191.000000     100.000000      83.000000   \n",
       "75%      2017.000000     280.000000     145.000000      92.000000   \n",
       "max      2020.000000     366.000000     361.000000     100.000000   \n",
       "\n",
       "           dew.point       pressure  wind.speed.mean  wind.bearing.mean  \\\n",
       "count  192885.000000  192885.000000    192885.000000      192885.000000   \n",
       "mean       62.135174    1014.404153        44.588148         196.223423   \n",
       "std        51.016879      11.823922        40.025546          82.458390   \n",
       "min      -143.000000     963.000000         0.000000           0.000000   \n",
       "25%        25.000000    1008.000000        12.000000         135.000000   \n",
       "50%        64.000000    1016.000000        35.000000         225.000000   \n",
       "75%       100.000000    1023.000000        67.000000         270.000000   \n",
       "max       216.000000    1048.000000       291.000000         315.000000   \n",
       "\n",
       "       wind.speed.max  \n",
       "count   192885.000000  \n",
       "mean       117.140369  \n",
       "std         80.116199  \n",
       "min          0.000000  \n",
       "25%         60.000000  \n",
       "50%        100.000000  \n",
       "75%        160.000000  \n",
       "max        580.000000  "
      ]
     },
     "metadata": {},
     "output_type": "display_data"
    },
    {
     "name": "stdout",
     "output_type": "stream",
     "text": [
      "\n",
      "Raw data:\n"
     ]
    },
    {
     "data": {
      "text/html": [
       "<div>\n",
       "<style scoped>\n",
       "    .dataframe tbody tr th:only-of-type {\n",
       "        vertical-align: middle;\n",
       "    }\n",
       "\n",
       "    .dataframe tbody tr th {\n",
       "        vertical-align: top;\n",
       "    }\n",
       "\n",
       "    .dataframe thead th {\n",
       "        text-align: right;\n",
       "    }\n",
       "</style>\n",
       "<table border=\"1\" class=\"dataframe\">\n",
       "  <thead>\n",
       "    <tr style=\"text-align: right;\">\n",
       "      <th></th>\n",
       "      <th>ds</th>\n",
       "      <th>year</th>\n",
       "      <th>doy</th>\n",
       "      <th>time</th>\n",
       "      <th>y</th>\n",
       "      <th>humidity</th>\n",
       "      <th>dew.point</th>\n",
       "      <th>pressure</th>\n",
       "      <th>wind.speed.mean</th>\n",
       "      <th>wind.bearing.mean</th>\n",
       "      <th>wind.speed.max</th>\n",
       "    </tr>\n",
       "  </thead>\n",
       "  <tbody>\n",
       "    <tr>\n",
       "      <th>0</th>\n",
       "      <td>2008-08-01 08:30:00</td>\n",
       "      <td>2008</td>\n",
       "      <td>214</td>\n",
       "      <td>09:30:00</td>\n",
       "      <td>186</td>\n",
       "      <td>69</td>\n",
       "      <td>128</td>\n",
       "      <td>1010</td>\n",
       "      <td>123</td>\n",
       "      <td>180</td>\n",
       "      <td>280</td>\n",
       "    </tr>\n",
       "    <tr>\n",
       "      <th>1</th>\n",
       "      <td>2008-08-01 09:00:00</td>\n",
       "      <td>2008</td>\n",
       "      <td>214</td>\n",
       "      <td>10:00:00</td>\n",
       "      <td>191</td>\n",
       "      <td>70</td>\n",
       "      <td>135</td>\n",
       "      <td>1010</td>\n",
       "      <td>137</td>\n",
       "      <td>180</td>\n",
       "      <td>260</td>\n",
       "    </tr>\n",
       "    <tr>\n",
       "      <th>2</th>\n",
       "      <td>2008-08-01 09:30:00</td>\n",
       "      <td>2008</td>\n",
       "      <td>214</td>\n",
       "      <td>10:30:00</td>\n",
       "      <td>195</td>\n",
       "      <td>68</td>\n",
       "      <td>134</td>\n",
       "      <td>1010</td>\n",
       "      <td>133</td>\n",
       "      <td>180</td>\n",
       "      <td>260</td>\n",
       "    </tr>\n",
       "    <tr>\n",
       "      <th>3</th>\n",
       "      <td>2008-08-01 10:00:00</td>\n",
       "      <td>2008</td>\n",
       "      <td>214</td>\n",
       "      <td>11:00:00</td>\n",
       "      <td>200</td>\n",
       "      <td>68</td>\n",
       "      <td>139</td>\n",
       "      <td>1010</td>\n",
       "      <td>129</td>\n",
       "      <td>180</td>\n",
       "      <td>240</td>\n",
       "    </tr>\n",
       "    <tr>\n",
       "      <th>4</th>\n",
       "      <td>2008-08-01 10:30:00</td>\n",
       "      <td>2008</td>\n",
       "      <td>214</td>\n",
       "      <td>11:30:00</td>\n",
       "      <td>213</td>\n",
       "      <td>61</td>\n",
       "      <td>135</td>\n",
       "      <td>1010</td>\n",
       "      <td>145</td>\n",
       "      <td>180</td>\n",
       "      <td>260</td>\n",
       "    </tr>\n",
       "    <tr>\n",
       "      <th>...</th>\n",
       "      <td>...</td>\n",
       "      <td>...</td>\n",
       "      <td>...</td>\n",
       "      <td>...</td>\n",
       "      <td>...</td>\n",
       "      <td>...</td>\n",
       "      <td>...</td>\n",
       "      <td>...</td>\n",
       "      <td>...</td>\n",
       "      <td>...</td>\n",
       "      <td>...</td>\n",
       "    </tr>\n",
       "    <tr>\n",
       "      <th>192880</th>\n",
       "      <td>2020-01-16 00:00:00</td>\n",
       "      <td>2020</td>\n",
       "      <td>16</td>\n",
       "      <td>00:00:00</td>\n",
       "      <td>40</td>\n",
       "      <td>78</td>\n",
       "      <td>5</td>\n",
       "      <td>1017</td>\n",
       "      <td>45</td>\n",
       "      <td>180</td>\n",
       "      <td>100</td>\n",
       "    </tr>\n",
       "    <tr>\n",
       "      <th>192881</th>\n",
       "      <td>2020-01-16 00:30:00</td>\n",
       "      <td>2020</td>\n",
       "      <td>16</td>\n",
       "      <td>00:30:00</td>\n",
       "      <td>36</td>\n",
       "      <td>86</td>\n",
       "      <td>15</td>\n",
       "      <td>1018</td>\n",
       "      <td>25</td>\n",
       "      <td>180</td>\n",
       "      <td>120</td>\n",
       "    </tr>\n",
       "    <tr>\n",
       "      <th>192882</th>\n",
       "      <td>2020-01-16 01:00:00</td>\n",
       "      <td>2020</td>\n",
       "      <td>16</td>\n",
       "      <td>01:00:00</td>\n",
       "      <td>36</td>\n",
       "      <td>85</td>\n",
       "      <td>13</td>\n",
       "      <td>1018</td>\n",
       "      <td>28</td>\n",
       "      <td>180</td>\n",
       "      <td>80</td>\n",
       "    </tr>\n",
       "    <tr>\n",
       "      <th>192883</th>\n",
       "      <td>2020-01-16 01:30:00</td>\n",
       "      <td>2020</td>\n",
       "      <td>16</td>\n",
       "      <td>01:30:00</td>\n",
       "      <td>36</td>\n",
       "      <td>82</td>\n",
       "      <td>8</td>\n",
       "      <td>1018</td>\n",
       "      <td>17</td>\n",
       "      <td>180</td>\n",
       "      <td>80</td>\n",
       "    </tr>\n",
       "    <tr>\n",
       "      <th>192884</th>\n",
       "      <td>2020-01-16 02:00:00</td>\n",
       "      <td>2020</td>\n",
       "      <td>16</td>\n",
       "      <td>02:00:00</td>\n",
       "      <td>36</td>\n",
       "      <td>89</td>\n",
       "      <td>20</td>\n",
       "      <td>1018</td>\n",
       "      <td>22</td>\n",
       "      <td>180</td>\n",
       "      <td>100</td>\n",
       "    </tr>\n",
       "  </tbody>\n",
       "</table>\n",
       "<p>192885 rows × 11 columns</p>\n",
       "</div>"
      ],
      "text/plain": [
       "                         ds  year  doy      time    y  humidity  dew.point  \\\n",
       "0       2008-08-01 08:30:00  2008  214  09:30:00  186        69        128   \n",
       "1       2008-08-01 09:00:00  2008  214  10:00:00  191        70        135   \n",
       "2       2008-08-01 09:30:00  2008  214  10:30:00  195        68        134   \n",
       "3       2008-08-01 10:00:00  2008  214  11:00:00  200        68        139   \n",
       "4       2008-08-01 10:30:00  2008  214  11:30:00  213        61        135   \n",
       "...                     ...   ...  ...       ...  ...       ...        ...   \n",
       "192880  2020-01-16 00:00:00  2020   16  00:00:00   40        78          5   \n",
       "192881  2020-01-16 00:30:00  2020   16  00:30:00   36        86         15   \n",
       "192882  2020-01-16 01:00:00  2020   16  01:00:00   36        85         13   \n",
       "192883  2020-01-16 01:30:00  2020   16  01:30:00   36        82          8   \n",
       "192884  2020-01-16 02:00:00  2020   16  02:00:00   36        89         20   \n",
       "\n",
       "        pressure  wind.speed.mean  wind.bearing.mean  wind.speed.max  \n",
       "0           1010              123                180             280  \n",
       "1           1010              137                180             260  \n",
       "2           1010              133                180             260  \n",
       "3           1010              129                180             240  \n",
       "4           1010              145                180             260  \n",
       "...          ...              ...                ...             ...  \n",
       "192880      1017               45                180             100  \n",
       "192881      1018               25                180             120  \n",
       "192882      1018               28                180              80  \n",
       "192883      1018               17                180              80  \n",
       "192884      1018               22                180             100  \n",
       "\n",
       "[192885 rows x 11 columns]"
      ]
     },
     "execution_count": 2,
     "metadata": {},
     "output_type": "execute_result"
    }
   ],
   "source": [
    "df = pd.read_csv(\"../data/CamUKWeather.csv\", parse_dates=True)\n",
    "print(\"Shape:\")\n",
    "print(df.shape)\n",
    "print(\"\\nInfo:\")\n",
    "print(df.info())\n",
    "print(\"\\nSummary stats:\")\n",
    "display(df.describe())\n",
    "print(\"\\nRaw data:\")\n",
    "df"
   ]
  },
  {
   "cell_type": "markdown",
   "metadata": {},
   "source": [
    "Create train and test data.  Will perform [rolling origin forecasting](https://otexts.com/fpp2/accuracy.html#time-series-cross-validation) later."
   ]
  },
  {
   "cell_type": "code",
   "execution_count": 3,
   "metadata": {},
   "outputs": [],
   "source": [
    "threshold = 2019\n",
    "df_test  = df[df['year'] >= threshold]\n",
    "df_train = df[df['year'] <  threshold]"
   ]
  },
  {
   "cell_type": "markdown",
   "metadata": {},
   "source": [
    "---\n",
    "\n",
    "\n",
    "## Build Simple Model\n",
    "\n",
    "First, start by building a simple model with flat growth and no weekly seasonality.  This is a quick sanity check.  Results should be similar to my previous R version.\n",
    "\n",
    "One reason for using the python prophet version over R is to check the \n",
    "[flat growth](https://facebook.github.io/prophet/docs/additional_topics.html#flat-trend-and-custom-trends)\n",
    "option, (only available in python), with \n",
    "[linear and logistic growth I used earlier in R](https://github.com/makeyourownmaker/CambridgeTemperatureModel/blob/master/4.02-prophet.R).\n",
    "\n",
    "Seasonality mode defaults to additive for both daily and yearly.  Yearly seasonality is set to use 2 Fourier terms to enforce smooth annual cyclicality.  Yearly seasonality shows over-fitting if `yearly_seasonality='auto'` is used.\n",
    "It _may_ be better to use `yearly_seasonality='auto'` and tune `seasonality_prior_scale` instead of setting the number of Fourier terms."
   ]
  },
  {
   "cell_type": "code",
   "execution_count": 4,
   "metadata": {},
   "outputs": [],
   "source": [
    "m = Prophet(growth='flat',\n",
    "            daily_seasonality=True,\n",
    "            weekly_seasonality=False,\n",
    "            yearly_seasonality=2)\n",
    "m.fit(df_train);"
   ]
  },
  {
   "cell_type": "markdown",
   "metadata": {},
   "source": [
    "### Make forecast\n",
    "\n",
    "Use `df_test` data created earlier to make forecast.  `df_test` contains data in 2019 and after.\n",
    "`yhat_lower` and `yhat_upper` are the 80% uncertainty intervals."
   ]
  },
  {
   "cell_type": "code",
   "execution_count": 5,
   "metadata": {},
   "outputs": [
    {
     "data": {
      "text/html": [
       "<div>\n",
       "<style scoped>\n",
       "    .dataframe tbody tr th:only-of-type {\n",
       "        vertical-align: middle;\n",
       "    }\n",
       "\n",
       "    .dataframe tbody tr th {\n",
       "        vertical-align: top;\n",
       "    }\n",
       "\n",
       "    .dataframe thead th {\n",
       "        text-align: right;\n",
       "    }\n",
       "</style>\n",
       "<table border=\"1\" class=\"dataframe\">\n",
       "  <thead>\n",
       "    <tr style=\"text-align: right;\">\n",
       "      <th></th>\n",
       "      <th>ds</th>\n",
       "      <th>yhat</th>\n",
       "      <th>yhat_lower</th>\n",
       "      <th>yhat_upper</th>\n",
       "      <th>y</th>\n",
       "    </tr>\n",
       "  </thead>\n",
       "  <tbody>\n",
       "    <tr>\n",
       "      <th>0</th>\n",
       "      <td>2020-01-16 00:00:00</td>\n",
       "      <td>17.667960</td>\n",
       "      <td>-29.847775</td>\n",
       "      <td>62.817637</td>\n",
       "      <td>40</td>\n",
       "    </tr>\n",
       "    <tr>\n",
       "      <th>1</th>\n",
       "      <td>2020-01-16 00:30:00</td>\n",
       "      <td>16.180201</td>\n",
       "      <td>-29.955690</td>\n",
       "      <td>60.990527</td>\n",
       "      <td>36</td>\n",
       "    </tr>\n",
       "    <tr>\n",
       "      <th>2</th>\n",
       "      <td>2020-01-16 01:00:00</td>\n",
       "      <td>14.807732</td>\n",
       "      <td>-31.797248</td>\n",
       "      <td>64.647189</td>\n",
       "      <td>36</td>\n",
       "    </tr>\n",
       "    <tr>\n",
       "      <th>3</th>\n",
       "      <td>2020-01-16 01:30:00</td>\n",
       "      <td>13.508647</td>\n",
       "      <td>-32.661017</td>\n",
       "      <td>61.800024</td>\n",
       "      <td>36</td>\n",
       "    </tr>\n",
       "    <tr>\n",
       "      <th>4</th>\n",
       "      <td>2020-01-16 02:00:00</td>\n",
       "      <td>12.256809</td>\n",
       "      <td>-31.535405</td>\n",
       "      <td>59.283150</td>\n",
       "      <td>36</td>\n",
       "    </tr>\n",
       "  </tbody>\n",
       "</table>\n",
       "</div>"
      ],
      "text/plain": [
       "                   ds       yhat  yhat_lower  yhat_upper   y\n",
       "0 2020-01-16 00:00:00  17.667960  -29.847775   62.817637  40\n",
       "1 2020-01-16 00:30:00  16.180201  -29.955690   60.990527  36\n",
       "2 2020-01-16 01:00:00  14.807732  -31.797248   64.647189  36\n",
       "3 2020-01-16 01:30:00  13.508647  -32.661017   61.800024  36\n",
       "4 2020-01-16 02:00:00  12.256809  -31.535405   59.283150  36"
      ]
     },
     "execution_count": 5,
     "metadata": {},
     "output_type": "execute_result"
    }
   ],
   "source": [
    "forecast = m.predict(df_test)\n",
    "pd.concat([forecast[['ds', 'yhat', 'yhat_lower', 'yhat_upper']].tail().reset_index(drop=True), \n",
    "           df_test['y'].tail().reset_index(drop=True)], axis=1)"
   ]
  },
  {
   "cell_type": "markdown",
   "metadata": {},
   "source": [
    "### Plot forecast"
   ]
  },
  {
   "cell_type": "code",
   "execution_count": 6,
   "metadata": {},
   "outputs": [
    {
     "data": {
      "image/png": "[encoded data removed]",
      "text/plain": [
       "<Figure size 720x432 with 1 Axes>"
      ]
     },
     "metadata": {},
     "output_type": "display_data"
    }
   ],
   "source": [
    "fig1 = m.plot(forecast)"
   ]
  },
  {
   "cell_type": "markdown",
   "metadata": {},
   "source": [
    "### Plot components of simple model forecast\n",
    "\n",
    "As expected the trend is flat and is close to the mean `y` (temperature in C * 10) value from `df.describe()` above (101.93).\n",
    "\n",
    "The seasonalities are smoothly varying and cyclic.\n",
    "The daily and yearly seasonalities resemble the \n",
    "[seasonalities obtained with R](https://github.com/makeyourownmaker/CambridgeTemperatureModel#Seasonality)."
   ]
  },
  {
   "cell_type": "code",
   "execution_count": 7,
   "metadata": {},
   "outputs": [
    {
     "data": {
      "image/png": "[encoded data removed]",
      "text/plain": [
       "<Figure size 648x648 with 3 Axes>"
      ]
     },
     "metadata": {},
     "output_type": "display_data"
    }
   ],
   "source": [
    "fig2 = m.plot_components(forecast)"
   ]
  },
  {
   "cell_type": "markdown",
   "metadata": {},
   "source": [
    "---\n",
    "\n",
    "## Cross-validate Model\n",
    "\n",
    "Second, cross-validate the simple model to get some indication of performance.\n",
    "\n",
    "To perform [rolling origin forecasting](https://otexts.com/fpp2/accuracy.html#time-series-cross-validation) first build a prophet model on `df` instead of `df_train`.  \n",
    "Then run cross-validation on a horizon of 1 hour, starting with 90000 hours (over 10 years) of training data in the first cutoff and then making predictions every 1000 hours. On this 11 year time series, this corresponds to 11 total forecasts between 2018-11-25 09:00:00 and 2020-01-16 01:00:00.  This is a small validation set.\n",
    "\n",
    "I'm primarily interested in making \"nowcasts\" (forecasts in the next 1 to 2 hours) because I live very close to the data source and the UK met office only update the forecasts on their web site every 2 hours. "
   ]
  },
  {
   "cell_type": "code",
   "execution_count": 8,
   "metadata": {},
   "outputs": [
    {
     "name": "stderr",
     "output_type": "stream",
     "text": [
      "INFO:fbprophet:Making 11 forecasts with cutoffs between 2018-11-25 09:00:00 and 2020-01-16 01:00:00\n"
     ]
    },
    {
     "data": {
      "application/vnd.jupyter.widget-view+json": {
       "model_id": "440bd69cb1d94972b8214b0414357df6",
       "version_major": 2,
       "version_minor": 0
      },
      "text/plain": [
       "HBox(children=(FloatProgress(value=0.0, max=11.0), HTML(value='')))"
      ]
     },
     "metadata": {},
     "output_type": "display_data"
    },
    {
     "name": "stdout",
     "output_type": "stream",
     "text": [
      "\n"
     ]
    },
    {
     "data": {
      "text/html": [
       "<div>\n",
       "<style scoped>\n",
       "    .dataframe tbody tr th:only-of-type {\n",
       "        vertical-align: middle;\n",
       "    }\n",
       "\n",
       "    .dataframe tbody tr th {\n",
       "        vertical-align: top;\n",
       "    }\n",
       "\n",
       "    .dataframe thead th {\n",
       "        text-align: right;\n",
       "    }\n",
       "</style>\n",
       "<table border=\"1\" class=\"dataframe\">\n",
       "  <thead>\n",
       "    <tr style=\"text-align: right;\">\n",
       "      <th></th>\n",
       "      <th>ds</th>\n",
       "      <th>yhat</th>\n",
       "      <th>yhat_lower</th>\n",
       "      <th>yhat_upper</th>\n",
       "      <th>y</th>\n",
       "      <th>cutoff</th>\n",
       "    </tr>\n",
       "  </thead>\n",
       "  <tbody>\n",
       "    <tr>\n",
       "      <th>0</th>\n",
       "      <td>2018-11-25 09:30:00</td>\n",
       "      <td>69.739130</td>\n",
       "      <td>19.884369</td>\n",
       "      <td>117.277538</td>\n",
       "      <td>40</td>\n",
       "      <td>2018-11-25 09:00:00</td>\n",
       "    </tr>\n",
       "    <tr>\n",
       "      <th>1</th>\n",
       "      <td>2018-11-25 10:00:00</td>\n",
       "      <td>74.736026</td>\n",
       "      <td>26.711922</td>\n",
       "      <td>122.259926</td>\n",
       "      <td>44</td>\n",
       "      <td>2018-11-25 09:00:00</td>\n",
       "    </tr>\n",
       "    <tr>\n",
       "      <th>2</th>\n",
       "      <td>2019-01-06 01:30:00</td>\n",
       "      <td>14.903101</td>\n",
       "      <td>-29.389721</td>\n",
       "      <td>59.957277</td>\n",
       "      <td>32</td>\n",
       "      <td>2019-01-06 01:00:00</td>\n",
       "    </tr>\n",
       "    <tr>\n",
       "      <th>3</th>\n",
       "      <td>2019-01-06 02:00:00</td>\n",
       "      <td>13.648006</td>\n",
       "      <td>-28.144470</td>\n",
       "      <td>58.607385</td>\n",
       "      <td>32</td>\n",
       "      <td>2019-01-06 01:00:00</td>\n",
       "    </tr>\n",
       "    <tr>\n",
       "      <th>4</th>\n",
       "      <td>2019-02-16 17:30:00</td>\n",
       "      <td>60.864809</td>\n",
       "      <td>16.395474</td>\n",
       "      <td>109.247482</td>\n",
       "      <td>92</td>\n",
       "      <td>2019-02-16 17:00:00</td>\n",
       "    </tr>\n",
       "    <tr>\n",
       "      <th>5</th>\n",
       "      <td>2019-02-16 18:00:00</td>\n",
       "      <td>57.318057</td>\n",
       "      <td>13.104304</td>\n",
       "      <td>104.092568</td>\n",
       "      <td>88</td>\n",
       "      <td>2019-02-16 17:00:00</td>\n",
       "    </tr>\n",
       "    <tr>\n",
       "      <th>6</th>\n",
       "      <td>2019-03-30 09:30:00</td>\n",
       "      <td>78.062718</td>\n",
       "      <td>31.079447</td>\n",
       "      <td>124.812803</td>\n",
       "      <td>123</td>\n",
       "      <td>2019-03-30 09:00:00</td>\n",
       "    </tr>\n",
       "    <tr>\n",
       "      <th>7</th>\n",
       "      <td>2019-03-30 10:00:00</td>\n",
       "      <td>83.093376</td>\n",
       "      <td>35.050668</td>\n",
       "      <td>129.022228</td>\n",
       "      <td>141</td>\n",
       "      <td>2019-03-30 09:00:00</td>\n",
       "    </tr>\n",
       "    <tr>\n",
       "      <th>8</th>\n",
       "      <td>2019-05-11 01:30:00</td>\n",
       "      <td>91.757079</td>\n",
       "      <td>46.765174</td>\n",
       "      <td>135.244288</td>\n",
       "      <td>56</td>\n",
       "      <td>2019-05-11 01:00:00</td>\n",
       "    </tr>\n",
       "    <tr>\n",
       "      <th>9</th>\n",
       "      <td>2019-05-11 02:00:00</td>\n",
       "      <td>90.536030</td>\n",
       "      <td>44.309768</td>\n",
       "      <td>139.393141</td>\n",
       "      <td>56</td>\n",
       "      <td>2019-05-11 01:00:00</td>\n",
       "    </tr>\n",
       "    <tr>\n",
       "      <th>10</th>\n",
       "      <td>2019-06-21 17:30:00</td>\n",
       "      <td>177.967667</td>\n",
       "      <td>133.398878</td>\n",
       "      <td>223.433699</td>\n",
       "      <td>186</td>\n",
       "      <td>2019-06-21 17:00:00</td>\n",
       "    </tr>\n",
       "    <tr>\n",
       "      <th>11</th>\n",
       "      <td>2019-06-21 18:00:00</td>\n",
       "      <td>174.412222</td>\n",
       "      <td>128.890993</td>\n",
       "      <td>220.406266</td>\n",
       "      <td>177</td>\n",
       "      <td>2019-06-21 17:00:00</td>\n",
       "    </tr>\n",
       "    <tr>\n",
       "      <th>12</th>\n",
       "      <td>2019-08-02 09:30:00</td>\n",
       "      <td>183.581257</td>\n",
       "      <td>137.855582</td>\n",
       "      <td>228.725586</td>\n",
       "      <td>186</td>\n",
       "      <td>2019-08-02 09:00:00</td>\n",
       "    </tr>\n",
       "    <tr>\n",
       "      <th>13</th>\n",
       "      <td>2019-08-02 10:00:00</td>\n",
       "      <td>188.600265</td>\n",
       "      <td>141.070477</td>\n",
       "      <td>237.462060</td>\n",
       "      <td>182</td>\n",
       "      <td>2019-08-02 09:00:00</td>\n",
       "    </tr>\n",
       "    <tr>\n",
       "      <th>14</th>\n",
       "      <td>2019-09-13 01:30:00</td>\n",
       "      <td>126.944368</td>\n",
       "      <td>79.875884</td>\n",
       "      <td>174.356863</td>\n",
       "      <td>155</td>\n",
       "      <td>2019-09-13 01:00:00</td>\n",
       "    </tr>\n",
       "    <tr>\n",
       "      <th>15</th>\n",
       "      <td>2019-09-13 02:00:00</td>\n",
       "      <td>125.625959</td>\n",
       "      <td>78.915122</td>\n",
       "      <td>170.545562</td>\n",
       "      <td>145</td>\n",
       "      <td>2019-09-13 01:00:00</td>\n",
       "    </tr>\n",
       "    <tr>\n",
       "      <th>16</th>\n",
       "      <td>2019-10-24 17:30:00</td>\n",
       "      <td>117.622934</td>\n",
       "      <td>73.074388</td>\n",
       "      <td>164.331569</td>\n",
       "      <td>88</td>\n",
       "      <td>2019-10-24 17:00:00</td>\n",
       "    </tr>\n",
       "    <tr>\n",
       "      <th>17</th>\n",
       "      <td>2019-10-24 18:00:00</td>\n",
       "      <td>113.996222</td>\n",
       "      <td>68.131090</td>\n",
       "      <td>160.379466</td>\n",
       "      <td>84</td>\n",
       "      <td>2019-10-24 17:00:00</td>\n",
       "    </tr>\n",
       "    <tr>\n",
       "      <th>18</th>\n",
       "      <td>2019-12-05 09:30:00</td>\n",
       "      <td>60.190404</td>\n",
       "      <td>14.470598</td>\n",
       "      <td>105.778553</td>\n",
       "      <td>12</td>\n",
       "      <td>2019-12-05 09:00:00</td>\n",
       "    </tr>\n",
       "    <tr>\n",
       "      <th>19</th>\n",
       "      <td>2019-12-05 10:00:00</td>\n",
       "      <td>65.223833</td>\n",
       "      <td>22.867112</td>\n",
       "      <td>110.798999</td>\n",
       "      <td>20</td>\n",
       "      <td>2019-12-05 09:00:00</td>\n",
       "    </tr>\n",
       "    <tr>\n",
       "      <th>20</th>\n",
       "      <td>2020-01-16 01:30:00</td>\n",
       "      <td>13.998328</td>\n",
       "      <td>-34.842082</td>\n",
       "      <td>58.477476</td>\n",
       "      <td>36</td>\n",
       "      <td>2020-01-16 01:00:00</td>\n",
       "    </tr>\n",
       "    <tr>\n",
       "      <th>21</th>\n",
       "      <td>2020-01-16 02:00:00</td>\n",
       "      <td>12.720485</td>\n",
       "      <td>-31.944373</td>\n",
       "      <td>58.185447</td>\n",
       "      <td>36</td>\n",
       "      <td>2020-01-16 01:00:00</td>\n",
       "    </tr>\n",
       "  </tbody>\n",
       "</table>\n",
       "</div>"
      ],
      "text/plain": [
       "                    ds        yhat  yhat_lower  yhat_upper    y  \\\n",
       "0  2018-11-25 09:30:00   69.739130   19.884369  117.277538   40   \n",
       "1  2018-11-25 10:00:00   74.736026   26.711922  122.259926   44   \n",
       "2  2019-01-06 01:30:00   14.903101  -29.389721   59.957277   32   \n",
       "3  2019-01-06 02:00:00   13.648006  -28.144470   58.607385   32   \n",
       "4  2019-02-16 17:30:00   60.864809   16.395474  109.247482   92   \n",
       "5  2019-02-16 18:00:00   57.318057   13.104304  104.092568   88   \n",
       "6  2019-03-30 09:30:00   78.062718   31.079447  124.812803  123   \n",
       "7  2019-03-30 10:00:00   83.093376   35.050668  129.022228  141   \n",
       "8  2019-05-11 01:30:00   91.757079   46.765174  135.244288   56   \n",
       "9  2019-05-11 02:00:00   90.536030   44.309768  139.393141   56   \n",
       "10 2019-06-21 17:30:00  177.967667  133.398878  223.433699  186   \n",
       "11 2019-06-21 18:00:00  174.412222  128.890993  220.406266  177   \n",
       "12 2019-08-02 09:30:00  183.581257  137.855582  228.725586  186   \n",
       "13 2019-08-02 10:00:00  188.600265  141.070477  237.462060  182   \n",
       "14 2019-09-13 01:30:00  126.944368   79.875884  174.356863  155   \n",
       "15 2019-09-13 02:00:00  125.625959   78.915122  170.545562  145   \n",
       "16 2019-10-24 17:30:00  117.622934   73.074388  164.331569   88   \n",
       "17 2019-10-24 18:00:00  113.996222   68.131090  160.379466   84   \n",
       "18 2019-12-05 09:30:00   60.190404   14.470598  105.778553   12   \n",
       "19 2019-12-05 10:00:00   65.223833   22.867112  110.798999   20   \n",
       "20 2020-01-16 01:30:00   13.998328  -34.842082   58.477476   36   \n",
       "21 2020-01-16 02:00:00   12.720485  -31.944373   58.185447   36   \n",
       "\n",
       "                cutoff  \n",
       "0  2018-11-25 09:00:00  \n",
       "1  2018-11-25 09:00:00  \n",
       "2  2019-01-06 01:00:00  \n",
       "3  2019-01-06 01:00:00  \n",
       "4  2019-02-16 17:00:00  \n",
       "5  2019-02-16 17:00:00  \n",
       "6  2019-03-30 09:00:00  \n",
       "7  2019-03-30 09:00:00  \n",
       "8  2019-05-11 01:00:00  \n",
       "9  2019-05-11 01:00:00  \n",
       "10 2019-06-21 17:00:00  \n",
       "11 2019-06-21 17:00:00  \n",
       "12 2019-08-02 09:00:00  \n",
       "13 2019-08-02 09:00:00  \n",
       "14 2019-09-13 01:00:00  \n",
       "15 2019-09-13 01:00:00  \n",
       "16 2019-10-24 17:00:00  \n",
       "17 2019-10-24 17:00:00  \n",
       "18 2019-12-05 09:00:00  \n",
       "19 2019-12-05 09:00:00  \n",
       "20 2020-01-16 01:00:00  \n",
       "21 2020-01-16 01:00:00  "
      ]
     },
     "execution_count": 8,
     "metadata": {},
     "output_type": "execute_result"
    }
   ],
   "source": [
    "from fbprophet.diagnostics import cross_validation, performance_metrics\n",
    "\n",
    "m = Prophet(growth='flat',\n",
    "            daily_seasonality=True,\n",
    "            weekly_seasonality=False,\n",
    "            yearly_seasonality=2)\n",
    "m.fit(df)\n",
    "\n",
    "df_cv = cross_validation(m,                                                  \n",
    "                         initial='90000 hours',\n",
    "                         period='1000 hours',\n",
    "                         horizon='1 hours')\n",
    "df_cv"
   ]
  },
  {
   "cell_type": "code",
   "execution_count": 9,
   "metadata": {},
   "outputs": [
    {
     "data": {
      "text/html": [
       "<div>\n",
       "<style scoped>\n",
       "    .dataframe tbody tr th:only-of-type {\n",
       "        vertical-align: middle;\n",
       "    }\n",
       "\n",
       "    .dataframe tbody tr th {\n",
       "        vertical-align: top;\n",
       "    }\n",
       "\n",
       "    .dataframe thead th {\n",
       "        text-align: right;\n",
       "    }\n",
       "</style>\n",
       "<table border=\"1\" class=\"dataframe\">\n",
       "  <thead>\n",
       "    <tr style=\"text-align: right;\">\n",
       "      <th></th>\n",
       "      <th>horizon</th>\n",
       "      <th>rmse</th>\n",
       "      <th>mae</th>\n",
       "      <th>mape</th>\n",
       "    </tr>\n",
       "  </thead>\n",
       "  <tbody>\n",
       "    <tr>\n",
       "      <th>0</th>\n",
       "      <td>00:30:00</td>\n",
       "      <td>30.129179</td>\n",
       "      <td>26.998845</td>\n",
       "      <td>0.710990</td>\n",
       "    </tr>\n",
       "    <tr>\n",
       "      <th>1</th>\n",
       "      <td>01:00:00</td>\n",
       "      <td>31.161329</td>\n",
       "      <td>27.206752</td>\n",
       "      <td>0.554322</td>\n",
       "    </tr>\n",
       "  </tbody>\n",
       "</table>\n",
       "</div>"
      ],
      "text/plain": [
       "   horizon       rmse        mae      mape\n",
       "0 00:30:00  30.129179  26.998845  0.710990\n",
       "1 01:00:00  31.161329  27.206752  0.554322"
      ]
     },
     "execution_count": 9,
     "metadata": {},
     "output_type": "execute_result"
    }
   ],
   "source": [
    "df_p = performance_metrics(df_cv)\n",
    "df_p[['horizon','rmse','mae','mape']]"
   ]
  },
  {
   "cell_type": "markdown",
   "metadata": {},
   "source": [
    "These metrics are comparable to the basic linear and logistic model results previously obtained in R."
   ]
  },
  {
   "cell_type": "markdown",
   "metadata": {},
   "source": [
    "---\n",
    "\n",
    "\n",
    "## Tune Discrete Prophet Hyperparameters\n",
    "\n",
    "Third, tune the categorical parameters.\n",
    "\n",
    "In general, Gaussian process-based Bayesian optimisation does not support discrete parameters.  Discrete parameters should probably be tuned before continuous parameters.\n",
    "\n",
    "I previously added two additional regressors:\n",
    " * dew point\n",
    " * humidity\n",
    "\n",
    "Dew point is temperature to which air must be cooled to become saturated with water vapor, and\n",
    "humdidity is atmospheric moisture.\n",
    "\n",
    "These discrete hyperparameters were tuned:\n",
    " * growth\n",
    " * daily seasonality mode\n",
    " * yearly seasonality mode\n",
    " * dew point mode\n",
    " * humidity mode\n",
    " \n",
    "Final hyperparameters from \n",
    "[R version](https://github.com/makeyourownmaker/CambridgeTemperatureModel/blob/master/4.02-prophet.R):\n",
    "```R\n",
    "params <- data.frame(growth='linear',\n",
    "                     n.changepoints=0,\n",
    "                     daily.mode='multiplicative',\n",
    "                     yearly.mode='additive',\n",
    "                     daily.fo=2,\n",
    "                     yearly.fo=2,\n",
    "                     daily.prior=0.01,\n",
    "                     yearly.prior=0.01,\n",
    "                     dp.mode='multiplicative',\n",
    "                     hum.mode='multiplicative',\n",
    "                     dp.prior=0.01,\n",
    "                     hum.prior=0.01,\n",
    "                     stringsAsFactors=FALSE)\n",
    "```\n",
    "\n",
    "When setting `n.changepoints=0` the trend often showed small amounts of postive or negative growth.\n",
    "\n",
    "The seasonality and regressor priors were tuned over a small range of values \\[0.01, 0.1, 1, 10\\].\n",
    "The low number of Fourier terms and low prior values results in the seasonality components being dominated by the regressors.  This suggests the seasonality is not useful for such short-term forecasts.\n",
    "It will be interesting to see at what horizon seasonality becomes less dominated.  Alternatively, the tuning grid could be extended to 100 or higher.\n",
    "\n",
    "Nonetheless, these parameters give much improved results compared to the simple model above.\n",
    "\n",
    "| horizon  | rmse     | mae      | mape     |\n",
    "|----------|----------|----------|----------|\n",
    "| 00:30:00 | 6.784561 | 5.127664 | 0.069588 |\n",
    "| 01:00:00 | 8.080058 | 5.304410 | 0.076183 |\n",
    "\n",
    "I won't translate the R code to python.  See the [prophet docs](https://facebook.github.io/prophet/docs/diagnostics.html#hyperparameter-tuning)\n",
    "for a python grid search example."
   ]
  },
  {
   "cell_type": "markdown",
   "metadata": {},
   "source": [
    "---\n",
    "\n",
    "\n",
    "## Bayesian Optimisation of Continuous Prophet Hyperparameters\n",
    "\n",
    "Fourth, tune the continuous parameters.\n",
    "\n",
    "Below I give an example of Bayesian optimisation of seasonality and regressor parameters.\n",
    "\n",
    "These continuous parameters are optimised:\n",
    " * daily_prior_scale\n",
    " * yearly_prior_scale\n",
    " * dew point prior scale\n",
    " * humidity prior scale\n",
    " \n",
    "The python [BayesianOptimization](https://github.com/fmfn/BayesianOptimization)\n",
    "library is used.  It is an implementation of constrained global optimization with Gaussian processes.\n",
    "\n",
    "Next, I define the prophet model to optimise."
   ]
  },
  {
   "cell_type": "code",
   "execution_count": 10,
   "metadata": {},
   "outputs": [],
   "source": [
    "def prophet_f(daily_prior, yearly_prior, hum_prior, dp_prior, metric='rmse', period='1000 hours'):\n",
    "    \"\"\"\n",
    "    Implements the prophet model to be optimised and performs cross-validation\n",
    "    \n",
    "    Args:\n",
    "        daily_prior:  daily seasonality prior scale\n",
    "        yearly_prior: yearly seasonality prior scale\n",
    "        hum_prior:    humidity regressor prior scale \n",
    "        dp_prior:     dew.point regressor prior scale\n",
    "\n",
    "    Returns:\n",
    "        negative of root mean square error\n",
    "    \"\"\"\n",
    "                     \n",
    "    m = Prophet(growth='flat',\n",
    "                weekly_seasonality=False)\n",
    "    \n",
    "    m.add_seasonality(name='daily',\n",
    "                      period=1,\n",
    "                      fourier_order=2,\n",
    "                      mode='multiplicative',\n",
    "                      prior_scale=10 ** daily_prior)\n",
    "    m.add_seasonality(name='yearly',\n",
    "                      period=365.25,\n",
    "                      fourier_order=2,\n",
    "                      mode='additive',\n",
    "                      prior_scale=10 ** yearly_prior)\n",
    "    \n",
    "    m.add_regressor('humidity',\n",
    "                    mode='multiplicative',\n",
    "                    prior_scale=10 ** hum_prior)\n",
    "    m.add_regressor('dew.point',\n",
    "                    mode='multiplicative',\n",
    "                    prior_scale=10 ** dp_prior)\n",
    "    \n",
    "    m.fit(df)\n",
    "    df_cv = cross_validation(m,                                                  \n",
    "                             initial='90000 hours',\n",
    "                             period=period,\n",
    "                             horizon='1 hours')\n",
    "    \n",
    "    if metric == 'rmse':\n",
    "        df_cv_rmse = ((df_cv.y - df_cv.yhat) ** 2).mean() ** .5\n",
    "        return - df_cv_rmse\n",
    "    else:\n",
    "        df_p = performance_metrics(df_cv)\n",
    "        return m, df_p[['horizon','rmse','mae','mape']]\n",
    "    "
   ]
  },
  {
   "cell_type": "markdown",
   "metadata": {},
   "source": [
    "**WARNING** Next cell may take quite a while to run.\n",
    "\n",
    "Run time can be reduced by \n",
    " * decreasing `init_points` and/or `n_iter` in the `optimizer.maximize` call below\n",
    " or\n",
    " * increasing `period` (up to maximum of '15000 hours') in the `cross_validation` call in the `prophet_f` function above.\n",
    " \n",
    "**NOTE** It may be necessary to scroll down through the runtime messages to find the optimised parameters.\n",
    "Or, set `verbose=0` in the `BayesianOptimization` call below."
   ]
  },
  {
   "cell_type": "code",
   "execution_count": 11,
   "metadata": {},
   "outputs": [
    {
     "name": "stdout",
     "output_type": "stream",
     "text": [
      "|   iter    |  target   | daily_... | dp_prior  | hum_prior | yearly... |\n",
      "-------------------------------------------------------------------------\n"
     ]
    },
    {
     "name": "stderr",
     "output_type": "stream",
     "text": [
      "INFO:fbprophet:Found custom seasonality named 'yearly', disabling built-in 'yearly' seasonality.\n",
      "INFO:fbprophet:Found custom seasonality named 'daily', disabling built-in 'daily' seasonality.\n",
      "INFO:fbprophet:Making 11 forecasts with cutoffs between 2018-11-25 09:00:00 and 2020-01-16 01:00:00\n"
     ]
    },
    {
     "data": {
      "application/vnd.jupyter.widget-view+json": {
       "model_id": "c8b964d59ef749dc9705747f7d7ab554",
       "version_major": 2,
       "version_minor": 0
      },
      "text/plain": [
       "HBox(children=(FloatProgress(value=0.0, max=11.0), HTML(value='')))"
      ]
     },
     "metadata": {},
     "output_type": "display_data"
    },
    {
     "name": "stdout",
     "output_type": "stream",
     "text": [
      "\n",
      "| \u001b[0m 1       \u001b[0m | \u001b[0m-5.892   \u001b[0m | \u001b[0m-0.3319  \u001b[0m | \u001b[0m 0.8813  \u001b[0m | \u001b[0m-2.0     \u001b[0m | \u001b[0m-0.7907  \u001b[0m |\n"
     ]
    },
    {
     "name": "stderr",
     "output_type": "stream",
     "text": [
      "INFO:fbprophet:Found custom seasonality named 'yearly', disabling built-in 'yearly' seasonality.\n",
      "INFO:fbprophet:Found custom seasonality named 'daily', disabling built-in 'daily' seasonality.\n",
      "INFO:fbprophet:Making 11 forecasts with cutoffs between 2018-11-25 09:00:00 and 2020-01-16 01:00:00\n"
     ]
    },
    {
     "data": {
      "application/vnd.jupyter.widget-view+json": {
       "model_id": "4428ed0074494fdfaae36a95042ee1ee",
       "version_major": 2,
       "version_minor": 0
      },
      "text/plain": [
       "HBox(children=(FloatProgress(value=0.0, max=11.0), HTML(value='')))"
      ]
     },
     "metadata": {},
     "output_type": "display_data"
    },
    {
     "name": "stdout",
     "output_type": "stream",
     "text": [
      "\n",
      "| \u001b[0m 2       \u001b[0m | \u001b[0m-5.894   \u001b[0m | \u001b[0m-1.413   \u001b[0m | \u001b[0m-1.631   \u001b[0m | \u001b[0m-1.255   \u001b[0m | \u001b[0m-0.6178  \u001b[0m |\n"
     ]
    },
    {
     "name": "stderr",
     "output_type": "stream",
     "text": [
      "INFO:fbprophet:Found custom seasonality named 'yearly', disabling built-in 'yearly' seasonality.\n",
      "INFO:fbprophet:Found custom seasonality named 'daily', disabling built-in 'daily' seasonality.\n",
      "INFO:fbprophet:Making 11 forecasts with cutoffs between 2018-11-25 09:00:00 and 2020-01-16 01:00:00\n"
     ]
    },
    {
     "data": {
      "application/vnd.jupyter.widget-view+json": {
       "model_id": "82347a29be2b48aca6a259504ad52b80",
       "version_major": 2,
       "version_minor": 0
      },
      "text/plain": [
       "HBox(children=(FloatProgress(value=0.0, max=11.0), HTML(value='')))"
      ]
     },
     "metadata": {},
     "output_type": "display_data"
    },
    {
     "name": "stdout",
     "output_type": "stream",
     "text": [
      "\n",
      "| \u001b[0m 3       \u001b[0m | \u001b[0m-5.896   \u001b[0m | \u001b[0m-0.4129  \u001b[0m | \u001b[0m 0.1553  \u001b[0m | \u001b[0m-0.3232  \u001b[0m | \u001b[0m 0.7409  \u001b[0m |\n"
     ]
    },
    {
     "name": "stderr",
     "output_type": "stream",
     "text": [
      "INFO:fbprophet:Found custom seasonality named 'yearly', disabling built-in 'yearly' seasonality.\n",
      "INFO:fbprophet:Found custom seasonality named 'daily', disabling built-in 'daily' seasonality.\n",
      "INFO:fbprophet:Making 11 forecasts with cutoffs between 2018-11-25 09:00:00 and 2020-01-16 01:00:00\n"
     ]
    },
    {
     "data": {
      "application/vnd.jupyter.widget-view+json": {
       "model_id": "4e016eac79914bfe92fc0ebdfcefb9e2",
       "version_major": 2,
       "version_minor": 0
      },
      "text/plain": [
       "HBox(children=(FloatProgress(value=0.0, max=11.0), HTML(value='')))"
      ]
     },
     "metadata": {},
     "output_type": "display_data"
    },
    {
     "name": "stdout",
     "output_type": "stream",
     "text": [
      "\n",
      "| \u001b[0m 4       \u001b[0m | \u001b[0m-5.893   \u001b[0m | \u001b[0m-1.182   \u001b[0m | \u001b[0m 1.512   \u001b[0m | \u001b[0m-1.89    \u001b[0m | \u001b[0m 0.6819  \u001b[0m |\n"
     ]
    },
    {
     "name": "stderr",
     "output_type": "stream",
     "text": [
      "INFO:fbprophet:Found custom seasonality named 'yearly', disabling built-in 'yearly' seasonality.\n",
      "INFO:fbprophet:Found custom seasonality named 'daily', disabling built-in 'daily' seasonality.\n",
      "INFO:fbprophet:Making 11 forecasts with cutoffs between 2018-11-25 09:00:00 and 2020-01-16 01:00:00\n"
     ]
    },
    {
     "data": {
      "application/vnd.jupyter.widget-view+json": {
       "model_id": "45cc310a39484b479e5eb41fadd00f14",
       "version_major": 2,
       "version_minor": 0
      },
      "text/plain": [
       "HBox(children=(FloatProgress(value=0.0, max=11.0), HTML(value='')))"
      ]
     },
     "metadata": {},
     "output_type": "display_data"
    },
    {
     "name": "stdout",
     "output_type": "stream",
     "text": [
      "\n",
      "| \u001b[0m 5       \u001b[0m | \u001b[0m-5.896   \u001b[0m | \u001b[0m-0.3308  \u001b[0m | \u001b[0m 0.2348  \u001b[0m | \u001b[0m-1.438   \u001b[0m | \u001b[0m-1.208   \u001b[0m |\n"
     ]
    },
    {
     "name": "stderr",
     "output_type": "stream",
     "text": [
      "INFO:fbprophet:Found custom seasonality named 'yearly', disabling built-in 'yearly' seasonality.\n",
      "INFO:fbprophet:Found custom seasonality named 'daily', disabling built-in 'daily' seasonality.\n",
      "INFO:fbprophet:Making 11 forecasts with cutoffs between 2018-11-25 09:00:00 and 2020-01-16 01:00:00\n"
     ]
    },
    {
     "data": {
      "application/vnd.jupyter.widget-view+json": {
       "model_id": "f41efad262ba4442ab930553e6c95a99",
       "version_major": 2,
       "version_minor": 0
      },
      "text/plain": [
       "HBox(children=(FloatProgress(value=0.0, max=11.0), HTML(value='')))"
      ]
     },
     "metadata": {},
     "output_type": "display_data"
    },
    {
     "name": "stdout",
     "output_type": "stream",
     "text": [
      "\n",
      "| \u001b[0m 6       \u001b[0m | \u001b[0m-5.896   \u001b[0m | \u001b[0m 1.203   \u001b[0m | \u001b[0m 1.873   \u001b[0m | \u001b[0m-0.7463  \u001b[0m | \u001b[0m 0.7693  \u001b[0m |\n"
     ]
    },
    {
     "name": "stderr",
     "output_type": "stream",
     "text": [
      "INFO:fbprophet:Found custom seasonality named 'yearly', disabling built-in 'yearly' seasonality.\n",
      "INFO:fbprophet:Found custom seasonality named 'daily', disabling built-in 'daily' seasonality.\n",
      "INFO:fbprophet:Making 11 forecasts with cutoffs between 2018-11-25 09:00:00 and 2020-01-16 01:00:00\n"
     ]
    },
    {
     "data": {
      "application/vnd.jupyter.widget-view+json": {
       "model_id": "4436802a45f24f15b51a98577f7715fa",
       "version_major": 2,
       "version_minor": 0
      },
      "text/plain": [
       "HBox(children=(FloatProgress(value=0.0, max=11.0), HTML(value='')))"
      ]
     },
     "metadata": {},
     "output_type": "display_data"
    },
    {
     "name": "stdout",
     "output_type": "stream",
     "text": [
      "\n",
      "| \u001b[0m 7       \u001b[0m | \u001b[0m-5.895   \u001b[0m | \u001b[0m 1.506   \u001b[0m | \u001b[0m 1.578   \u001b[0m | \u001b[0m-1.66    \u001b[0m | \u001b[0m-1.844   \u001b[0m |\n"
     ]
    },
    {
     "name": "stderr",
     "output_type": "stream",
     "text": [
      "INFO:fbprophet:Found custom seasonality named 'yearly', disabling built-in 'yearly' seasonality.\n",
      "INFO:fbprophet:Found custom seasonality named 'daily', disabling built-in 'daily' seasonality.\n",
      "INFO:fbprophet:Making 11 forecasts with cutoffs between 2018-11-25 09:00:00 and 2020-01-16 01:00:00\n"
     ]
    },
    {
     "data": {
      "application/vnd.jupyter.widget-view+json": {
       "model_id": "0491a3d0db104e40a5ea84f4594e5be6",
       "version_major": 2,
       "version_minor": 0
      },
      "text/plain": [
       "HBox(children=(FloatProgress(value=0.0, max=11.0), HTML(value='')))"
      ]
     },
     "metadata": {},
     "output_type": "display_data"
    },
    {
     "name": "stdout",
     "output_type": "stream",
     "text": [
      "\n",
      "| \u001b[0m 8       \u001b[0m | \u001b[0m-5.896   \u001b[0m | \u001b[0m-1.321   \u001b[0m | \u001b[0m 1.513   \u001b[0m | \u001b[0m-1.607   \u001b[0m | \u001b[0m-0.3156  \u001b[0m |\n"
     ]
    },
    {
     "name": "stderr",
     "output_type": "stream",
     "text": [
      "INFO:fbprophet:Found custom seasonality named 'yearly', disabling built-in 'yearly' seasonality.\n",
      "INFO:fbprophet:Found custom seasonality named 'daily', disabling built-in 'daily' seasonality.\n",
      "INFO:fbprophet:Making 11 forecasts with cutoffs between 2018-11-25 09:00:00 and 2020-01-16 01:00:00\n"
     ]
    },
    {
     "data": {
      "application/vnd.jupyter.widget-view+json": {
       "model_id": "30a03bb1254f41adbed5318dd6ff6715",
       "version_major": 2,
       "version_minor": 0
      },
      "text/plain": [
       "HBox(children=(FloatProgress(value=0.0, max=11.0), HTML(value='')))"
      ]
     },
     "metadata": {},
     "output_type": "display_data"
    },
    {
     "name": "stdout",
     "output_type": "stream",
     "text": [
      "\n",
      "| \u001b[0m 9       \u001b[0m | \u001b[0m-5.896   \u001b[0m | \u001b[0m 1.832   \u001b[0m | \u001b[0m 0.1327  \u001b[0m | \u001b[0m 0.7675  \u001b[0m | \u001b[0m-0.7379  \u001b[0m |\n"
     ]
    },
    {
     "name": "stderr",
     "output_type": "stream",
     "text": [
      "INFO:fbprophet:Found custom seasonality named 'yearly', disabling built-in 'yearly' seasonality.\n",
      "INFO:fbprophet:Found custom seasonality named 'daily', disabling built-in 'daily' seasonality.\n",
      "INFO:fbprophet:Making 11 forecasts with cutoffs between 2018-11-25 09:00:00 and 2020-01-16 01:00:00\n"
     ]
    },
    {
     "data": {
      "application/vnd.jupyter.widget-view+json": {
       "model_id": "c1a769fea78f43759ac49b79eb7b2478",
       "version_major": 2,
       "version_minor": 0
      },
      "text/plain": [
       "HBox(children=(FloatProgress(value=0.0, max=11.0), HTML(value='')))"
      ]
     },
     "metadata": {},
     "output_type": "display_data"
    },
    {
     "name": "stdout",
     "output_type": "stream",
     "text": [
      "\n",
      "| \u001b[0m 10      \u001b[0m | \u001b[0m-5.893   \u001b[0m | \u001b[0m 0.746   \u001b[0m | \u001b[0m 1.339   \u001b[0m | \u001b[0m-1.927   \u001b[0m | \u001b[0m 1.001   \u001b[0m |\n",
      "bounds: \n",
      "[[-2.  2.]\n",
      " [-2.  2.]\n",
      " [-2.  2.]\n",
      " [-2.  2.]]\n"
     ]
    },
    {
     "name": "stderr",
     "output_type": "stream",
     "text": [
      "INFO:fbprophet:Found custom seasonality named 'yearly', disabling built-in 'yearly' seasonality.\n",
      "INFO:fbprophet:Found custom seasonality named 'daily', disabling built-in 'daily' seasonality.\n",
      "INFO:fbprophet:Making 11 forecasts with cutoffs between 2018-11-25 09:00:00 and 2020-01-16 01:00:00\n"
     ]
    },
    {
     "data": {
      "application/vnd.jupyter.widget-view+json": {
       "model_id": "01ce5437330a48b882d4a5512f4e88db",
       "version_major": 2,
       "version_minor": 0
      },
      "text/plain": [
       "HBox(children=(FloatProgress(value=0.0, max=11.0), HTML(value='')))"
      ]
     },
     "metadata": {},
     "output_type": "display_data"
    },
    {
     "name": "stdout",
     "output_type": "stream",
     "text": [
      "\n",
      "| \u001b[0m 11      \u001b[0m | \u001b[0m-5.896   \u001b[0m | \u001b[0m-1.969   \u001b[0m | \u001b[0m-1.353   \u001b[0m | \u001b[0m 0.8375  \u001b[0m | \u001b[0m 1.059   \u001b[0m |\n",
      "bounds: \n",
      "[[-2.  2.]\n",
      " [-2.  2.]\n",
      " [-2.  2.]\n",
      " [-2.  2.]]\n"
     ]
    },
    {
     "name": "stderr",
     "output_type": "stream",
     "text": [
      "INFO:fbprophet:Found custom seasonality named 'yearly', disabling built-in 'yearly' seasonality.\n",
      "INFO:fbprophet:Found custom seasonality named 'daily', disabling built-in 'daily' seasonality.\n",
      "INFO:fbprophet:Making 11 forecasts with cutoffs between 2018-11-25 09:00:00 and 2020-01-16 01:00:00\n"
     ]
    },
    {
     "data": {
      "application/vnd.jupyter.widget-view+json": {
       "model_id": "3c7a76996c064213a9168e99855ef567",
       "version_major": 2,
       "version_minor": 0
      },
      "text/plain": [
       "HBox(children=(FloatProgress(value=0.0, max=11.0), HTML(value='')))"
      ]
     },
     "metadata": {},
     "output_type": "display_data"
    },
    {
     "name": "stdout",
     "output_type": "stream",
     "text": [
      "\n",
      "| \u001b[0m 12      \u001b[0m | \u001b[0m-5.896   \u001b[0m | \u001b[0m-0.2298  \u001b[0m | \u001b[0m-0.3461  \u001b[0m | \u001b[0m 0.1912  \u001b[0m | \u001b[0m 0.9768  \u001b[0m |\n",
      "bounds: \n",
      "[[-2.  2.]\n",
      " [-2.  2.]\n",
      " [-2.  2.]\n",
      " [-2.  2.]]\n"
     ]
    },
    {
     "name": "stderr",
     "output_type": "stream",
     "text": [
      "INFO:fbprophet:Found custom seasonality named 'yearly', disabling built-in 'yearly' seasonality.\n",
      "INFO:fbprophet:Found custom seasonality named 'daily', disabling built-in 'daily' seasonality.\n",
      "INFO:fbprophet:Making 11 forecasts with cutoffs between 2018-11-25 09:00:00 and 2020-01-16 01:00:00\n"
     ]
    },
    {
     "data": {
      "application/vnd.jupyter.widget-view+json": {
       "model_id": "404fcfee21644dca95a9cd861a4bdd59",
       "version_major": 2,
       "version_minor": 0
      },
      "text/plain": [
       "HBox(children=(FloatProgress(value=0.0, max=11.0), HTML(value='')))"
      ]
     },
     "metadata": {},
     "output_type": "display_data"
    },
    {
     "name": "stdout",
     "output_type": "stream",
     "text": [
      "\n",
      "| \u001b[0m 13      \u001b[0m | \u001b[0m-5.896   \u001b[0m | \u001b[0m 0.4935  \u001b[0m | \u001b[0m-1.107   \u001b[0m | \u001b[0m 1.836   \u001b[0m | \u001b[0m 1.219   \u001b[0m |\n",
      "bounds: \n",
      "[[-2.  2.]\n",
      " [-2.  2.]\n",
      " [-2.  2.]\n",
      " [-2.  2.]]\n"
     ]
    },
    {
     "name": "stderr",
     "output_type": "stream",
     "text": [
      "INFO:fbprophet:Found custom seasonality named 'yearly', disabling built-in 'yearly' seasonality.\n",
      "INFO:fbprophet:Found custom seasonality named 'daily', disabling built-in 'daily' seasonality.\n",
      "INFO:fbprophet:Making 11 forecasts with cutoffs between 2018-11-25 09:00:00 and 2020-01-16 01:00:00\n"
     ]
    },
    {
     "data": {
      "application/vnd.jupyter.widget-view+json": {
       "model_id": "1b1769af290f4c308637ce9c7a54c4fc",
       "version_major": 2,
       "version_minor": 0
      },
      "text/plain": [
       "HBox(children=(FloatProgress(value=0.0, max=11.0), HTML(value='')))"
      ]
     },
     "metadata": {},
     "output_type": "display_data"
    },
    {
     "name": "stdout",
     "output_type": "stream",
     "text": [
      "\n",
      "| \u001b[0m 14      \u001b[0m | \u001b[0m-5.896   \u001b[0m | \u001b[0m-1.915   \u001b[0m | \u001b[0m 1.232   \u001b[0m | \u001b[0m 1.859   \u001b[0m | \u001b[0m 0.8083  \u001b[0m |\n",
      "bounds: \n",
      "[[-2.  2.]\n",
      " [-2.  2.]\n",
      " [-2.  2.]\n",
      " [-2.  2.]]\n"
     ]
    },
    {
     "name": "stderr",
     "output_type": "stream",
     "text": [
      "INFO:fbprophet:Found custom seasonality named 'yearly', disabling built-in 'yearly' seasonality.\n",
      "INFO:fbprophet:Found custom seasonality named 'daily', disabling built-in 'daily' seasonality.\n",
      "INFO:fbprophet:Making 11 forecasts with cutoffs between 2018-11-25 09:00:00 and 2020-01-16 01:00:00\n"
     ]
    },
    {
     "data": {
      "application/vnd.jupyter.widget-view+json": {
       "model_id": "10370a10aba44ddca0c16d893031c6a9",
       "version_major": 2,
       "version_minor": 0
      },
      "text/plain": [
       "HBox(children=(FloatProgress(value=0.0, max=11.0), HTML(value='')))"
      ]
     },
     "metadata": {},
     "output_type": "display_data"
    },
    {
     "name": "stdout",
     "output_type": "stream",
     "text": [
      "\n",
      "| \u001b[95m 15      \u001b[0m | \u001b[95m-5.891   \u001b[0m | \u001b[95m-0.5423  \u001b[0m | \u001b[95m-1.91    \u001b[0m | \u001b[95m-1.39    \u001b[0m | \u001b[95m 1.886   \u001b[0m |\n",
      "bounds: \n",
      "[[-2.  2.]\n",
      " [-2.  2.]\n",
      " [-2.  2.]\n",
      " [-2.  2.]]\n"
     ]
    },
    {
     "name": "stderr",
     "output_type": "stream",
     "text": [
      "INFO:fbprophet:Found custom seasonality named 'yearly', disabling built-in 'yearly' seasonality.\n",
      "INFO:fbprophet:Found custom seasonality named 'daily', disabling built-in 'daily' seasonality.\n",
      "INFO:fbprophet:Making 11 forecasts with cutoffs between 2018-11-25 09:00:00 and 2020-01-16 01:00:00\n"
     ]
    },
    {
     "data": {
      "application/vnd.jupyter.widget-view+json": {
       "model_id": "7044848563304c91872ebd30b8d11379",
       "version_major": 2,
       "version_minor": 0
      },
      "text/plain": [
       "HBox(children=(FloatProgress(value=0.0, max=11.0), HTML(value='')))"
      ]
     },
     "metadata": {},
     "output_type": "display_data"
    },
    {
     "name": "stdout",
     "output_type": "stream",
     "text": [
      "\n",
      "| \u001b[0m 16      \u001b[0m | \u001b[0m-5.892   \u001b[0m | \u001b[0m-0.2874  \u001b[0m | \u001b[0m 0.8332  \u001b[0m | \u001b[0m-1.989   \u001b[0m | \u001b[0m-0.8146  \u001b[0m |\n",
      "bounds: \n",
      "[[-2.  2.]\n",
      " [-2.  2.]\n",
      " [-2.  2.]\n",
      " [-2.  2.]]\n"
     ]
    },
    {
     "name": "stderr",
     "output_type": "stream",
     "text": [
      "INFO:fbprophet:Found custom seasonality named 'yearly', disabling built-in 'yearly' seasonality.\n",
      "INFO:fbprophet:Found custom seasonality named 'daily', disabling built-in 'daily' seasonality.\n",
      "INFO:fbprophet:Making 11 forecasts with cutoffs between 2018-11-25 09:00:00 and 2020-01-16 01:00:00\n"
     ]
    },
    {
     "data": {
      "application/vnd.jupyter.widget-view+json": {
       "model_id": "231f3a3b3ab14b1f8fd8a4f5baaa8acf",
       "version_major": 2,
       "version_minor": 0
      },
      "text/plain": [
       "HBox(children=(FloatProgress(value=0.0, max=11.0), HTML(value='')))"
      ]
     },
     "metadata": {},
     "output_type": "display_data"
    },
    {
     "name": "stdout",
     "output_type": "stream",
     "text": [
      "\n",
      "| \u001b[95m 17      \u001b[0m | \u001b[95m-5.886   \u001b[0m | \u001b[95m-0.3065  \u001b[0m | \u001b[95m-2.0     \u001b[0m | \u001b[95m-1.753   \u001b[0m | \u001b[95m 2.0     \u001b[0m |\n",
      "bounds: \n",
      "[[-2.  2.]\n",
      " [-2.  2.]\n",
      " [-2.  2.]\n",
      " [-2.  2.]]\n"
     ]
    },
    {
     "name": "stderr",
     "output_type": "stream",
     "text": [
      "INFO:fbprophet:Found custom seasonality named 'yearly', disabling built-in 'yearly' seasonality.\n",
      "INFO:fbprophet:Found custom seasonality named 'daily', disabling built-in 'daily' seasonality.\n",
      "INFO:fbprophet:Making 11 forecasts with cutoffs between 2018-11-25 09:00:00 and 2020-01-16 01:00:00\n"
     ]
    },
    {
     "data": {
      "application/vnd.jupyter.widget-view+json": {
       "model_id": "b6e60801375f4b7b8934778eca903b92",
       "version_major": 2,
       "version_minor": 0
      },
      "text/plain": [
       "HBox(children=(FloatProgress(value=0.0, max=11.0), HTML(value='')))"
      ]
     },
     "metadata": {},
     "output_type": "display_data"
    },
    {
     "name": "stdout",
     "output_type": "stream",
     "text": [
      "\n",
      "| \u001b[95m 18      \u001b[0m | \u001b[95m-5.885   \u001b[0m | \u001b[95m-0.1552  \u001b[0m | \u001b[95m-1.97    \u001b[0m | \u001b[95m-1.977   \u001b[0m | \u001b[95m 1.861   \u001b[0m |\n",
      "bounds: \n",
      "[[-2.  2.]\n",
      " [-2.  2.]\n",
      " [-2.  2.]\n",
      " [-2.  2.]]\n"
     ]
    },
    {
     "name": "stderr",
     "output_type": "stream",
     "text": [
      "INFO:fbprophet:Found custom seasonality named 'yearly', disabling built-in 'yearly' seasonality.\n",
      "INFO:fbprophet:Found custom seasonality named 'daily', disabling built-in 'daily' seasonality.\n",
      "INFO:fbprophet:Making 11 forecasts with cutoffs between 2018-11-25 09:00:00 and 2020-01-16 01:00:00\n"
     ]
    },
    {
     "data": {
      "application/vnd.jupyter.widget-view+json": {
       "model_id": "afa9d713d76d48969242cd538ff71631",
       "version_major": 2,
       "version_minor": 0
      },
      "text/plain": [
       "HBox(children=(FloatProgress(value=0.0, max=11.0), HTML(value='')))"
      ]
     },
     "metadata": {},
     "output_type": "display_data"
    },
    {
     "name": "stdout",
     "output_type": "stream",
     "text": [
      "\n",
      "| \u001b[95m 19      \u001b[0m | \u001b[95m-5.883   \u001b[0m | \u001b[95m 0.4908  \u001b[0m | \u001b[95m-2.0     \u001b[0m | \u001b[95m-2.0     \u001b[0m | \u001b[95m 2.0     \u001b[0m |\n",
      "bounds: \n",
      "[[-2.  2.]\n",
      " [-2.  2.]\n",
      " [-2.  2.]\n",
      " [-2.  2.]]\n"
     ]
    },
    {
     "name": "stderr",
     "output_type": "stream",
     "text": [
      "INFO:fbprophet:Found custom seasonality named 'yearly', disabling built-in 'yearly' seasonality.\n",
      "INFO:fbprophet:Found custom seasonality named 'daily', disabling built-in 'daily' seasonality.\n",
      "INFO:fbprophet:Making 11 forecasts with cutoffs between 2018-11-25 09:00:00 and 2020-01-16 01:00:00\n"
     ]
    },
    {
     "data": {
      "application/vnd.jupyter.widget-view+json": {
       "model_id": "b60c725155334dd5a12b4315f89e531f",
       "version_major": 2,
       "version_minor": 0
      },
      "text/plain": [
       "HBox(children=(FloatProgress(value=0.0, max=11.0), HTML(value='')))"
      ]
     },
     "metadata": {},
     "output_type": "display_data"
    },
    {
     "name": "stdout",
     "output_type": "stream",
     "text": [
      "\n",
      "| \u001b[0m 20      \u001b[0m | \u001b[0m-5.883   \u001b[0m | \u001b[0m 1.768   \u001b[0m | \u001b[0m-2.0     \u001b[0m | \u001b[0m-2.0     \u001b[0m | \u001b[0m 2.0     \u001b[0m |\n",
      "=========================================================================\n",
      "\n",
      "Max params:\n",
      "{'target': -5.883217196442895, 'params': {'daily_prior': 0.4908015707468804, 'dp_prior': -2.0, 'hum_prior': -2.0, 'yearly_prior': 2.0}}\n"
     ]
    }
   ],
   "source": [
    "# daily_prior_scale calculated as 10 ** daily_prior in prophet_f\n",
    "pbounds = {'daily_prior': (-2, 2), 'yearly_prior': (-2, 2),\n",
    "           'hum_prior':   (-2, 2), 'dp_prior':     (-2, 2)}\n",
    "\n",
    "optimizer = BayesianOptimization(\n",
    "    f=prophet_f,\n",
    "    pbounds=pbounds,\n",
    "    verbose=2,  # verbose = 1 prints only when a maximum is observed, verbose = 0 is silent\n",
    "    random_state=1\n",
    ")\n",
    "\n",
    "optimizer.maximize(\n",
    "    init_points=10,\n",
    "    n_iter=10)\n",
    "\n",
    "print(\"\\nMax params:\")\n",
    "print(optimizer.max)\n"
   ]
  },
  {
   "cell_type": "markdown",
   "metadata": {},
   "source": [
    "`yearly_prior` has converged to the maximum limit (2), `dp_prior` and `hum_prior` have converged to the minimum limit (-2).\n",
    "Anecdotally, it seemed like the Bayesian optimisation was bouncing around in a shallow basin.\n",
    "`daily_prior` may or may not have converged.  We can check by setting new bounds to optimise only `daily_prior`."
   ]
  },
  {
   "cell_type": "code",
   "execution_count": 13,
   "metadata": {},
   "outputs": [
    {
     "name": "stdout",
     "output_type": "stream",
     "text": [
      "|   iter    |  target   | daily_... | dp_prior  | hum_prior | yearly... |\n",
      "-------------------------------------------------------------------------\n",
      "bounds: \n",
      "[[-2.  2.]\n",
      " [-2. -2.]\n",
      " [-2. -2.]\n",
      " [ 2.  2.]]\n"
     ]
    },
    {
     "name": "stderr",
     "output_type": "stream",
     "text": [
      "/usr/local/lib/python3.8/site-packages/scipy/optimize/_numdiff.py:519: RuntimeWarning: invalid value encountered in true_divide\n",
      "  J_transposed[i] = df / dx\n",
      "/usr/local/lib/python3.8/site-packages/scipy/optimize/_numdiff.py:519: RuntimeWarning: invalid value encountered in true_divide\n",
      "  J_transposed[i] = df / dx\n",
      "/usr/local/lib/python3.8/site-packages/scipy/optimize/_numdiff.py:519: RuntimeWarning: invalid value encountered in true_divide\n",
      "  J_transposed[i] = df / dx\n",
      "/usr/local/lib/python3.8/site-packages/scipy/optimize/_numdiff.py:519: RuntimeWarning: invalid value encountered in true_divide\n",
      "  J_transposed[i] = df / dx\n",
      "/usr/local/lib/python3.8/site-packages/scipy/optimize/_numdiff.py:519: RuntimeWarning: invalid value encountered in true_divide\n",
      "  J_transposed[i] = df / dx\n",
      "/usr/local/lib/python3.8/site-packages/scipy/optimize/_numdiff.py:519: RuntimeWarning: invalid value encountered in true_divide\n",
      "  J_transposed[i] = df / dx\n",
      "/usr/local/lib/python3.8/site-packages/scipy/optimize/_numdiff.py:519: RuntimeWarning: invalid value encountered in true_divide\n",
      "  J_transposed[i] = df / dx\n",
      "/usr/local/lib/python3.8/site-packages/scipy/optimize/_numdiff.py:519: RuntimeWarning: invalid value encountered in true_divide\n",
      "  J_transposed[i] = df / dx\n",
      "/usr/local/lib/python3.8/site-packages/scipy/optimize/_numdiff.py:519: RuntimeWarning: invalid value encountered in true_divide\n",
      "  J_transposed[i] = df / dx\n",
      "/usr/local/lib/python3.8/site-packages/scipy/optimize/_numdiff.py:519: RuntimeWarning: invalid value encountered in true_divide\n",
      "  J_transposed[i] = df / dx\n",
      "/usr/local/lib/python3.8/site-packages/scipy/optimize/_numdiff.py:519: RuntimeWarning: invalid value encountered in true_divide\n",
      "  J_transposed[i] = df / dx\n",
      "/usr/local/lib/python3.8/site-packages/scipy/optimize/_numdiff.py:519: RuntimeWarning: invalid value encountered in true_divide\n",
      "  J_transposed[i] = df / dx\n",
      "/usr/local/lib/python3.8/site-packages/scipy/optimize/_numdiff.py:519: RuntimeWarning: invalid value encountered in true_divide\n",
      "  J_transposed[i] = df / dx\n",
      "/usr/local/lib/python3.8/site-packages/scipy/optimize/_numdiff.py:519: RuntimeWarning: invalid value encountered in true_divide\n",
      "  J_transposed[i] = df / dx\n",
      "/usr/local/lib/python3.8/site-packages/scipy/optimize/_numdiff.py:519: RuntimeWarning: invalid value encountered in true_divide\n",
      "  J_transposed[i] = df / dx\n",
      "/usr/local/lib/python3.8/site-packages/scipy/optimize/_numdiff.py:519: RuntimeWarning: invalid value encountered in true_divide\n",
      "  J_transposed[i] = df / dx\n",
      "/usr/local/lib/python3.8/site-packages/scipy/optimize/_numdiff.py:519: RuntimeWarning: invalid value encountered in true_divide\n",
      "  J_transposed[i] = df / dx\n",
      "/usr/local/lib/python3.8/site-packages/scipy/optimize/_numdiff.py:519: RuntimeWarning: invalid value encountered in true_divide\n",
      "  J_transposed[i] = df / dx\n",
      "/usr/local/lib/python3.8/site-packages/scipy/optimize/_numdiff.py:519: RuntimeWarning: invalid value encountered in true_divide\n",
      "  J_transposed[i] = df / dx\n",
      "/usr/local/lib/python3.8/site-packages/scipy/optimize/_numdiff.py:519: RuntimeWarning: invalid value encountered in true_divide\n",
      "  J_transposed[i] = df / dx\n",
      "/usr/local/lib/python3.8/site-packages/scipy/optimize/_numdiff.py:519: RuntimeWarning: invalid value encountered in true_divide\n",
      "  J_transposed[i] = df / dx\n",
      "/usr/local/lib/python3.8/site-packages/scipy/optimize/_numdiff.py:519: RuntimeWarning: invalid value encountered in true_divide\n",
      "  J_transposed[i] = df / dx\n",
      "/usr/local/lib/python3.8/site-packages/scipy/optimize/_numdiff.py:519: RuntimeWarning: invalid value encountered in true_divide\n",
      "  J_transposed[i] = df / dx\n",
      "/usr/local/lib/python3.8/site-packages/scipy/optimize/_numdiff.py:519: RuntimeWarning: invalid value encountered in true_divide\n",
      "  J_transposed[i] = df / dx\n",
      "/usr/local/lib/python3.8/site-packages/scipy/optimize/_numdiff.py:519: RuntimeWarning: invalid value encountered in true_divide\n",
      "  J_transposed[i] = df / dx\n",
      "/usr/local/lib/python3.8/site-packages/scipy/optimize/_numdiff.py:519: RuntimeWarning: invalid value encountered in true_divide\n",
      "  J_transposed[i] = df / dx\n",
      "/usr/local/lib/python3.8/site-packages/scipy/optimize/_numdiff.py:519: RuntimeWarning: invalid value encountered in true_divide\n",
      "  J_transposed[i] = df / dx\n",
      "/usr/local/lib/python3.8/site-packages/scipy/optimize/_numdiff.py:519: RuntimeWarning: invalid value encountered in true_divide\n",
      "  J_transposed[i] = df / dx\n",
      "/usr/local/lib/python3.8/site-packages/scipy/optimize/_numdiff.py:519: RuntimeWarning: invalid value encountered in true_divide\n",
      "  J_transposed[i] = df / dx\n",
      "/usr/local/lib/python3.8/site-packages/scipy/optimize/_numdiff.py:519: RuntimeWarning: invalid value encountered in true_divide\n",
      "  J_transposed[i] = df / dx\n",
      "/usr/local/lib/python3.8/site-packages/scipy/optimize/_numdiff.py:519: RuntimeWarning: invalid value encountered in true_divide\n",
      "  J_transposed[i] = df / dx\n",
      "/usr/local/lib/python3.8/site-packages/scipy/optimize/_numdiff.py:519: RuntimeWarning: invalid value encountered in true_divide\n",
      "  J_transposed[i] = df / dx\n",
      "/usr/local/lib/python3.8/site-packages/scipy/optimize/_numdiff.py:519: RuntimeWarning: invalid value encountered in true_divide\n",
      "  J_transposed[i] = df / dx\n",
      "/usr/local/lib/python3.8/site-packages/scipy/optimize/_numdiff.py:519: RuntimeWarning: invalid value encountered in true_divide\n",
      "  J_transposed[i] = df / dx\n",
      "/usr/local/lib/python3.8/site-packages/scipy/optimize/_numdiff.py:519: RuntimeWarning: invalid value encountered in true_divide\n",
      "  J_transposed[i] = df / dx\n",
      "/usr/local/lib/python3.8/site-packages/scipy/optimize/_numdiff.py:519: RuntimeWarning: invalid value encountered in true_divide\n",
      "  J_transposed[i] = df / dx\n",
      "/usr/local/lib/python3.8/site-packages/scipy/optimize/_numdiff.py:519: RuntimeWarning: invalid value encountered in true_divide\n",
      "  J_transposed[i] = df / dx\n",
      "/usr/local/lib/python3.8/site-packages/scipy/optimize/_numdiff.py:519: RuntimeWarning: invalid value encountered in true_divide\n",
      "  J_transposed[i] = df / dx\n",
      "/usr/local/lib/python3.8/site-packages/scipy/optimize/_numdiff.py:519: RuntimeWarning: invalid value encountered in true_divide\n",
      "  J_transposed[i] = df / dx\n",
      "/usr/local/lib/python3.8/site-packages/scipy/optimize/_numdiff.py:519: RuntimeWarning: invalid value encountered in true_divide\n",
      "  J_transposed[i] = df / dx\n",
      "/usr/local/lib/python3.8/site-packages/scipy/optimize/_numdiff.py:519: RuntimeWarning: invalid value encountered in true_divide\n",
      "  J_transposed[i] = df / dx\n",
      "/usr/local/lib/python3.8/site-packages/scipy/optimize/_numdiff.py:519: RuntimeWarning: invalid value encountered in true_divide\n",
      "  J_transposed[i] = df / dx\n",
      "/usr/local/lib/python3.8/site-packages/scipy/optimize/_numdiff.py:519: RuntimeWarning: invalid value encountered in true_divide\n",
      "  J_transposed[i] = df / dx\n",
      "/usr/local/lib/python3.8/site-packages/scipy/optimize/_numdiff.py:519: RuntimeWarning: invalid value encountered in true_divide\n",
      "  J_transposed[i] = df / dx\n",
      "/usr/local/lib/python3.8/site-packages/scipy/optimize/_numdiff.py:519: RuntimeWarning: invalid value encountered in true_divide\n",
      "  J_transposed[i] = df / dx\n",
      "/usr/local/lib/python3.8/site-packages/scipy/optimize/_numdiff.py:519: RuntimeWarning: invalid value encountered in true_divide\n",
      "  J_transposed[i] = df / dx\n",
      "/usr/local/lib/python3.8/site-packages/scipy/optimize/_numdiff.py:519: RuntimeWarning: invalid value encountered in true_divide\n",
      "  J_transposed[i] = df / dx\n",
      "/usr/local/lib/python3.8/site-packages/scipy/optimize/_numdiff.py:519: RuntimeWarning: invalid value encountered in true_divide\n",
      "  J_transposed[i] = df / dx\n",
      "/usr/local/lib/python3.8/site-packages/scipy/optimize/_numdiff.py:519: RuntimeWarning: invalid value encountered in true_divide\n",
      "  J_transposed[i] = df / dx\n",
      "/usr/local/lib/python3.8/site-packages/scipy/optimize/_numdiff.py:519: RuntimeWarning: invalid value encountered in true_divide\n",
      "  J_transposed[i] = df / dx\n",
      "/usr/local/lib/python3.8/site-packages/scipy/optimize/_numdiff.py:519: RuntimeWarning: invalid value encountered in true_divide\n",
      "  J_transposed[i] = df / dx\n",
      "/usr/local/lib/python3.8/site-packages/scipy/optimize/_numdiff.py:519: RuntimeWarning: invalid value encountered in true_divide\n",
      "  J_transposed[i] = df / dx\n",
      "/usr/local/lib/python3.8/site-packages/scipy/optimize/_numdiff.py:519: RuntimeWarning: invalid value encountered in true_divide\n",
      "  J_transposed[i] = df / dx\n",
      "/usr/local/lib/python3.8/site-packages/scipy/optimize/_numdiff.py:519: RuntimeWarning: invalid value encountered in true_divide\n",
      "  J_transposed[i] = df / dx\n",
      "/usr/local/lib/python3.8/site-packages/scipy/optimize/_numdiff.py:519: RuntimeWarning: invalid value encountered in true_divide\n",
      "  J_transposed[i] = df / dx\n",
      "/usr/local/lib/python3.8/site-packages/scipy/optimize/_numdiff.py:519: RuntimeWarning: invalid value encountered in true_divide\n",
      "  J_transposed[i] = df / dx\n",
      "/usr/local/lib/python3.8/site-packages/scipy/optimize/_numdiff.py:519: RuntimeWarning: invalid value encountered in true_divide\n",
      "  J_transposed[i] = df / dx\n",
      "/usr/local/lib/python3.8/site-packages/scipy/optimize/_numdiff.py:519: RuntimeWarning: invalid value encountered in true_divide\n",
      "  J_transposed[i] = df / dx\n",
      "/usr/local/lib/python3.8/site-packages/scipy/optimize/_numdiff.py:519: RuntimeWarning: invalid value encountered in true_divide\n",
      "  J_transposed[i] = df / dx\n",
      "/usr/local/lib/python3.8/site-packages/scipy/optimize/_numdiff.py:519: RuntimeWarning: invalid value encountered in true_divide\n",
      "  J_transposed[i] = df / dx\n"
     ]
    },
    {
     "name": "stderr",
     "output_type": "stream",
     "text": [
      "INFO:fbprophet:Found custom seasonality named 'yearly', disabling built-in 'yearly' seasonality.\n",
      "INFO:fbprophet:Found custom seasonality named 'daily', disabling built-in 'daily' seasonality.\n",
      "INFO:fbprophet:Making 11 forecasts with cutoffs between 2018-11-25 09:00:00 and 2020-01-16 01:00:00\n"
     ]
    },
    {
     "data": {
      "application/vnd.jupyter.widget-view+json": {
       "model_id": "4f7c35701a63433cbc002d97e27fca52",
       "version_major": 2,
       "version_minor": 0
      },
      "text/plain": [
       "HBox(children=(FloatProgress(value=0.0, max=11.0), HTML(value='')))"
      ]
     },
     "metadata": {},
     "output_type": "display_data"
    },
    {
     "name": "stdout",
     "output_type": "stream",
     "text": [
      "\n",
      "| \u001b[0m 21      \u001b[0m | \u001b[0m-5.883   \u001b[0m | \u001b[0m 1.186   \u001b[0m | \u001b[0m-2.0     \u001b[0m | \u001b[0m-2.0     \u001b[0m | \u001b[0m 2.0     \u001b[0m |\n",
      "bounds: \n",
      "[[-2.  2.]\n",
      " [-2. -2.]\n",
      " [-2. -2.]\n",
      " [ 2.  2.]]\n"
     ]
    },
    {
     "name": "stderr",
     "output_type": "stream",
     "text": [
      "/usr/local/lib/python3.8/site-packages/scipy/optimize/_numdiff.py:519: RuntimeWarning: invalid value encountered in true_divide\n",
      "  J_transposed[i] = df / dx\n",
      "/usr/local/lib/python3.8/site-packages/scipy/optimize/_numdiff.py:519: RuntimeWarning: invalid value encountered in true_divide\n",
      "  J_transposed[i] = df / dx\n",
      "/usr/local/lib/python3.8/site-packages/scipy/optimize/_numdiff.py:519: RuntimeWarning: invalid value encountered in true_divide\n",
      "  J_transposed[i] = df / dx\n",
      "/usr/local/lib/python3.8/site-packages/scipy/optimize/_numdiff.py:519: RuntimeWarning: invalid value encountered in true_divide\n",
      "  J_transposed[i] = df / dx\n",
      "/usr/local/lib/python3.8/site-packages/scipy/optimize/_numdiff.py:519: RuntimeWarning: invalid value encountered in true_divide\n",
      "  J_transposed[i] = df / dx\n",
      "/usr/local/lib/python3.8/site-packages/scipy/optimize/_numdiff.py:519: RuntimeWarning: invalid value encountered in true_divide\n",
      "  J_transposed[i] = df / dx\n",
      "/usr/local/lib/python3.8/site-packages/scipy/optimize/_numdiff.py:519: RuntimeWarning: invalid value encountered in true_divide\n",
      "  J_transposed[i] = df / dx\n",
      "/usr/local/lib/python3.8/site-packages/scipy/optimize/_numdiff.py:519: RuntimeWarning: invalid value encountered in true_divide\n",
      "  J_transposed[i] = df / dx\n",
      "/usr/local/lib/python3.8/site-packages/scipy/optimize/_numdiff.py:519: RuntimeWarning: invalid value encountered in true_divide\n",
      "  J_transposed[i] = df / dx\n",
      "/usr/local/lib/python3.8/site-packages/scipy/optimize/_numdiff.py:519: RuntimeWarning: invalid value encountered in true_divide\n",
      "  J_transposed[i] = df / dx\n",
      "/usr/local/lib/python3.8/site-packages/scipy/optimize/_numdiff.py:519: RuntimeWarning: invalid value encountered in true_divide\n",
      "  J_transposed[i] = df / dx\n",
      "/usr/local/lib/python3.8/site-packages/scipy/optimize/_numdiff.py:519: RuntimeWarning: invalid value encountered in true_divide\n",
      "  J_transposed[i] = df / dx\n",
      "/usr/local/lib/python3.8/site-packages/scipy/optimize/_numdiff.py:519: RuntimeWarning: invalid value encountered in true_divide\n",
      "  J_transposed[i] = df / dx\n",
      "/usr/local/lib/python3.8/site-packages/scipy/optimize/_numdiff.py:519: RuntimeWarning: invalid value encountered in true_divide\n",
      "  J_transposed[i] = df / dx\n",
      "/usr/local/lib/python3.8/site-packages/scipy/optimize/_numdiff.py:519: RuntimeWarning: invalid value encountered in true_divide\n",
      "  J_transposed[i] = df / dx\n",
      "/usr/local/lib/python3.8/site-packages/scipy/optimize/_numdiff.py:519: RuntimeWarning: invalid value encountered in true_divide\n",
      "  J_transposed[i] = df / dx\n",
      "/usr/local/lib/python3.8/site-packages/scipy/optimize/_numdiff.py:519: RuntimeWarning: invalid value encountered in true_divide\n",
      "  J_transposed[i] = df / dx\n",
      "/usr/local/lib/python3.8/site-packages/scipy/optimize/_numdiff.py:519: RuntimeWarning: invalid value encountered in true_divide\n",
      "  J_transposed[i] = df / dx\n",
      "/usr/local/lib/python3.8/site-packages/scipy/optimize/_numdiff.py:519: RuntimeWarning: invalid value encountered in true_divide\n",
      "  J_transposed[i] = df / dx\n",
      "/usr/local/lib/python3.8/site-packages/scipy/optimize/_numdiff.py:519: RuntimeWarning: invalid value encountered in true_divide\n",
      "  J_transposed[i] = df / dx\n",
      "/usr/local/lib/python3.8/site-packages/scipy/optimize/_numdiff.py:519: RuntimeWarning: invalid value encountered in true_divide\n",
      "  J_transposed[i] = df / dx\n",
      "/usr/local/lib/python3.8/site-packages/scipy/optimize/_numdiff.py:519: RuntimeWarning: invalid value encountered in true_divide\n",
      "  J_transposed[i] = df / dx\n",
      "/usr/local/lib/python3.8/site-packages/scipy/optimize/_numdiff.py:519: RuntimeWarning: invalid value encountered in true_divide\n",
      "  J_transposed[i] = df / dx\n",
      "/usr/local/lib/python3.8/site-packages/scipy/optimize/_numdiff.py:519: RuntimeWarning: invalid value encountered in true_divide\n",
      "  J_transposed[i] = df / dx\n",
      "/usr/local/lib/python3.8/site-packages/scipy/optimize/_numdiff.py:519: RuntimeWarning: invalid value encountered in true_divide\n",
      "  J_transposed[i] = df / dx\n",
      "/usr/local/lib/python3.8/site-packages/scipy/optimize/_numdiff.py:519: RuntimeWarning: invalid value encountered in true_divide\n",
      "  J_transposed[i] = df / dx\n",
      "/usr/local/lib/python3.8/site-packages/scipy/optimize/_numdiff.py:519: RuntimeWarning: invalid value encountered in true_divide\n",
      "  J_transposed[i] = df / dx\n",
      "/usr/local/lib/python3.8/site-packages/scipy/optimize/_numdiff.py:519: RuntimeWarning: invalid value encountered in true_divide\n",
      "  J_transposed[i] = df / dx\n",
      "/usr/local/lib/python3.8/site-packages/scipy/optimize/_numdiff.py:519: RuntimeWarning: invalid value encountered in true_divide\n",
      "  J_transposed[i] = df / dx\n",
      "/usr/local/lib/python3.8/site-packages/scipy/optimize/_numdiff.py:519: RuntimeWarning: invalid value encountered in true_divide\n",
      "  J_transposed[i] = df / dx\n",
      "/usr/local/lib/python3.8/site-packages/scipy/optimize/_numdiff.py:519: RuntimeWarning: invalid value encountered in true_divide\n",
      "  J_transposed[i] = df / dx\n",
      "/usr/local/lib/python3.8/site-packages/scipy/optimize/_numdiff.py:519: RuntimeWarning: invalid value encountered in true_divide\n",
      "  J_transposed[i] = df / dx\n",
      "/usr/local/lib/python3.8/site-packages/scipy/optimize/_numdiff.py:519: RuntimeWarning: invalid value encountered in true_divide\n",
      "  J_transposed[i] = df / dx\n",
      "/usr/local/lib/python3.8/site-packages/scipy/optimize/_numdiff.py:519: RuntimeWarning: invalid value encountered in true_divide\n",
      "  J_transposed[i] = df / dx\n",
      "/usr/local/lib/python3.8/site-packages/scipy/optimize/_numdiff.py:519: RuntimeWarning: invalid value encountered in true_divide\n",
      "  J_transposed[i] = df / dx\n",
      "/usr/local/lib/python3.8/site-packages/scipy/optimize/_numdiff.py:519: RuntimeWarning: invalid value encountered in true_divide\n",
      "  J_transposed[i] = df / dx\n",
      "/usr/local/lib/python3.8/site-packages/scipy/optimize/_numdiff.py:519: RuntimeWarning: invalid value encountered in true_divide\n",
      "  J_transposed[i] = df / dx\n",
      "/usr/local/lib/python3.8/site-packages/scipy/optimize/_numdiff.py:519: RuntimeWarning: invalid value encountered in true_divide\n",
      "  J_transposed[i] = df / dx\n",
      "/usr/local/lib/python3.8/site-packages/scipy/optimize/_numdiff.py:519: RuntimeWarning: invalid value encountered in true_divide\n",
      "  J_transposed[i] = df / dx\n",
      "/usr/local/lib/python3.8/site-packages/scipy/optimize/_numdiff.py:519: RuntimeWarning: invalid value encountered in true_divide\n",
      "  J_transposed[i] = df / dx\n",
      "/usr/local/lib/python3.8/site-packages/scipy/optimize/_numdiff.py:519: RuntimeWarning: invalid value encountered in true_divide\n",
      "  J_transposed[i] = df / dx\n",
      "/usr/local/lib/python3.8/site-packages/scipy/optimize/_numdiff.py:519: RuntimeWarning: invalid value encountered in true_divide\n",
      "  J_transposed[i] = df / dx\n",
      "/usr/local/lib/python3.8/site-packages/scipy/optimize/_numdiff.py:519: RuntimeWarning: invalid value encountered in true_divide\n",
      "  J_transposed[i] = df / dx\n",
      "/usr/local/lib/python3.8/site-packages/scipy/optimize/_numdiff.py:519: RuntimeWarning: invalid value encountered in true_divide\n",
      "  J_transposed[i] = df / dx\n",
      "/usr/local/lib/python3.8/site-packages/scipy/optimize/_numdiff.py:519: RuntimeWarning: invalid value encountered in true_divide\n",
      "  J_transposed[i] = df / dx\n",
      "/usr/local/lib/python3.8/site-packages/scipy/optimize/_numdiff.py:519: RuntimeWarning: invalid value encountered in true_divide\n",
      "  J_transposed[i] = df / dx\n",
      "/usr/local/lib/python3.8/site-packages/scipy/optimize/_numdiff.py:519: RuntimeWarning: invalid value encountered in true_divide\n",
      "  J_transposed[i] = df / dx\n",
      "/usr/local/lib/python3.8/site-packages/scipy/optimize/_numdiff.py:519: RuntimeWarning: invalid value encountered in true_divide\n",
      "  J_transposed[i] = df / dx\n",
      "/usr/local/lib/python3.8/site-packages/scipy/optimize/_numdiff.py:519: RuntimeWarning: invalid value encountered in true_divide\n",
      "  J_transposed[i] = df / dx\n",
      "/usr/local/lib/python3.8/site-packages/scipy/optimize/_numdiff.py:519: RuntimeWarning: invalid value encountered in true_divide\n",
      "  J_transposed[i] = df / dx\n",
      "/usr/local/lib/python3.8/site-packages/scipy/optimize/_numdiff.py:519: RuntimeWarning: invalid value encountered in true_divide\n",
      "  J_transposed[i] = df / dx\n",
      "/usr/local/lib/python3.8/site-packages/scipy/optimize/_numdiff.py:519: RuntimeWarning: invalid value encountered in true_divide\n",
      "  J_transposed[i] = df / dx\n",
      "/usr/local/lib/python3.8/site-packages/scipy/optimize/_numdiff.py:519: RuntimeWarning: invalid value encountered in true_divide\n",
      "  J_transposed[i] = df / dx\n",
      "/usr/local/lib/python3.8/site-packages/scipy/optimize/_numdiff.py:519: RuntimeWarning: invalid value encountered in true_divide\n",
      "  J_transposed[i] = df / dx\n",
      "/usr/local/lib/python3.8/site-packages/scipy/optimize/_numdiff.py:519: RuntimeWarning: invalid value encountered in true_divide\n",
      "  J_transposed[i] = df / dx\n",
      "/usr/local/lib/python3.8/site-packages/scipy/optimize/_numdiff.py:519: RuntimeWarning: invalid value encountered in true_divide\n",
      "  J_transposed[i] = df / dx\n",
      "/usr/local/lib/python3.8/site-packages/scipy/optimize/_numdiff.py:519: RuntimeWarning: invalid value encountered in true_divide\n",
      "  J_transposed[i] = df / dx\n",
      "/usr/local/lib/python3.8/site-packages/scipy/optimize/_numdiff.py:519: RuntimeWarning: invalid value encountered in true_divide\n",
      "  J_transposed[i] = df / dx\n",
      "/usr/local/lib/python3.8/site-packages/scipy/optimize/_numdiff.py:519: RuntimeWarning: invalid value encountered in true_divide\n",
      "  J_transposed[i] = df / dx\n",
      "/usr/local/lib/python3.8/site-packages/scipy/optimize/_numdiff.py:519: RuntimeWarning: invalid value encountered in true_divide\n",
      "  J_transposed[i] = df / dx\n"
     ]
    },
    {
     "name": "stderr",
     "output_type": "stream",
     "text": [
      "INFO:fbprophet:Found custom seasonality named 'yearly', disabling built-in 'yearly' seasonality.\n",
      "INFO:fbprophet:Found custom seasonality named 'daily', disabling built-in 'daily' seasonality.\n",
      "INFO:fbprophet:Making 11 forecasts with cutoffs between 2018-11-25 09:00:00 and 2020-01-16 01:00:00\n"
     ]
    },
    {
     "data": {
      "application/vnd.jupyter.widget-view+json": {
       "model_id": "246a5e8026fc49208257b6fbeda05a9e",
       "version_major": 2,
       "version_minor": 0
      },
      "text/plain": [
       "HBox(children=(FloatProgress(value=0.0, max=11.0), HTML(value='')))"
      ]
     },
     "metadata": {},
     "output_type": "display_data"
    },
    {
     "name": "stdout",
     "output_type": "stream",
     "text": [
      "\n",
      "| \u001b[0m 22      \u001b[0m | \u001b[0m-5.883   \u001b[0m | \u001b[0m 2.0     \u001b[0m | \u001b[0m-2.0     \u001b[0m | \u001b[0m-2.0     \u001b[0m | \u001b[0m 2.0     \u001b[0m |\n",
      "bounds: \n",
      "[[-2.  2.]\n",
      " [-2. -2.]\n",
      " [-2. -2.]\n",
      " [ 2.  2.]]\n"
     ]
    },
    {
     "name": "stderr",
     "output_type": "stream",
     "text": [
      "/usr/local/lib/python3.8/site-packages/scipy/optimize/_numdiff.py:519: RuntimeWarning: invalid value encountered in true_divide\n",
      "  J_transposed[i] = df / dx\n",
      "/usr/local/lib/python3.8/site-packages/scipy/optimize/_numdiff.py:519: RuntimeWarning: invalid value encountered in true_divide\n",
      "  J_transposed[i] = df / dx\n",
      "/usr/local/lib/python3.8/site-packages/scipy/optimize/_numdiff.py:519: RuntimeWarning: invalid value encountered in true_divide\n",
      "  J_transposed[i] = df / dx\n",
      "/usr/local/lib/python3.8/site-packages/scipy/optimize/_numdiff.py:519: RuntimeWarning: invalid value encountered in true_divide\n",
      "  J_transposed[i] = df / dx\n",
      "/usr/local/lib/python3.8/site-packages/scipy/optimize/_numdiff.py:519: RuntimeWarning: invalid value encountered in true_divide\n",
      "  J_transposed[i] = df / dx\n",
      "/usr/local/lib/python3.8/site-packages/scipy/optimize/_numdiff.py:519: RuntimeWarning: invalid value encountered in true_divide\n",
      "  J_transposed[i] = df / dx\n",
      "/usr/local/lib/python3.8/site-packages/scipy/optimize/_numdiff.py:519: RuntimeWarning: invalid value encountered in true_divide\n",
      "  J_transposed[i] = df / dx\n",
      "/usr/local/lib/python3.8/site-packages/scipy/optimize/_numdiff.py:519: RuntimeWarning: invalid value encountered in true_divide\n",
      "  J_transposed[i] = df / dx\n",
      "/usr/local/lib/python3.8/site-packages/scipy/optimize/_numdiff.py:519: RuntimeWarning: invalid value encountered in true_divide\n",
      "  J_transposed[i] = df / dx\n",
      "/usr/local/lib/python3.8/site-packages/scipy/optimize/_numdiff.py:519: RuntimeWarning: invalid value encountered in true_divide\n",
      "  J_transposed[i] = df / dx\n",
      "/usr/local/lib/python3.8/site-packages/scipy/optimize/_numdiff.py:519: RuntimeWarning: invalid value encountered in true_divide\n",
      "  J_transposed[i] = df / dx\n",
      "/usr/local/lib/python3.8/site-packages/scipy/optimize/_numdiff.py:519: RuntimeWarning: invalid value encountered in true_divide\n",
      "  J_transposed[i] = df / dx\n",
      "/usr/local/lib/python3.8/site-packages/scipy/optimize/_numdiff.py:519: RuntimeWarning: invalid value encountered in true_divide\n",
      "  J_transposed[i] = df / dx\n",
      "/usr/local/lib/python3.8/site-packages/scipy/optimize/_numdiff.py:519: RuntimeWarning: invalid value encountered in true_divide\n",
      "  J_transposed[i] = df / dx\n",
      "/usr/local/lib/python3.8/site-packages/scipy/optimize/_numdiff.py:519: RuntimeWarning: invalid value encountered in true_divide\n",
      "  J_transposed[i] = df / dx\n",
      "/usr/local/lib/python3.8/site-packages/scipy/optimize/_numdiff.py:519: RuntimeWarning: invalid value encountered in true_divide\n",
      "  J_transposed[i] = df / dx\n",
      "/usr/local/lib/python3.8/site-packages/scipy/optimize/_numdiff.py:519: RuntimeWarning: invalid value encountered in true_divide\n",
      "  J_transposed[i] = df / dx\n",
      "/usr/local/lib/python3.8/site-packages/scipy/optimize/_numdiff.py:519: RuntimeWarning: invalid value encountered in true_divide\n",
      "  J_transposed[i] = df / dx\n",
      "/usr/local/lib/python3.8/site-packages/scipy/optimize/_numdiff.py:519: RuntimeWarning: invalid value encountered in true_divide\n",
      "  J_transposed[i] = df / dx\n",
      "/usr/local/lib/python3.8/site-packages/scipy/optimize/_numdiff.py:519: RuntimeWarning: invalid value encountered in true_divide\n",
      "  J_transposed[i] = df / dx\n",
      "/usr/local/lib/python3.8/site-packages/scipy/optimize/_numdiff.py:519: RuntimeWarning: invalid value encountered in true_divide\n",
      "  J_transposed[i] = df / dx\n",
      "/usr/local/lib/python3.8/site-packages/scipy/optimize/_numdiff.py:519: RuntimeWarning: invalid value encountered in true_divide\n",
      "  J_transposed[i] = df / dx\n",
      "/usr/local/lib/python3.8/site-packages/scipy/optimize/_numdiff.py:519: RuntimeWarning: invalid value encountered in true_divide\n",
      "  J_transposed[i] = df / dx\n",
      "/usr/local/lib/python3.8/site-packages/scipy/optimize/_numdiff.py:519: RuntimeWarning: invalid value encountered in true_divide\n",
      "  J_transposed[i] = df / dx\n",
      "/usr/local/lib/python3.8/site-packages/scipy/optimize/_numdiff.py:519: RuntimeWarning: invalid value encountered in true_divide\n",
      "  J_transposed[i] = df / dx\n",
      "/usr/local/lib/python3.8/site-packages/scipy/optimize/_numdiff.py:519: RuntimeWarning: invalid value encountered in true_divide\n",
      "  J_transposed[i] = df / dx\n",
      "/usr/local/lib/python3.8/site-packages/scipy/optimize/_numdiff.py:519: RuntimeWarning: invalid value encountered in true_divide\n",
      "  J_transposed[i] = df / dx\n",
      "/usr/local/lib/python3.8/site-packages/scipy/optimize/_numdiff.py:519: RuntimeWarning: invalid value encountered in true_divide\n",
      "  J_transposed[i] = df / dx\n",
      "/usr/local/lib/python3.8/site-packages/scipy/optimize/_numdiff.py:519: RuntimeWarning: invalid value encountered in true_divide\n",
      "  J_transposed[i] = df / dx\n",
      "/usr/local/lib/python3.8/site-packages/scipy/optimize/_numdiff.py:519: RuntimeWarning: invalid value encountered in true_divide\n",
      "  J_transposed[i] = df / dx\n",
      "/usr/local/lib/python3.8/site-packages/scipy/optimize/_numdiff.py:519: RuntimeWarning: invalid value encountered in true_divide\n",
      "  J_transposed[i] = df / dx\n",
      "/usr/local/lib/python3.8/site-packages/scipy/optimize/_numdiff.py:519: RuntimeWarning: invalid value encountered in true_divide\n",
      "  J_transposed[i] = df / dx\n",
      "/usr/local/lib/python3.8/site-packages/scipy/optimize/_numdiff.py:519: RuntimeWarning: invalid value encountered in true_divide\n",
      "  J_transposed[i] = df / dx\n",
      "/usr/local/lib/python3.8/site-packages/scipy/optimize/_numdiff.py:519: RuntimeWarning: invalid value encountered in true_divide\n",
      "  J_transposed[i] = df / dx\n",
      "/usr/local/lib/python3.8/site-packages/scipy/optimize/_numdiff.py:519: RuntimeWarning: invalid value encountered in true_divide\n",
      "  J_transposed[i] = df / dx\n",
      "/usr/local/lib/python3.8/site-packages/scipy/optimize/_numdiff.py:519: RuntimeWarning: invalid value encountered in true_divide\n",
      "  J_transposed[i] = df / dx\n",
      "/usr/local/lib/python3.8/site-packages/scipy/optimize/_numdiff.py:519: RuntimeWarning: invalid value encountered in true_divide\n",
      "  J_transposed[i] = df / dx\n",
      "/usr/local/lib/python3.8/site-packages/scipy/optimize/_numdiff.py:519: RuntimeWarning: invalid value encountered in true_divide\n",
      "  J_transposed[i] = df / dx\n",
      "/usr/local/lib/python3.8/site-packages/scipy/optimize/_numdiff.py:519: RuntimeWarning: invalid value encountered in true_divide\n",
      "  J_transposed[i] = df / dx\n",
      "/usr/local/lib/python3.8/site-packages/scipy/optimize/_numdiff.py:519: RuntimeWarning: invalid value encountered in true_divide\n",
      "  J_transposed[i] = df / dx\n",
      "/usr/local/lib/python3.8/site-packages/scipy/optimize/_numdiff.py:519: RuntimeWarning: invalid value encountered in true_divide\n",
      "  J_transposed[i] = df / dx\n",
      "/usr/local/lib/python3.8/site-packages/scipy/optimize/_numdiff.py:519: RuntimeWarning: invalid value encountered in true_divide\n",
      "  J_transposed[i] = df / dx\n",
      "/usr/local/lib/python3.8/site-packages/scipy/optimize/_numdiff.py:519: RuntimeWarning: invalid value encountered in true_divide\n",
      "  J_transposed[i] = df / dx\n",
      "/usr/local/lib/python3.8/site-packages/scipy/optimize/_numdiff.py:519: RuntimeWarning: invalid value encountered in true_divide\n",
      "  J_transposed[i] = df / dx\n",
      "/usr/local/lib/python3.8/site-packages/scipy/optimize/_numdiff.py:519: RuntimeWarning: invalid value encountered in true_divide\n",
      "  J_transposed[i] = df / dx\n",
      "/usr/local/lib/python3.8/site-packages/scipy/optimize/_numdiff.py:519: RuntimeWarning: invalid value encountered in true_divide\n",
      "  J_transposed[i] = df / dx\n",
      "/usr/local/lib/python3.8/site-packages/scipy/optimize/_numdiff.py:519: RuntimeWarning: invalid value encountered in true_divide\n",
      "  J_transposed[i] = df / dx\n",
      "/usr/local/lib/python3.8/site-packages/scipy/optimize/_numdiff.py:519: RuntimeWarning: invalid value encountered in true_divide\n",
      "  J_transposed[i] = df / dx\n",
      "/usr/local/lib/python3.8/site-packages/scipy/optimize/_numdiff.py:519: RuntimeWarning: invalid value encountered in true_divide\n",
      "  J_transposed[i] = df / dx\n",
      "/usr/local/lib/python3.8/site-packages/scipy/optimize/_numdiff.py:519: RuntimeWarning: invalid value encountered in true_divide\n",
      "  J_transposed[i] = df / dx\n",
      "/usr/local/lib/python3.8/site-packages/scipy/optimize/_numdiff.py:519: RuntimeWarning: invalid value encountered in true_divide\n",
      "  J_transposed[i] = df / dx\n",
      "/usr/local/lib/python3.8/site-packages/scipy/optimize/_numdiff.py:519: RuntimeWarning: invalid value encountered in true_divide\n",
      "  J_transposed[i] = df / dx\n",
      "/usr/local/lib/python3.8/site-packages/scipy/optimize/_numdiff.py:519: RuntimeWarning: invalid value encountered in true_divide\n",
      "  J_transposed[i] = df / dx\n",
      "/usr/local/lib/python3.8/site-packages/scipy/optimize/_numdiff.py:519: RuntimeWarning: invalid value encountered in true_divide\n",
      "  J_transposed[i] = df / dx\n",
      "/usr/local/lib/python3.8/site-packages/scipy/optimize/_numdiff.py:519: RuntimeWarning: invalid value encountered in true_divide\n",
      "  J_transposed[i] = df / dx\n",
      "/usr/local/lib/python3.8/site-packages/scipy/optimize/_numdiff.py:519: RuntimeWarning: invalid value encountered in true_divide\n",
      "  J_transposed[i] = df / dx\n",
      "/usr/local/lib/python3.8/site-packages/scipy/optimize/_numdiff.py:519: RuntimeWarning: invalid value encountered in true_divide\n",
      "  J_transposed[i] = df / dx\n",
      "/usr/local/lib/python3.8/site-packages/scipy/optimize/_numdiff.py:519: RuntimeWarning: invalid value encountered in true_divide\n",
      "  J_transposed[i] = df / dx\n",
      "/usr/local/lib/python3.8/site-packages/scipy/optimize/_numdiff.py:519: RuntimeWarning: invalid value encountered in true_divide\n",
      "  J_transposed[i] = df / dx\n",
      "/usr/local/lib/python3.8/site-packages/scipy/optimize/_numdiff.py:519: RuntimeWarning: invalid value encountered in true_divide\n",
      "  J_transposed[i] = df / dx\n"
     ]
    },
    {
     "name": "stderr",
     "output_type": "stream",
     "text": [
      "INFO:fbprophet:Found custom seasonality named 'yearly', disabling built-in 'yearly' seasonality.\n",
      "INFO:fbprophet:Found custom seasonality named 'daily', disabling built-in 'daily' seasonality.\n",
      "INFO:fbprophet:Making 11 forecasts with cutoffs between 2018-11-25 09:00:00 and 2020-01-16 01:00:00\n"
     ]
    },
    {
     "data": {
      "application/vnd.jupyter.widget-view+json": {
       "model_id": "89a76cf667404413bec2d3fa351ba34d",
       "version_major": 2,
       "version_minor": 0
      },
      "text/plain": [
       "HBox(children=(FloatProgress(value=0.0, max=11.0), HTML(value='')))"
      ]
     },
     "metadata": {},
     "output_type": "display_data"
    },
    {
     "name": "stdout",
     "output_type": "stream",
     "text": [
      "\n",
      "| \u001b[95m 23      \u001b[0m | \u001b[95m-5.883   \u001b[0m | \u001b[95m 0.7832  \u001b[0m | \u001b[95m-2.0     \u001b[0m | \u001b[95m-2.0     \u001b[0m | \u001b[95m 2.0     \u001b[0m |\n",
      "bounds: \n",
      "[[-2.  2.]\n",
      " [-2. -2.]\n",
      " [-2. -2.]\n",
      " [ 2.  2.]]\n"
     ]
    },
    {
     "name": "stderr",
     "output_type": "stream",
     "text": [
      "/usr/local/lib/python3.8/site-packages/scipy/optimize/_numdiff.py:519: RuntimeWarning: invalid value encountered in true_divide\n",
      "  J_transposed[i] = df / dx\n",
      "/usr/local/lib/python3.8/site-packages/scipy/optimize/_numdiff.py:519: RuntimeWarning: invalid value encountered in true_divide\n",
      "  J_transposed[i] = df / dx\n",
      "/usr/local/lib/python3.8/site-packages/scipy/optimize/_numdiff.py:519: RuntimeWarning: invalid value encountered in true_divide\n",
      "  J_transposed[i] = df / dx\n",
      "/usr/local/lib/python3.8/site-packages/scipy/optimize/_numdiff.py:519: RuntimeWarning: invalid value encountered in true_divide\n",
      "  J_transposed[i] = df / dx\n",
      "/usr/local/lib/python3.8/site-packages/scipy/optimize/_numdiff.py:519: RuntimeWarning: invalid value encountered in true_divide\n",
      "  J_transposed[i] = df / dx\n",
      "/usr/local/lib/python3.8/site-packages/scipy/optimize/_numdiff.py:519: RuntimeWarning: invalid value encountered in true_divide\n",
      "  J_transposed[i] = df / dx\n",
      "/usr/local/lib/python3.8/site-packages/scipy/optimize/_numdiff.py:519: RuntimeWarning: invalid value encountered in true_divide\n",
      "  J_transposed[i] = df / dx\n",
      "/usr/local/lib/python3.8/site-packages/scipy/optimize/_numdiff.py:519: RuntimeWarning: invalid value encountered in true_divide\n",
      "  J_transposed[i] = df / dx\n",
      "/usr/local/lib/python3.8/site-packages/scipy/optimize/_numdiff.py:519: RuntimeWarning: invalid value encountered in true_divide\n",
      "  J_transposed[i] = df / dx\n",
      "/usr/local/lib/python3.8/site-packages/scipy/optimize/_numdiff.py:519: RuntimeWarning: invalid value encountered in true_divide\n",
      "  J_transposed[i] = df / dx\n",
      "/usr/local/lib/python3.8/site-packages/scipy/optimize/_numdiff.py:519: RuntimeWarning: invalid value encountered in true_divide\n",
      "  J_transposed[i] = df / dx\n",
      "/usr/local/lib/python3.8/site-packages/scipy/optimize/_numdiff.py:519: RuntimeWarning: invalid value encountered in true_divide\n",
      "  J_transposed[i] = df / dx\n",
      "/usr/local/lib/python3.8/site-packages/scipy/optimize/_numdiff.py:519: RuntimeWarning: invalid value encountered in true_divide\n",
      "  J_transposed[i] = df / dx\n",
      "/usr/local/lib/python3.8/site-packages/scipy/optimize/_numdiff.py:519: RuntimeWarning: invalid value encountered in true_divide\n",
      "  J_transposed[i] = df / dx\n",
      "/usr/local/lib/python3.8/site-packages/scipy/optimize/_numdiff.py:519: RuntimeWarning: invalid value encountered in true_divide\n",
      "  J_transposed[i] = df / dx\n",
      "/usr/local/lib/python3.8/site-packages/scipy/optimize/_numdiff.py:519: RuntimeWarning: invalid value encountered in true_divide\n",
      "  J_transposed[i] = df / dx\n",
      "/usr/local/lib/python3.8/site-packages/scipy/optimize/_numdiff.py:519: RuntimeWarning: invalid value encountered in true_divide\n",
      "  J_transposed[i] = df / dx\n",
      "/usr/local/lib/python3.8/site-packages/scipy/optimize/_numdiff.py:519: RuntimeWarning: invalid value encountered in true_divide\n",
      "  J_transposed[i] = df / dx\n",
      "/usr/local/lib/python3.8/site-packages/scipy/optimize/_numdiff.py:519: RuntimeWarning: invalid value encountered in true_divide\n",
      "  J_transposed[i] = df / dx\n",
      "/usr/local/lib/python3.8/site-packages/scipy/optimize/_numdiff.py:519: RuntimeWarning: invalid value encountered in true_divide\n",
      "  J_transposed[i] = df / dx\n",
      "/usr/local/lib/python3.8/site-packages/scipy/optimize/_numdiff.py:519: RuntimeWarning: invalid value encountered in true_divide\n",
      "  J_transposed[i] = df / dx\n",
      "/usr/local/lib/python3.8/site-packages/scipy/optimize/_numdiff.py:519: RuntimeWarning: invalid value encountered in true_divide\n",
      "  J_transposed[i] = df / dx\n",
      "/usr/local/lib/python3.8/site-packages/scipy/optimize/_numdiff.py:519: RuntimeWarning: invalid value encountered in true_divide\n",
      "  J_transposed[i] = df / dx\n",
      "/usr/local/lib/python3.8/site-packages/scipy/optimize/_numdiff.py:519: RuntimeWarning: invalid value encountered in true_divide\n",
      "  J_transposed[i] = df / dx\n",
      "/usr/local/lib/python3.8/site-packages/scipy/optimize/_numdiff.py:519: RuntimeWarning: invalid value encountered in true_divide\n",
      "  J_transposed[i] = df / dx\n",
      "/usr/local/lib/python3.8/site-packages/scipy/optimize/_numdiff.py:519: RuntimeWarning: invalid value encountered in true_divide\n",
      "  J_transposed[i] = df / dx\n",
      "/usr/local/lib/python3.8/site-packages/scipy/optimize/_numdiff.py:519: RuntimeWarning: invalid value encountered in true_divide\n",
      "  J_transposed[i] = df / dx\n",
      "/usr/local/lib/python3.8/site-packages/scipy/optimize/_numdiff.py:519: RuntimeWarning: invalid value encountered in true_divide\n",
      "  J_transposed[i] = df / dx\n",
      "/usr/local/lib/python3.8/site-packages/scipy/optimize/_numdiff.py:519: RuntimeWarning: invalid value encountered in true_divide\n",
      "  J_transposed[i] = df / dx\n",
      "/usr/local/lib/python3.8/site-packages/scipy/optimize/_numdiff.py:519: RuntimeWarning: invalid value encountered in true_divide\n",
      "  J_transposed[i] = df / dx\n",
      "/usr/local/lib/python3.8/site-packages/scipy/optimize/_numdiff.py:519: RuntimeWarning: invalid value encountered in true_divide\n",
      "  J_transposed[i] = df / dx\n",
      "/usr/local/lib/python3.8/site-packages/scipy/optimize/_numdiff.py:519: RuntimeWarning: invalid value encountered in true_divide\n",
      "  J_transposed[i] = df / dx\n",
      "/usr/local/lib/python3.8/site-packages/scipy/optimize/_numdiff.py:519: RuntimeWarning: invalid value encountered in true_divide\n",
      "  J_transposed[i] = df / dx\n",
      "/usr/local/lib/python3.8/site-packages/scipy/optimize/_numdiff.py:519: RuntimeWarning: invalid value encountered in true_divide\n",
      "  J_transposed[i] = df / dx\n",
      "/usr/local/lib/python3.8/site-packages/scipy/optimize/_numdiff.py:519: RuntimeWarning: invalid value encountered in true_divide\n",
      "  J_transposed[i] = df / dx\n",
      "/usr/local/lib/python3.8/site-packages/scipy/optimize/_numdiff.py:519: RuntimeWarning: invalid value encountered in true_divide\n",
      "  J_transposed[i] = df / dx\n",
      "/usr/local/lib/python3.8/site-packages/scipy/optimize/_numdiff.py:519: RuntimeWarning: invalid value encountered in true_divide\n",
      "  J_transposed[i] = df / dx\n",
      "/usr/local/lib/python3.8/site-packages/scipy/optimize/_numdiff.py:519: RuntimeWarning: invalid value encountered in true_divide\n",
      "  J_transposed[i] = df / dx\n",
      "/usr/local/lib/python3.8/site-packages/scipy/optimize/_numdiff.py:519: RuntimeWarning: invalid value encountered in true_divide\n",
      "  J_transposed[i] = df / dx\n",
      "/usr/local/lib/python3.8/site-packages/scipy/optimize/_numdiff.py:519: RuntimeWarning: invalid value encountered in true_divide\n",
      "  J_transposed[i] = df / dx\n",
      "/usr/local/lib/python3.8/site-packages/scipy/optimize/_numdiff.py:519: RuntimeWarning: invalid value encountered in true_divide\n",
      "  J_transposed[i] = df / dx\n",
      "/usr/local/lib/python3.8/site-packages/scipy/optimize/_numdiff.py:519: RuntimeWarning: invalid value encountered in true_divide\n",
      "  J_transposed[i] = df / dx\n",
      "/usr/local/lib/python3.8/site-packages/scipy/optimize/_numdiff.py:519: RuntimeWarning: invalid value encountered in true_divide\n",
      "  J_transposed[i] = df / dx\n",
      "/usr/local/lib/python3.8/site-packages/scipy/optimize/_numdiff.py:519: RuntimeWarning: invalid value encountered in true_divide\n",
      "  J_transposed[i] = df / dx\n",
      "/usr/local/lib/python3.8/site-packages/scipy/optimize/_numdiff.py:519: RuntimeWarning: invalid value encountered in true_divide\n",
      "  J_transposed[i] = df / dx\n",
      "/usr/local/lib/python3.8/site-packages/scipy/optimize/_numdiff.py:519: RuntimeWarning: invalid value encountered in true_divide\n",
      "  J_transposed[i] = df / dx\n",
      "/usr/local/lib/python3.8/site-packages/scipy/optimize/_numdiff.py:519: RuntimeWarning: invalid value encountered in true_divide\n",
      "  J_transposed[i] = df / dx\n",
      "/usr/local/lib/python3.8/site-packages/scipy/optimize/_numdiff.py:519: RuntimeWarning: invalid value encountered in true_divide\n",
      "  J_transposed[i] = df / dx\n",
      "/usr/local/lib/python3.8/site-packages/scipy/optimize/_numdiff.py:519: RuntimeWarning: invalid value encountered in true_divide\n",
      "  J_transposed[i] = df / dx\n",
      "/usr/local/lib/python3.8/site-packages/scipy/optimize/_numdiff.py:519: RuntimeWarning: invalid value encountered in true_divide\n",
      "  J_transposed[i] = df / dx\n",
      "/usr/local/lib/python3.8/site-packages/scipy/optimize/_numdiff.py:519: RuntimeWarning: invalid value encountered in true_divide\n",
      "  J_transposed[i] = df / dx\n",
      "/usr/local/lib/python3.8/site-packages/scipy/optimize/_numdiff.py:519: RuntimeWarning: invalid value encountered in true_divide\n",
      "  J_transposed[i] = df / dx\n",
      "/usr/local/lib/python3.8/site-packages/scipy/optimize/_numdiff.py:519: RuntimeWarning: invalid value encountered in true_divide\n",
      "  J_transposed[i] = df / dx\n",
      "/usr/local/lib/python3.8/site-packages/scipy/optimize/_numdiff.py:519: RuntimeWarning: invalid value encountered in true_divide\n",
      "  J_transposed[i] = df / dx\n",
      "/usr/local/lib/python3.8/site-packages/scipy/optimize/_numdiff.py:519: RuntimeWarning: invalid value encountered in true_divide\n",
      "  J_transposed[i] = df / dx\n",
      "/usr/local/lib/python3.8/site-packages/scipy/optimize/_numdiff.py:519: RuntimeWarning: invalid value encountered in true_divide\n",
      "  J_transposed[i] = df / dx\n",
      "/usr/local/lib/python3.8/site-packages/scipy/optimize/_numdiff.py:519: RuntimeWarning: invalid value encountered in true_divide\n",
      "  J_transposed[i] = df / dx\n",
      "/usr/local/lib/python3.8/site-packages/scipy/optimize/_numdiff.py:519: RuntimeWarning: invalid value encountered in true_divide\n",
      "  J_transposed[i] = df / dx\n",
      "/usr/local/lib/python3.8/site-packages/scipy/optimize/_numdiff.py:519: RuntimeWarning: invalid value encountered in true_divide\n",
      "  J_transposed[i] = df / dx\n",
      "/usr/local/lib/python3.8/site-packages/scipy/optimize/_numdiff.py:519: RuntimeWarning: invalid value encountered in true_divide\n",
      "  J_transposed[i] = df / dx\n"
     ]
    },
    {
     "name": "stderr",
     "output_type": "stream",
     "text": [
      "INFO:fbprophet:Found custom seasonality named 'yearly', disabling built-in 'yearly' seasonality.\n",
      "INFO:fbprophet:Found custom seasonality named 'daily', disabling built-in 'daily' seasonality.\n",
      "INFO:fbprophet:Making 11 forecasts with cutoffs between 2018-11-25 09:00:00 and 2020-01-16 01:00:00\n"
     ]
    },
    {
     "data": {
      "application/vnd.jupyter.widget-view+json": {
       "model_id": "b46cc1a3759240b180f27e09fe83884e",
       "version_major": 2,
       "version_minor": 0
      },
      "text/plain": [
       "HBox(children=(FloatProgress(value=0.0, max=11.0), HTML(value='')))"
      ]
     },
     "metadata": {},
     "output_type": "display_data"
    },
    {
     "name": "stdout",
     "output_type": "stream",
     "text": [
      "\n",
      "| \u001b[0m 24      \u001b[0m | \u001b[0m-5.883   \u001b[0m | \u001b[0m-2.0     \u001b[0m | \u001b[0m-2.0     \u001b[0m | \u001b[0m-2.0     \u001b[0m | \u001b[0m 2.0     \u001b[0m |\n",
      "bounds: \n",
      "[[-2.  2.]\n",
      " [-2. -2.]\n",
      " [-2. -2.]\n",
      " [ 2.  2.]]\n"
     ]
    },
    {
     "name": "stderr",
     "output_type": "stream",
     "text": [
      "/usr/local/lib/python3.8/site-packages/scipy/optimize/_numdiff.py:519: RuntimeWarning: invalid value encountered in true_divide\n",
      "  J_transposed[i] = df / dx\n",
      "/usr/local/lib/python3.8/site-packages/scipy/optimize/_numdiff.py:519: RuntimeWarning: invalid value encountered in true_divide\n",
      "  J_transposed[i] = df / dx\n",
      "/usr/local/lib/python3.8/site-packages/scipy/optimize/_numdiff.py:519: RuntimeWarning: invalid value encountered in true_divide\n",
      "  J_transposed[i] = df / dx\n",
      "/usr/local/lib/python3.8/site-packages/scipy/optimize/_numdiff.py:519: RuntimeWarning: invalid value encountered in true_divide\n",
      "  J_transposed[i] = df / dx\n",
      "/usr/local/lib/python3.8/site-packages/scipy/optimize/_numdiff.py:519: RuntimeWarning: invalid value encountered in true_divide\n",
      "  J_transposed[i] = df / dx\n",
      "/usr/local/lib/python3.8/site-packages/scipy/optimize/_numdiff.py:519: RuntimeWarning: invalid value encountered in true_divide\n",
      "  J_transposed[i] = df / dx\n",
      "/usr/local/lib/python3.8/site-packages/scipy/optimize/_numdiff.py:519: RuntimeWarning: invalid value encountered in true_divide\n",
      "  J_transposed[i] = df / dx\n",
      "/usr/local/lib/python3.8/site-packages/scipy/optimize/_numdiff.py:519: RuntimeWarning: invalid value encountered in true_divide\n",
      "  J_transposed[i] = df / dx\n",
      "/usr/local/lib/python3.8/site-packages/scipy/optimize/_numdiff.py:519: RuntimeWarning: invalid value encountered in true_divide\n",
      "  J_transposed[i] = df / dx\n",
      "/usr/local/lib/python3.8/site-packages/scipy/optimize/_numdiff.py:519: RuntimeWarning: invalid value encountered in true_divide\n",
      "  J_transposed[i] = df / dx\n",
      "/usr/local/lib/python3.8/site-packages/scipy/optimize/_numdiff.py:519: RuntimeWarning: invalid value encountered in true_divide\n",
      "  J_transposed[i] = df / dx\n",
      "/usr/local/lib/python3.8/site-packages/scipy/optimize/_numdiff.py:519: RuntimeWarning: invalid value encountered in true_divide\n",
      "  J_transposed[i] = df / dx\n",
      "/usr/local/lib/python3.8/site-packages/scipy/optimize/_numdiff.py:519: RuntimeWarning: invalid value encountered in true_divide\n",
      "  J_transposed[i] = df / dx\n",
      "/usr/local/lib/python3.8/site-packages/scipy/optimize/_numdiff.py:519: RuntimeWarning: invalid value encountered in true_divide\n",
      "  J_transposed[i] = df / dx\n",
      "/usr/local/lib/python3.8/site-packages/scipy/optimize/_numdiff.py:519: RuntimeWarning: invalid value encountered in true_divide\n",
      "  J_transposed[i] = df / dx\n",
      "/usr/local/lib/python3.8/site-packages/scipy/optimize/_numdiff.py:519: RuntimeWarning: invalid value encountered in true_divide\n",
      "  J_transposed[i] = df / dx\n",
      "/usr/local/lib/python3.8/site-packages/scipy/optimize/_numdiff.py:519: RuntimeWarning: invalid value encountered in true_divide\n",
      "  J_transposed[i] = df / dx\n",
      "/usr/local/lib/python3.8/site-packages/scipy/optimize/_numdiff.py:519: RuntimeWarning: invalid value encountered in true_divide\n",
      "  J_transposed[i] = df / dx\n",
      "/usr/local/lib/python3.8/site-packages/scipy/optimize/_numdiff.py:519: RuntimeWarning: invalid value encountered in true_divide\n",
      "  J_transposed[i] = df / dx\n",
      "/usr/local/lib/python3.8/site-packages/scipy/optimize/_numdiff.py:519: RuntimeWarning: invalid value encountered in true_divide\n",
      "  J_transposed[i] = df / dx\n",
      "/usr/local/lib/python3.8/site-packages/scipy/optimize/_numdiff.py:519: RuntimeWarning: invalid value encountered in true_divide\n",
      "  J_transposed[i] = df / dx\n",
      "/usr/local/lib/python3.8/site-packages/scipy/optimize/_numdiff.py:519: RuntimeWarning: invalid value encountered in true_divide\n",
      "  J_transposed[i] = df / dx\n",
      "/usr/local/lib/python3.8/site-packages/scipy/optimize/_numdiff.py:519: RuntimeWarning: invalid value encountered in true_divide\n",
      "  J_transposed[i] = df / dx\n",
      "/usr/local/lib/python3.8/site-packages/scipy/optimize/_numdiff.py:519: RuntimeWarning: invalid value encountered in true_divide\n",
      "  J_transposed[i] = df / dx\n",
      "/usr/local/lib/python3.8/site-packages/scipy/optimize/_numdiff.py:519: RuntimeWarning: invalid value encountered in true_divide\n",
      "  J_transposed[i] = df / dx\n",
      "/usr/local/lib/python3.8/site-packages/scipy/optimize/_numdiff.py:519: RuntimeWarning: invalid value encountered in true_divide\n",
      "  J_transposed[i] = df / dx\n",
      "/usr/local/lib/python3.8/site-packages/scipy/optimize/_numdiff.py:519: RuntimeWarning: invalid value encountered in true_divide\n",
      "  J_transposed[i] = df / dx\n",
      "/usr/local/lib/python3.8/site-packages/scipy/optimize/_numdiff.py:519: RuntimeWarning: invalid value encountered in true_divide\n",
      "  J_transposed[i] = df / dx\n",
      "/usr/local/lib/python3.8/site-packages/scipy/optimize/_numdiff.py:519: RuntimeWarning: invalid value encountered in true_divide\n",
      "  J_transposed[i] = df / dx\n",
      "/usr/local/lib/python3.8/site-packages/scipy/optimize/_numdiff.py:519: RuntimeWarning: invalid value encountered in true_divide\n",
      "  J_transposed[i] = df / dx\n",
      "/usr/local/lib/python3.8/site-packages/scipy/optimize/_numdiff.py:519: RuntimeWarning: invalid value encountered in true_divide\n",
      "  J_transposed[i] = df / dx\n",
      "/usr/local/lib/python3.8/site-packages/scipy/optimize/_numdiff.py:519: RuntimeWarning: invalid value encountered in true_divide\n",
      "  J_transposed[i] = df / dx\n",
      "/usr/local/lib/python3.8/site-packages/scipy/optimize/_numdiff.py:519: RuntimeWarning: invalid value encountered in true_divide\n",
      "  J_transposed[i] = df / dx\n",
      "/usr/local/lib/python3.8/site-packages/scipy/optimize/_numdiff.py:519: RuntimeWarning: invalid value encountered in true_divide\n",
      "  J_transposed[i] = df / dx\n",
      "/usr/local/lib/python3.8/site-packages/scipy/optimize/_numdiff.py:519: RuntimeWarning: invalid value encountered in true_divide\n",
      "  J_transposed[i] = df / dx\n",
      "/usr/local/lib/python3.8/site-packages/scipy/optimize/_numdiff.py:519: RuntimeWarning: invalid value encountered in true_divide\n",
      "  J_transposed[i] = df / dx\n",
      "/usr/local/lib/python3.8/site-packages/scipy/optimize/_numdiff.py:519: RuntimeWarning: invalid value encountered in true_divide\n",
      "  J_transposed[i] = df / dx\n",
      "/usr/local/lib/python3.8/site-packages/scipy/optimize/_numdiff.py:519: RuntimeWarning: invalid value encountered in true_divide\n",
      "  J_transposed[i] = df / dx\n",
      "/usr/local/lib/python3.8/site-packages/scipy/optimize/_numdiff.py:519: RuntimeWarning: invalid value encountered in true_divide\n",
      "  J_transposed[i] = df / dx\n",
      "/usr/local/lib/python3.8/site-packages/scipy/optimize/_numdiff.py:519: RuntimeWarning: invalid value encountered in true_divide\n",
      "  J_transposed[i] = df / dx\n",
      "/usr/local/lib/python3.8/site-packages/scipy/optimize/_numdiff.py:519: RuntimeWarning: invalid value encountered in true_divide\n",
      "  J_transposed[i] = df / dx\n",
      "/usr/local/lib/python3.8/site-packages/scipy/optimize/_numdiff.py:519: RuntimeWarning: invalid value encountered in true_divide\n",
      "  J_transposed[i] = df / dx\n",
      "/usr/local/lib/python3.8/site-packages/scipy/optimize/_numdiff.py:519: RuntimeWarning: invalid value encountered in true_divide\n",
      "  J_transposed[i] = df / dx\n",
      "/usr/local/lib/python3.8/site-packages/scipy/optimize/_numdiff.py:519: RuntimeWarning: invalid value encountered in true_divide\n",
      "  J_transposed[i] = df / dx\n",
      "/usr/local/lib/python3.8/site-packages/scipy/optimize/_numdiff.py:519: RuntimeWarning: invalid value encountered in true_divide\n",
      "  J_transposed[i] = df / dx\n",
      "/usr/local/lib/python3.8/site-packages/scipy/optimize/_numdiff.py:519: RuntimeWarning: invalid value encountered in true_divide\n",
      "  J_transposed[i] = df / dx\n",
      "/usr/local/lib/python3.8/site-packages/scipy/optimize/_numdiff.py:519: RuntimeWarning: invalid value encountered in true_divide\n",
      "  J_transposed[i] = df / dx\n",
      "/usr/local/lib/python3.8/site-packages/scipy/optimize/_numdiff.py:519: RuntimeWarning: invalid value encountered in true_divide\n",
      "  J_transposed[i] = df / dx\n",
      "/usr/local/lib/python3.8/site-packages/scipy/optimize/_numdiff.py:519: RuntimeWarning: invalid value encountered in true_divide\n",
      "  J_transposed[i] = df / dx\n",
      "/usr/local/lib/python3.8/site-packages/scipy/optimize/_numdiff.py:519: RuntimeWarning: invalid value encountered in true_divide\n",
      "  J_transposed[i] = df / dx\n",
      "/usr/local/lib/python3.8/site-packages/scipy/optimize/_numdiff.py:519: RuntimeWarning: invalid value encountered in true_divide\n",
      "  J_transposed[i] = df / dx\n",
      "/usr/local/lib/python3.8/site-packages/scipy/optimize/_numdiff.py:519: RuntimeWarning: invalid value encountered in true_divide\n",
      "  J_transposed[i] = df / dx\n",
      "/usr/local/lib/python3.8/site-packages/scipy/optimize/_numdiff.py:519: RuntimeWarning: invalid value encountered in true_divide\n",
      "  J_transposed[i] = df / dx\n",
      "/usr/local/lib/python3.8/site-packages/scipy/optimize/_numdiff.py:519: RuntimeWarning: invalid value encountered in true_divide\n",
      "  J_transposed[i] = df / dx\n",
      "/usr/local/lib/python3.8/site-packages/scipy/optimize/_numdiff.py:519: RuntimeWarning: invalid value encountered in true_divide\n",
      "  J_transposed[i] = df / dx\n",
      "/usr/local/lib/python3.8/site-packages/scipy/optimize/_numdiff.py:519: RuntimeWarning: invalid value encountered in true_divide\n",
      "  J_transposed[i] = df / dx\n",
      "/usr/local/lib/python3.8/site-packages/scipy/optimize/_numdiff.py:519: RuntimeWarning: invalid value encountered in true_divide\n",
      "  J_transposed[i] = df / dx\n",
      "/usr/local/lib/python3.8/site-packages/scipy/optimize/_numdiff.py:519: RuntimeWarning: invalid value encountered in true_divide\n",
      "  J_transposed[i] = df / dx\n",
      "/usr/local/lib/python3.8/site-packages/scipy/optimize/_numdiff.py:519: RuntimeWarning: invalid value encountered in true_divide\n",
      "  J_transposed[i] = df / dx\n",
      "/usr/local/lib/python3.8/site-packages/scipy/optimize/_numdiff.py:519: RuntimeWarning: invalid value encountered in true_divide\n",
      "  J_transposed[i] = df / dx\n"
     ]
    },
    {
     "name": "stderr",
     "output_type": "stream",
     "text": [
      "INFO:fbprophet:Found custom seasonality named 'yearly', disabling built-in 'yearly' seasonality.\n",
      "INFO:fbprophet:Found custom seasonality named 'daily', disabling built-in 'daily' seasonality.\n",
      "INFO:fbprophet:Making 11 forecasts with cutoffs between 2018-11-25 09:00:00 and 2020-01-16 01:00:00\n"
     ]
    },
    {
     "data": {
      "application/vnd.jupyter.widget-view+json": {
       "model_id": "3a17434b76f041fea9275f2cce64cc82",
       "version_major": 2,
       "version_minor": 0
      },
      "text/plain": [
       "HBox(children=(FloatProgress(value=0.0, max=11.0), HTML(value='')))"
      ]
     },
     "metadata": {},
     "output_type": "display_data"
    },
    {
     "name": "stdout",
     "output_type": "stream",
     "text": [
      "\n",
      "| \u001b[0m 25      \u001b[0m | \u001b[0m-5.883   \u001b[0m | \u001b[0m-1.364   \u001b[0m | \u001b[0m-2.0     \u001b[0m | \u001b[0m-2.0     \u001b[0m | \u001b[0m 2.0     \u001b[0m |\n",
      "bounds: \n",
      "[[-2.  2.]\n",
      " [-2. -2.]\n",
      " [-2. -2.]\n",
      " [ 2.  2.]]\n"
     ]
    },
    {
     "name": "stderr",
     "output_type": "stream",
     "text": [
      "/usr/local/lib/python3.8/site-packages/scipy/optimize/_numdiff.py:519: RuntimeWarning: invalid value encountered in true_divide\n",
      "  J_transposed[i] = df / dx\n",
      "/usr/local/lib/python3.8/site-packages/scipy/optimize/_numdiff.py:519: RuntimeWarning: invalid value encountered in true_divide\n",
      "  J_transposed[i] = df / dx\n",
      "/usr/local/lib/python3.8/site-packages/scipy/optimize/_numdiff.py:519: RuntimeWarning: invalid value encountered in true_divide\n",
      "  J_transposed[i] = df / dx\n",
      "/usr/local/lib/python3.8/site-packages/scipy/optimize/_numdiff.py:519: RuntimeWarning: invalid value encountered in true_divide\n",
      "  J_transposed[i] = df / dx\n",
      "/usr/local/lib/python3.8/site-packages/scipy/optimize/_numdiff.py:519: RuntimeWarning: invalid value encountered in true_divide\n",
      "  J_transposed[i] = df / dx\n",
      "/usr/local/lib/python3.8/site-packages/scipy/optimize/_numdiff.py:519: RuntimeWarning: invalid value encountered in true_divide\n",
      "  J_transposed[i] = df / dx\n",
      "/usr/local/lib/python3.8/site-packages/scipy/optimize/_numdiff.py:519: RuntimeWarning: invalid value encountered in true_divide\n",
      "  J_transposed[i] = df / dx\n",
      "/usr/local/lib/python3.8/site-packages/scipy/optimize/_numdiff.py:519: RuntimeWarning: invalid value encountered in true_divide\n",
      "  J_transposed[i] = df / dx\n",
      "/usr/local/lib/python3.8/site-packages/scipy/optimize/_numdiff.py:519: RuntimeWarning: invalid value encountered in true_divide\n",
      "  J_transposed[i] = df / dx\n",
      "/usr/local/lib/python3.8/site-packages/scipy/optimize/_numdiff.py:519: RuntimeWarning: invalid value encountered in true_divide\n",
      "  J_transposed[i] = df / dx\n",
      "/usr/local/lib/python3.8/site-packages/scipy/optimize/_numdiff.py:519: RuntimeWarning: invalid value encountered in true_divide\n",
      "  J_transposed[i] = df / dx\n",
      "/usr/local/lib/python3.8/site-packages/scipy/optimize/_numdiff.py:519: RuntimeWarning: invalid value encountered in true_divide\n",
      "  J_transposed[i] = df / dx\n",
      "/usr/local/lib/python3.8/site-packages/scipy/optimize/_numdiff.py:519: RuntimeWarning: invalid value encountered in true_divide\n",
      "  J_transposed[i] = df / dx\n",
      "/usr/local/lib/python3.8/site-packages/scipy/optimize/_numdiff.py:519: RuntimeWarning: invalid value encountered in true_divide\n",
      "  J_transposed[i] = df / dx\n",
      "/usr/local/lib/python3.8/site-packages/scipy/optimize/_numdiff.py:519: RuntimeWarning: invalid value encountered in true_divide\n",
      "  J_transposed[i] = df / dx\n",
      "/usr/local/lib/python3.8/site-packages/scipy/optimize/_numdiff.py:519: RuntimeWarning: invalid value encountered in true_divide\n",
      "  J_transposed[i] = df / dx\n",
      "/usr/local/lib/python3.8/site-packages/scipy/optimize/_numdiff.py:519: RuntimeWarning: invalid value encountered in true_divide\n",
      "  J_transposed[i] = df / dx\n",
      "/usr/local/lib/python3.8/site-packages/scipy/optimize/_numdiff.py:519: RuntimeWarning: invalid value encountered in true_divide\n",
      "  J_transposed[i] = df / dx\n",
      "/usr/local/lib/python3.8/site-packages/scipy/optimize/_numdiff.py:519: RuntimeWarning: invalid value encountered in true_divide\n",
      "  J_transposed[i] = df / dx\n",
      "/usr/local/lib/python3.8/site-packages/scipy/optimize/_numdiff.py:519: RuntimeWarning: invalid value encountered in true_divide\n",
      "  J_transposed[i] = df / dx\n",
      "/usr/local/lib/python3.8/site-packages/scipy/optimize/_numdiff.py:519: RuntimeWarning: invalid value encountered in true_divide\n",
      "  J_transposed[i] = df / dx\n",
      "/usr/local/lib/python3.8/site-packages/scipy/optimize/_numdiff.py:519: RuntimeWarning: invalid value encountered in true_divide\n",
      "  J_transposed[i] = df / dx\n",
      "/usr/local/lib/python3.8/site-packages/scipy/optimize/_numdiff.py:519: RuntimeWarning: invalid value encountered in true_divide\n",
      "  J_transposed[i] = df / dx\n",
      "/usr/local/lib/python3.8/site-packages/scipy/optimize/_numdiff.py:519: RuntimeWarning: invalid value encountered in true_divide\n",
      "  J_transposed[i] = df / dx\n",
      "/usr/local/lib/python3.8/site-packages/scipy/optimize/_numdiff.py:519: RuntimeWarning: invalid value encountered in true_divide\n",
      "  J_transposed[i] = df / dx\n",
      "/usr/local/lib/python3.8/site-packages/scipy/optimize/_numdiff.py:519: RuntimeWarning: invalid value encountered in true_divide\n",
      "  J_transposed[i] = df / dx\n",
      "/usr/local/lib/python3.8/site-packages/scipy/optimize/_numdiff.py:519: RuntimeWarning: invalid value encountered in true_divide\n",
      "  J_transposed[i] = df / dx\n",
      "/usr/local/lib/python3.8/site-packages/scipy/optimize/_numdiff.py:519: RuntimeWarning: invalid value encountered in true_divide\n",
      "  J_transposed[i] = df / dx\n",
      "/usr/local/lib/python3.8/site-packages/scipy/optimize/_numdiff.py:519: RuntimeWarning: invalid value encountered in true_divide\n",
      "  J_transposed[i] = df / dx\n",
      "/usr/local/lib/python3.8/site-packages/scipy/optimize/_numdiff.py:519: RuntimeWarning: invalid value encountered in true_divide\n",
      "  J_transposed[i] = df / dx\n",
      "/usr/local/lib/python3.8/site-packages/scipy/optimize/_numdiff.py:519: RuntimeWarning: invalid value encountered in true_divide\n",
      "  J_transposed[i] = df / dx\n",
      "/usr/local/lib/python3.8/site-packages/scipy/optimize/_numdiff.py:519: RuntimeWarning: invalid value encountered in true_divide\n",
      "  J_transposed[i] = df / dx\n",
      "/usr/local/lib/python3.8/site-packages/scipy/optimize/_numdiff.py:519: RuntimeWarning: invalid value encountered in true_divide\n",
      "  J_transposed[i] = df / dx\n",
      "/usr/local/lib/python3.8/site-packages/scipy/optimize/_numdiff.py:519: RuntimeWarning: invalid value encountered in true_divide\n",
      "  J_transposed[i] = df / dx\n",
      "/usr/local/lib/python3.8/site-packages/scipy/optimize/_numdiff.py:519: RuntimeWarning: invalid value encountered in true_divide\n",
      "  J_transposed[i] = df / dx\n",
      "/usr/local/lib/python3.8/site-packages/scipy/optimize/_numdiff.py:519: RuntimeWarning: invalid value encountered in true_divide\n",
      "  J_transposed[i] = df / dx\n",
      "/usr/local/lib/python3.8/site-packages/scipy/optimize/_numdiff.py:519: RuntimeWarning: invalid value encountered in true_divide\n",
      "  J_transposed[i] = df / dx\n",
      "/usr/local/lib/python3.8/site-packages/scipy/optimize/_numdiff.py:519: RuntimeWarning: invalid value encountered in true_divide\n",
      "  J_transposed[i] = df / dx\n",
      "/usr/local/lib/python3.8/site-packages/scipy/optimize/_numdiff.py:519: RuntimeWarning: invalid value encountered in true_divide\n",
      "  J_transposed[i] = df / dx\n",
      "/usr/local/lib/python3.8/site-packages/scipy/optimize/_numdiff.py:519: RuntimeWarning: invalid value encountered in true_divide\n",
      "  J_transposed[i] = df / dx\n",
      "/usr/local/lib/python3.8/site-packages/scipy/optimize/_numdiff.py:519: RuntimeWarning: invalid value encountered in true_divide\n",
      "  J_transposed[i] = df / dx\n",
      "/usr/local/lib/python3.8/site-packages/scipy/optimize/_numdiff.py:519: RuntimeWarning: invalid value encountered in true_divide\n",
      "  J_transposed[i] = df / dx\n",
      "/usr/local/lib/python3.8/site-packages/scipy/optimize/_numdiff.py:519: RuntimeWarning: invalid value encountered in true_divide\n",
      "  J_transposed[i] = df / dx\n",
      "/usr/local/lib/python3.8/site-packages/scipy/optimize/_numdiff.py:519: RuntimeWarning: invalid value encountered in true_divide\n",
      "  J_transposed[i] = df / dx\n",
      "/usr/local/lib/python3.8/site-packages/scipy/optimize/_numdiff.py:519: RuntimeWarning: invalid value encountered in true_divide\n",
      "  J_transposed[i] = df / dx\n",
      "/usr/local/lib/python3.8/site-packages/scipy/optimize/_numdiff.py:519: RuntimeWarning: invalid value encountered in true_divide\n",
      "  J_transposed[i] = df / dx\n",
      "/usr/local/lib/python3.8/site-packages/scipy/optimize/_numdiff.py:519: RuntimeWarning: invalid value encountered in true_divide\n",
      "  J_transposed[i] = df / dx\n",
      "/usr/local/lib/python3.8/site-packages/scipy/optimize/_numdiff.py:519: RuntimeWarning: invalid value encountered in true_divide\n",
      "  J_transposed[i] = df / dx\n",
      "/usr/local/lib/python3.8/site-packages/scipy/optimize/_numdiff.py:519: RuntimeWarning: invalid value encountered in true_divide\n",
      "  J_transposed[i] = df / dx\n",
      "/usr/local/lib/python3.8/site-packages/scipy/optimize/_numdiff.py:519: RuntimeWarning: invalid value encountered in true_divide\n",
      "  J_transposed[i] = df / dx\n",
      "/usr/local/lib/python3.8/site-packages/scipy/optimize/_numdiff.py:519: RuntimeWarning: invalid value encountered in true_divide\n",
      "  J_transposed[i] = df / dx\n",
      "/usr/local/lib/python3.8/site-packages/scipy/optimize/_numdiff.py:519: RuntimeWarning: invalid value encountered in true_divide\n",
      "  J_transposed[i] = df / dx\n",
      "/usr/local/lib/python3.8/site-packages/scipy/optimize/_numdiff.py:519: RuntimeWarning: invalid value encountered in true_divide\n",
      "  J_transposed[i] = df / dx\n",
      "/usr/local/lib/python3.8/site-packages/scipy/optimize/_numdiff.py:519: RuntimeWarning: invalid value encountered in true_divide\n",
      "  J_transposed[i] = df / dx\n",
      "/usr/local/lib/python3.8/site-packages/scipy/optimize/_numdiff.py:519: RuntimeWarning: invalid value encountered in true_divide\n",
      "  J_transposed[i] = df / dx\n",
      "/usr/local/lib/python3.8/site-packages/scipy/optimize/_numdiff.py:519: RuntimeWarning: invalid value encountered in true_divide\n",
      "  J_transposed[i] = df / dx\n",
      "/usr/local/lib/python3.8/site-packages/scipy/optimize/_numdiff.py:519: RuntimeWarning: invalid value encountered in true_divide\n",
      "  J_transposed[i] = df / dx\n",
      "/usr/local/lib/python3.8/site-packages/scipy/optimize/_numdiff.py:519: RuntimeWarning: invalid value encountered in true_divide\n",
      "  J_transposed[i] = df / dx\n",
      "/usr/local/lib/python3.8/site-packages/scipy/optimize/_numdiff.py:519: RuntimeWarning: invalid value encountered in true_divide\n",
      "  J_transposed[i] = df / dx\n",
      "/usr/local/lib/python3.8/site-packages/scipy/optimize/_numdiff.py:519: RuntimeWarning: invalid value encountered in true_divide\n",
      "  J_transposed[i] = df / dx\n"
     ]
    },
    {
     "name": "stderr",
     "output_type": "stream",
     "text": [
      "INFO:fbprophet:Found custom seasonality named 'yearly', disabling built-in 'yearly' seasonality.\n",
      "INFO:fbprophet:Found custom seasonality named 'daily', disabling built-in 'daily' seasonality.\n",
      "INFO:fbprophet:Making 11 forecasts with cutoffs between 2018-11-25 09:00:00 and 2020-01-16 01:00:00\n"
     ]
    },
    {
     "data": {
      "application/vnd.jupyter.widget-view+json": {
       "model_id": "b1271ad0662b4204b054352d6275c276",
       "version_major": 2,
       "version_minor": 0
      },
      "text/plain": [
       "HBox(children=(FloatProgress(value=0.0, max=11.0), HTML(value='')))"
      ]
     },
     "metadata": {},
     "output_type": "display_data"
    },
    {
     "name": "stdout",
     "output_type": "stream",
     "text": [
      "\n",
      "| \u001b[0m 26      \u001b[0m | \u001b[0m-5.883   \u001b[0m | \u001b[0m-1.708   \u001b[0m | \u001b[0m-2.0     \u001b[0m | \u001b[0m-2.0     \u001b[0m | \u001b[0m 2.0     \u001b[0m |\n",
      "bounds: \n",
      "[[-2.  2.]\n",
      " [-2. -2.]\n",
      " [-2. -2.]\n",
      " [ 2.  2.]]\n"
     ]
    },
    {
     "name": "stderr",
     "output_type": "stream",
     "text": [
      "/usr/local/lib/python3.8/site-packages/scipy/optimize/_numdiff.py:519: RuntimeWarning: invalid value encountered in true_divide\n",
      "  J_transposed[i] = df / dx\n",
      "/usr/local/lib/python3.8/site-packages/scipy/optimize/_numdiff.py:519: RuntimeWarning: invalid value encountered in true_divide\n",
      "  J_transposed[i] = df / dx\n",
      "/usr/local/lib/python3.8/site-packages/scipy/optimize/_numdiff.py:519: RuntimeWarning: invalid value encountered in true_divide\n",
      "  J_transposed[i] = df / dx\n",
      "/usr/local/lib/python3.8/site-packages/scipy/optimize/_numdiff.py:519: RuntimeWarning: invalid value encountered in true_divide\n",
      "  J_transposed[i] = df / dx\n",
      "/usr/local/lib/python3.8/site-packages/scipy/optimize/_numdiff.py:519: RuntimeWarning: invalid value encountered in true_divide\n",
      "  J_transposed[i] = df / dx\n",
      "/usr/local/lib/python3.8/site-packages/scipy/optimize/_numdiff.py:519: RuntimeWarning: invalid value encountered in true_divide\n",
      "  J_transposed[i] = df / dx\n",
      "/usr/local/lib/python3.8/site-packages/scipy/optimize/_numdiff.py:519: RuntimeWarning: invalid value encountered in true_divide\n",
      "  J_transposed[i] = df / dx\n",
      "/usr/local/lib/python3.8/site-packages/scipy/optimize/_numdiff.py:519: RuntimeWarning: invalid value encountered in true_divide\n",
      "  J_transposed[i] = df / dx\n",
      "/usr/local/lib/python3.8/site-packages/scipy/optimize/_numdiff.py:519: RuntimeWarning: invalid value encountered in true_divide\n",
      "  J_transposed[i] = df / dx\n",
      "/usr/local/lib/python3.8/site-packages/scipy/optimize/_numdiff.py:519: RuntimeWarning: invalid value encountered in true_divide\n",
      "  J_transposed[i] = df / dx\n",
      "/usr/local/lib/python3.8/site-packages/scipy/optimize/_numdiff.py:519: RuntimeWarning: invalid value encountered in true_divide\n",
      "  J_transposed[i] = df / dx\n",
      "/usr/local/lib/python3.8/site-packages/scipy/optimize/_numdiff.py:519: RuntimeWarning: invalid value encountered in true_divide\n",
      "  J_transposed[i] = df / dx\n",
      "/usr/local/lib/python3.8/site-packages/scipy/optimize/_numdiff.py:519: RuntimeWarning: invalid value encountered in true_divide\n",
      "  J_transposed[i] = df / dx\n",
      "/usr/local/lib/python3.8/site-packages/scipy/optimize/_numdiff.py:519: RuntimeWarning: invalid value encountered in true_divide\n",
      "  J_transposed[i] = df / dx\n",
      "/usr/local/lib/python3.8/site-packages/scipy/optimize/_numdiff.py:519: RuntimeWarning: invalid value encountered in true_divide\n",
      "  J_transposed[i] = df / dx\n",
      "/usr/local/lib/python3.8/site-packages/scipy/optimize/_numdiff.py:519: RuntimeWarning: invalid value encountered in true_divide\n",
      "  J_transposed[i] = df / dx\n",
      "/usr/local/lib/python3.8/site-packages/scipy/optimize/_numdiff.py:519: RuntimeWarning: invalid value encountered in true_divide\n",
      "  J_transposed[i] = df / dx\n",
      "/usr/local/lib/python3.8/site-packages/scipy/optimize/_numdiff.py:519: RuntimeWarning: invalid value encountered in true_divide\n",
      "  J_transposed[i] = df / dx\n",
      "/usr/local/lib/python3.8/site-packages/scipy/optimize/_numdiff.py:519: RuntimeWarning: invalid value encountered in true_divide\n",
      "  J_transposed[i] = df / dx\n",
      "/usr/local/lib/python3.8/site-packages/scipy/optimize/_numdiff.py:519: RuntimeWarning: invalid value encountered in true_divide\n",
      "  J_transposed[i] = df / dx\n",
      "/usr/local/lib/python3.8/site-packages/scipy/optimize/_numdiff.py:519: RuntimeWarning: invalid value encountered in true_divide\n",
      "  J_transposed[i] = df / dx\n",
      "/usr/local/lib/python3.8/site-packages/scipy/optimize/_numdiff.py:519: RuntimeWarning: invalid value encountered in true_divide\n",
      "  J_transposed[i] = df / dx\n",
      "/usr/local/lib/python3.8/site-packages/scipy/optimize/_numdiff.py:519: RuntimeWarning: invalid value encountered in true_divide\n",
      "  J_transposed[i] = df / dx\n",
      "/usr/local/lib/python3.8/site-packages/scipy/optimize/_numdiff.py:519: RuntimeWarning: invalid value encountered in true_divide\n",
      "  J_transposed[i] = df / dx\n",
      "/usr/local/lib/python3.8/site-packages/scipy/optimize/_numdiff.py:519: RuntimeWarning: invalid value encountered in true_divide\n",
      "  J_transposed[i] = df / dx\n",
      "/usr/local/lib/python3.8/site-packages/scipy/optimize/_numdiff.py:519: RuntimeWarning: invalid value encountered in true_divide\n",
      "  J_transposed[i] = df / dx\n",
      "/usr/local/lib/python3.8/site-packages/scipy/optimize/_numdiff.py:519: RuntimeWarning: invalid value encountered in true_divide\n",
      "  J_transposed[i] = df / dx\n",
      "/usr/local/lib/python3.8/site-packages/scipy/optimize/_numdiff.py:519: RuntimeWarning: invalid value encountered in true_divide\n",
      "  J_transposed[i] = df / dx\n",
      "/usr/local/lib/python3.8/site-packages/scipy/optimize/_numdiff.py:519: RuntimeWarning: invalid value encountered in true_divide\n",
      "  J_transposed[i] = df / dx\n",
      "/usr/local/lib/python3.8/site-packages/scipy/optimize/_numdiff.py:519: RuntimeWarning: invalid value encountered in true_divide\n",
      "  J_transposed[i] = df / dx\n",
      "/usr/local/lib/python3.8/site-packages/scipy/optimize/_numdiff.py:519: RuntimeWarning: invalid value encountered in true_divide\n",
      "  J_transposed[i] = df / dx\n",
      "/usr/local/lib/python3.8/site-packages/scipy/optimize/_numdiff.py:519: RuntimeWarning: invalid value encountered in true_divide\n",
      "  J_transposed[i] = df / dx\n",
      "/usr/local/lib/python3.8/site-packages/scipy/optimize/_numdiff.py:519: RuntimeWarning: invalid value encountered in true_divide\n",
      "  J_transposed[i] = df / dx\n",
      "/usr/local/lib/python3.8/site-packages/scipy/optimize/_numdiff.py:519: RuntimeWarning: invalid value encountered in true_divide\n",
      "  J_transposed[i] = df / dx\n",
      "/usr/local/lib/python3.8/site-packages/scipy/optimize/_numdiff.py:519: RuntimeWarning: invalid value encountered in true_divide\n",
      "  J_transposed[i] = df / dx\n",
      "/usr/local/lib/python3.8/site-packages/scipy/optimize/_numdiff.py:519: RuntimeWarning: invalid value encountered in true_divide\n",
      "  J_transposed[i] = df / dx\n",
      "/usr/local/lib/python3.8/site-packages/scipy/optimize/_numdiff.py:519: RuntimeWarning: invalid value encountered in true_divide\n",
      "  J_transposed[i] = df / dx\n",
      "/usr/local/lib/python3.8/site-packages/scipy/optimize/_numdiff.py:519: RuntimeWarning: invalid value encountered in true_divide\n",
      "  J_transposed[i] = df / dx\n",
      "/usr/local/lib/python3.8/site-packages/scipy/optimize/_numdiff.py:519: RuntimeWarning: invalid value encountered in true_divide\n",
      "  J_transposed[i] = df / dx\n",
      "/usr/local/lib/python3.8/site-packages/scipy/optimize/_numdiff.py:519: RuntimeWarning: invalid value encountered in true_divide\n",
      "  J_transposed[i] = df / dx\n",
      "/usr/local/lib/python3.8/site-packages/scipy/optimize/_numdiff.py:519: RuntimeWarning: invalid value encountered in true_divide\n",
      "  J_transposed[i] = df / dx\n",
      "/usr/local/lib/python3.8/site-packages/scipy/optimize/_numdiff.py:519: RuntimeWarning: invalid value encountered in true_divide\n",
      "  J_transposed[i] = df / dx\n",
      "/usr/local/lib/python3.8/site-packages/scipy/optimize/_numdiff.py:519: RuntimeWarning: invalid value encountered in true_divide\n",
      "  J_transposed[i] = df / dx\n",
      "/usr/local/lib/python3.8/site-packages/scipy/optimize/_numdiff.py:519: RuntimeWarning: invalid value encountered in true_divide\n",
      "  J_transposed[i] = df / dx\n",
      "/usr/local/lib/python3.8/site-packages/scipy/optimize/_numdiff.py:519: RuntimeWarning: invalid value encountered in true_divide\n",
      "  J_transposed[i] = df / dx\n",
      "/usr/local/lib/python3.8/site-packages/scipy/optimize/_numdiff.py:519: RuntimeWarning: invalid value encountered in true_divide\n",
      "  J_transposed[i] = df / dx\n",
      "/usr/local/lib/python3.8/site-packages/scipy/optimize/_numdiff.py:519: RuntimeWarning: invalid value encountered in true_divide\n",
      "  J_transposed[i] = df / dx\n",
      "/usr/local/lib/python3.8/site-packages/scipy/optimize/_numdiff.py:519: RuntimeWarning: invalid value encountered in true_divide\n",
      "  J_transposed[i] = df / dx\n",
      "/usr/local/lib/python3.8/site-packages/scipy/optimize/_numdiff.py:519: RuntimeWarning: invalid value encountered in true_divide\n",
      "  J_transposed[i] = df / dx\n",
      "/usr/local/lib/python3.8/site-packages/scipy/optimize/_numdiff.py:519: RuntimeWarning: invalid value encountered in true_divide\n",
      "  J_transposed[i] = df / dx\n",
      "/usr/local/lib/python3.8/site-packages/scipy/optimize/_numdiff.py:519: RuntimeWarning: invalid value encountered in true_divide\n",
      "  J_transposed[i] = df / dx\n",
      "/usr/local/lib/python3.8/site-packages/scipy/optimize/_numdiff.py:519: RuntimeWarning: invalid value encountered in true_divide\n",
      "  J_transposed[i] = df / dx\n",
      "/usr/local/lib/python3.8/site-packages/scipy/optimize/_numdiff.py:519: RuntimeWarning: invalid value encountered in true_divide\n",
      "  J_transposed[i] = df / dx\n",
      "/usr/local/lib/python3.8/site-packages/scipy/optimize/_numdiff.py:519: RuntimeWarning: invalid value encountered in true_divide\n",
      "  J_transposed[i] = df / dx\n",
      "/usr/local/lib/python3.8/site-packages/scipy/optimize/_numdiff.py:519: RuntimeWarning: invalid value encountered in true_divide\n",
      "  J_transposed[i] = df / dx\n",
      "/usr/local/lib/python3.8/site-packages/scipy/optimize/_numdiff.py:519: RuntimeWarning: invalid value encountered in true_divide\n",
      "  J_transposed[i] = df / dx\n",
      "/usr/local/lib/python3.8/site-packages/scipy/optimize/_numdiff.py:519: RuntimeWarning: invalid value encountered in true_divide\n",
      "  J_transposed[i] = df / dx\n",
      "/usr/local/lib/python3.8/site-packages/scipy/optimize/_numdiff.py:519: RuntimeWarning: invalid value encountered in true_divide\n",
      "  J_transposed[i] = df / dx\n",
      "/usr/local/lib/python3.8/site-packages/scipy/optimize/_numdiff.py:519: RuntimeWarning: invalid value encountered in true_divide\n",
      "  J_transposed[i] = df / dx\n",
      "/usr/local/lib/python3.8/site-packages/scipy/optimize/_numdiff.py:519: RuntimeWarning: invalid value encountered in true_divide\n",
      "  J_transposed[i] = df / dx\n"
     ]
    },
    {
     "name": "stderr",
     "output_type": "stream",
     "text": [
      "INFO:fbprophet:Found custom seasonality named 'yearly', disabling built-in 'yearly' seasonality.\n",
      "INFO:fbprophet:Found custom seasonality named 'daily', disabling built-in 'daily' seasonality.\n",
      "INFO:fbprophet:Making 11 forecasts with cutoffs between 2018-11-25 09:00:00 and 2020-01-16 01:00:00\n"
     ]
    },
    {
     "data": {
      "application/vnd.jupyter.widget-view+json": {
       "model_id": "dbcfbb8c1f31413d824c14ff0f5bd0db",
       "version_major": 2,
       "version_minor": 0
      },
      "text/plain": [
       "HBox(children=(FloatProgress(value=0.0, max=11.0), HTML(value='')))"
      ]
     },
     "metadata": {},
     "output_type": "display_data"
    },
    {
     "name": "stdout",
     "output_type": "stream",
     "text": [
      "\n",
      "| \u001b[0m 27      \u001b[0m | \u001b[0m-5.883   \u001b[0m | \u001b[0m 0.6975  \u001b[0m | \u001b[0m-2.0     \u001b[0m | \u001b[0m-2.0     \u001b[0m | \u001b[0m 2.0     \u001b[0m |\n",
      "bounds: \n",
      "[[-2.  2.]\n",
      " [-2. -2.]\n",
      " [-2. -2.]\n",
      " [ 2.  2.]]\n"
     ]
    },
    {
     "name": "stderr",
     "output_type": "stream",
     "text": [
      "/usr/local/lib/python3.8/site-packages/scipy/optimize/_numdiff.py:519: RuntimeWarning: invalid value encountered in true_divide\n",
      "  J_transposed[i] = df / dx\n",
      "/usr/local/lib/python3.8/site-packages/scipy/optimize/_numdiff.py:519: RuntimeWarning: invalid value encountered in true_divide\n",
      "  J_transposed[i] = df / dx\n",
      "/usr/local/lib/python3.8/site-packages/scipy/optimize/_numdiff.py:519: RuntimeWarning: invalid value encountered in true_divide\n",
      "  J_transposed[i] = df / dx\n",
      "/usr/local/lib/python3.8/site-packages/scipy/optimize/_numdiff.py:519: RuntimeWarning: invalid value encountered in true_divide\n",
      "  J_transposed[i] = df / dx\n",
      "/usr/local/lib/python3.8/site-packages/scipy/optimize/_numdiff.py:519: RuntimeWarning: invalid value encountered in true_divide\n",
      "  J_transposed[i] = df / dx\n",
      "/usr/local/lib/python3.8/site-packages/scipy/optimize/_numdiff.py:519: RuntimeWarning: invalid value encountered in true_divide\n",
      "  J_transposed[i] = df / dx\n",
      "/usr/local/lib/python3.8/site-packages/scipy/optimize/_numdiff.py:519: RuntimeWarning: invalid value encountered in true_divide\n",
      "  J_transposed[i] = df / dx\n",
      "/usr/local/lib/python3.8/site-packages/scipy/optimize/_numdiff.py:519: RuntimeWarning: invalid value encountered in true_divide\n",
      "  J_transposed[i] = df / dx\n",
      "/usr/local/lib/python3.8/site-packages/scipy/optimize/_numdiff.py:519: RuntimeWarning: invalid value encountered in true_divide\n",
      "  J_transposed[i] = df / dx\n",
      "/usr/local/lib/python3.8/site-packages/scipy/optimize/_numdiff.py:519: RuntimeWarning: invalid value encountered in true_divide\n",
      "  J_transposed[i] = df / dx\n",
      "/usr/local/lib/python3.8/site-packages/scipy/optimize/_numdiff.py:519: RuntimeWarning: invalid value encountered in true_divide\n",
      "  J_transposed[i] = df / dx\n",
      "/usr/local/lib/python3.8/site-packages/scipy/optimize/_numdiff.py:519: RuntimeWarning: invalid value encountered in true_divide\n",
      "  J_transposed[i] = df / dx\n",
      "/usr/local/lib/python3.8/site-packages/scipy/optimize/_numdiff.py:519: RuntimeWarning: invalid value encountered in true_divide\n",
      "  J_transposed[i] = df / dx\n",
      "/usr/local/lib/python3.8/site-packages/scipy/optimize/_numdiff.py:519: RuntimeWarning: invalid value encountered in true_divide\n",
      "  J_transposed[i] = df / dx\n",
      "/usr/local/lib/python3.8/site-packages/scipy/optimize/_numdiff.py:519: RuntimeWarning: invalid value encountered in true_divide\n",
      "  J_transposed[i] = df / dx\n",
      "/usr/local/lib/python3.8/site-packages/scipy/optimize/_numdiff.py:519: RuntimeWarning: invalid value encountered in true_divide\n",
      "  J_transposed[i] = df / dx\n",
      "/usr/local/lib/python3.8/site-packages/scipy/optimize/_numdiff.py:519: RuntimeWarning: invalid value encountered in true_divide\n",
      "  J_transposed[i] = df / dx\n",
      "/usr/local/lib/python3.8/site-packages/scipy/optimize/_numdiff.py:519: RuntimeWarning: invalid value encountered in true_divide\n",
      "  J_transposed[i] = df / dx\n",
      "/usr/local/lib/python3.8/site-packages/scipy/optimize/_numdiff.py:519: RuntimeWarning: invalid value encountered in true_divide\n",
      "  J_transposed[i] = df / dx\n",
      "/usr/local/lib/python3.8/site-packages/scipy/optimize/_numdiff.py:519: RuntimeWarning: invalid value encountered in true_divide\n",
      "  J_transposed[i] = df / dx\n",
      "/usr/local/lib/python3.8/site-packages/scipy/optimize/_numdiff.py:519: RuntimeWarning: invalid value encountered in true_divide\n",
      "  J_transposed[i] = df / dx\n",
      "/usr/local/lib/python3.8/site-packages/scipy/optimize/_numdiff.py:519: RuntimeWarning: invalid value encountered in true_divide\n",
      "  J_transposed[i] = df / dx\n",
      "/usr/local/lib/python3.8/site-packages/scipy/optimize/_numdiff.py:519: RuntimeWarning: invalid value encountered in true_divide\n",
      "  J_transposed[i] = df / dx\n",
      "/usr/local/lib/python3.8/site-packages/scipy/optimize/_numdiff.py:519: RuntimeWarning: invalid value encountered in true_divide\n",
      "  J_transposed[i] = df / dx\n",
      "/usr/local/lib/python3.8/site-packages/scipy/optimize/_numdiff.py:519: RuntimeWarning: invalid value encountered in true_divide\n",
      "  J_transposed[i] = df / dx\n",
      "/usr/local/lib/python3.8/site-packages/scipy/optimize/_numdiff.py:519: RuntimeWarning: invalid value encountered in true_divide\n",
      "  J_transposed[i] = df / dx\n",
      "/usr/local/lib/python3.8/site-packages/scipy/optimize/_numdiff.py:519: RuntimeWarning: invalid value encountered in true_divide\n",
      "  J_transposed[i] = df / dx\n",
      "/usr/local/lib/python3.8/site-packages/scipy/optimize/_numdiff.py:519: RuntimeWarning: invalid value encountered in true_divide\n",
      "  J_transposed[i] = df / dx\n",
      "/usr/local/lib/python3.8/site-packages/scipy/optimize/_numdiff.py:519: RuntimeWarning: invalid value encountered in true_divide\n",
      "  J_transposed[i] = df / dx\n",
      "/usr/local/lib/python3.8/site-packages/scipy/optimize/_numdiff.py:519: RuntimeWarning: invalid value encountered in true_divide\n",
      "  J_transposed[i] = df / dx\n",
      "/usr/local/lib/python3.8/site-packages/scipy/optimize/_numdiff.py:519: RuntimeWarning: invalid value encountered in true_divide\n",
      "  J_transposed[i] = df / dx\n",
      "/usr/local/lib/python3.8/site-packages/scipy/optimize/_numdiff.py:519: RuntimeWarning: invalid value encountered in true_divide\n",
      "  J_transposed[i] = df / dx\n",
      "/usr/local/lib/python3.8/site-packages/scipy/optimize/_numdiff.py:519: RuntimeWarning: invalid value encountered in true_divide\n",
      "  J_transposed[i] = df / dx\n",
      "/usr/local/lib/python3.8/site-packages/scipy/optimize/_numdiff.py:519: RuntimeWarning: invalid value encountered in true_divide\n",
      "  J_transposed[i] = df / dx\n",
      "/usr/local/lib/python3.8/site-packages/scipy/optimize/_numdiff.py:519: RuntimeWarning: invalid value encountered in true_divide\n",
      "  J_transposed[i] = df / dx\n",
      "/usr/local/lib/python3.8/site-packages/scipy/optimize/_numdiff.py:519: RuntimeWarning: invalid value encountered in true_divide\n",
      "  J_transposed[i] = df / dx\n",
      "/usr/local/lib/python3.8/site-packages/scipy/optimize/_numdiff.py:519: RuntimeWarning: invalid value encountered in true_divide\n",
      "  J_transposed[i] = df / dx\n",
      "/usr/local/lib/python3.8/site-packages/scipy/optimize/_numdiff.py:519: RuntimeWarning: invalid value encountered in true_divide\n",
      "  J_transposed[i] = df / dx\n",
      "/usr/local/lib/python3.8/site-packages/scipy/optimize/_numdiff.py:519: RuntimeWarning: invalid value encountered in true_divide\n",
      "  J_transposed[i] = df / dx\n",
      "/usr/local/lib/python3.8/site-packages/scipy/optimize/_numdiff.py:519: RuntimeWarning: invalid value encountered in true_divide\n",
      "  J_transposed[i] = df / dx\n",
      "/usr/local/lib/python3.8/site-packages/scipy/optimize/_numdiff.py:519: RuntimeWarning: invalid value encountered in true_divide\n",
      "  J_transposed[i] = df / dx\n",
      "/usr/local/lib/python3.8/site-packages/scipy/optimize/_numdiff.py:519: RuntimeWarning: invalid value encountered in true_divide\n",
      "  J_transposed[i] = df / dx\n",
      "/usr/local/lib/python3.8/site-packages/scipy/optimize/_numdiff.py:519: RuntimeWarning: invalid value encountered in true_divide\n",
      "  J_transposed[i] = df / dx\n",
      "/usr/local/lib/python3.8/site-packages/scipy/optimize/_numdiff.py:519: RuntimeWarning: invalid value encountered in true_divide\n",
      "  J_transposed[i] = df / dx\n",
      "/usr/local/lib/python3.8/site-packages/scipy/optimize/_numdiff.py:519: RuntimeWarning: invalid value encountered in true_divide\n",
      "  J_transposed[i] = df / dx\n",
      "/usr/local/lib/python3.8/site-packages/scipy/optimize/_numdiff.py:519: RuntimeWarning: invalid value encountered in true_divide\n",
      "  J_transposed[i] = df / dx\n",
      "/usr/local/lib/python3.8/site-packages/scipy/optimize/_numdiff.py:519: RuntimeWarning: invalid value encountered in true_divide\n",
      "  J_transposed[i] = df / dx\n",
      "/usr/local/lib/python3.8/site-packages/scipy/optimize/_numdiff.py:519: RuntimeWarning: invalid value encountered in true_divide\n",
      "  J_transposed[i] = df / dx\n",
      "/usr/local/lib/python3.8/site-packages/scipy/optimize/_numdiff.py:519: RuntimeWarning: invalid value encountered in true_divide\n",
      "  J_transposed[i] = df / dx\n",
      "/usr/local/lib/python3.8/site-packages/scipy/optimize/_numdiff.py:519: RuntimeWarning: invalid value encountered in true_divide\n",
      "  J_transposed[i] = df / dx\n",
      "/usr/local/lib/python3.8/site-packages/scipy/optimize/_numdiff.py:519: RuntimeWarning: invalid value encountered in true_divide\n",
      "  J_transposed[i] = df / dx\n",
      "/usr/local/lib/python3.8/site-packages/scipy/optimize/_numdiff.py:519: RuntimeWarning: invalid value encountered in true_divide\n",
      "  J_transposed[i] = df / dx\n",
      "/usr/local/lib/python3.8/site-packages/scipy/optimize/_numdiff.py:519: RuntimeWarning: invalid value encountered in true_divide\n",
      "  J_transposed[i] = df / dx\n",
      "/usr/local/lib/python3.8/site-packages/scipy/optimize/_numdiff.py:519: RuntimeWarning: invalid value encountered in true_divide\n",
      "  J_transposed[i] = df / dx\n",
      "/usr/local/lib/python3.8/site-packages/scipy/optimize/_numdiff.py:519: RuntimeWarning: invalid value encountered in true_divide\n",
      "  J_transposed[i] = df / dx\n",
      "/usr/local/lib/python3.8/site-packages/scipy/optimize/_numdiff.py:519: RuntimeWarning: invalid value encountered in true_divide\n",
      "  J_transposed[i] = df / dx\n",
      "/usr/local/lib/python3.8/site-packages/scipy/optimize/_numdiff.py:519: RuntimeWarning: invalid value encountered in true_divide\n",
      "  J_transposed[i] = df / dx\n",
      "/usr/local/lib/python3.8/site-packages/scipy/optimize/_numdiff.py:519: RuntimeWarning: invalid value encountered in true_divide\n",
      "  J_transposed[i] = df / dx\n",
      "/usr/local/lib/python3.8/site-packages/scipy/optimize/_numdiff.py:519: RuntimeWarning: invalid value encountered in true_divide\n",
      "  J_transposed[i] = df / dx\n",
      "/usr/local/lib/python3.8/site-packages/scipy/optimize/_numdiff.py:519: RuntimeWarning: invalid value encountered in true_divide\n",
      "  J_transposed[i] = df / dx\n",
      "/usr/local/lib/python3.8/site-packages/scipy/optimize/_numdiff.py:519: RuntimeWarning: invalid value encountered in true_divide\n",
      "  J_transposed[i] = df / dx\n",
      "/usr/local/lib/python3.8/site-packages/scipy/optimize/_numdiff.py:519: RuntimeWarning: invalid value encountered in true_divide\n",
      "  J_transposed[i] = df / dx\n",
      "/usr/local/lib/python3.8/site-packages/scipy/optimize/_numdiff.py:519: RuntimeWarning: invalid value encountered in true_divide\n",
      "  J_transposed[i] = df / dx\n",
      "/usr/local/lib/python3.8/site-packages/scipy/optimize/_numdiff.py:519: RuntimeWarning: invalid value encountered in true_divide\n",
      "  J_transposed[i] = df / dx\n",
      "/usr/local/lib/python3.8/site-packages/scipy/optimize/_numdiff.py:519: RuntimeWarning: invalid value encountered in true_divide\n",
      "  J_transposed[i] = df / dx\n",
      "/usr/local/lib/python3.8/site-packages/scipy/optimize/_numdiff.py:519: RuntimeWarning: invalid value encountered in true_divide\n",
      "  J_transposed[i] = df / dx\n",
      "/usr/local/lib/python3.8/site-packages/scipy/optimize/_numdiff.py:519: RuntimeWarning: invalid value encountered in true_divide\n",
      "  J_transposed[i] = df / dx\n",
      "/usr/local/lib/python3.8/site-packages/scipy/optimize/_numdiff.py:519: RuntimeWarning: invalid value encountered in true_divide\n",
      "  J_transposed[i] = df / dx\n",
      "/usr/local/lib/python3.8/site-packages/scipy/optimize/_numdiff.py:519: RuntimeWarning: invalid value encountered in true_divide\n",
      "  J_transposed[i] = df / dx\n"
     ]
    },
    {
     "name": "stderr",
     "output_type": "stream",
     "text": [
      "INFO:fbprophet:Found custom seasonality named 'yearly', disabling built-in 'yearly' seasonality.\n",
      "INFO:fbprophet:Found custom seasonality named 'daily', disabling built-in 'daily' seasonality.\n",
      "INFO:fbprophet:Making 11 forecasts with cutoffs between 2018-11-25 09:00:00 and 2020-01-16 01:00:00\n"
     ]
    },
    {
     "data": {
      "application/vnd.jupyter.widget-view+json": {
       "model_id": "29c3c59102f04c698f5727a8c4c9c110",
       "version_major": 2,
       "version_minor": 0
      },
      "text/plain": [
       "HBox(children=(FloatProgress(value=0.0, max=11.0), HTML(value='')))"
      ]
     },
     "metadata": {},
     "output_type": "display_data"
    },
    {
     "name": "stdout",
     "output_type": "stream",
     "text": [
      "\n",
      "| \u001b[0m 28      \u001b[0m | \u001b[0m-5.883   \u001b[0m | \u001b[0m 0.879   \u001b[0m | \u001b[0m-2.0     \u001b[0m | \u001b[0m-2.0     \u001b[0m | \u001b[0m 2.0     \u001b[0m |\n",
      "bounds: \n",
      "[[-2.  2.]\n",
      " [-2. -2.]\n",
      " [-2. -2.]\n",
      " [ 2.  2.]]\n"
     ]
    },
    {
     "name": "stderr",
     "output_type": "stream",
     "text": [
      "/usr/local/lib/python3.8/site-packages/scipy/optimize/_numdiff.py:519: RuntimeWarning: invalid value encountered in true_divide\n",
      "  J_transposed[i] = df / dx\n",
      "/usr/local/lib/python3.8/site-packages/scipy/optimize/_numdiff.py:519: RuntimeWarning: invalid value encountered in true_divide\n",
      "  J_transposed[i] = df / dx\n",
      "/usr/local/lib/python3.8/site-packages/scipy/optimize/_numdiff.py:519: RuntimeWarning: invalid value encountered in true_divide\n",
      "  J_transposed[i] = df / dx\n",
      "/usr/local/lib/python3.8/site-packages/scipy/optimize/_numdiff.py:519: RuntimeWarning: invalid value encountered in true_divide\n",
      "  J_transposed[i] = df / dx\n",
      "/usr/local/lib/python3.8/site-packages/scipy/optimize/_numdiff.py:519: RuntimeWarning: invalid value encountered in true_divide\n",
      "  J_transposed[i] = df / dx\n",
      "/usr/local/lib/python3.8/site-packages/scipy/optimize/_numdiff.py:519: RuntimeWarning: invalid value encountered in true_divide\n",
      "  J_transposed[i] = df / dx\n",
      "/usr/local/lib/python3.8/site-packages/scipy/optimize/_numdiff.py:519: RuntimeWarning: invalid value encountered in true_divide\n",
      "  J_transposed[i] = df / dx\n",
      "/usr/local/lib/python3.8/site-packages/scipy/optimize/_numdiff.py:519: RuntimeWarning: invalid value encountered in true_divide\n",
      "  J_transposed[i] = df / dx\n",
      "/usr/local/lib/python3.8/site-packages/scipy/optimize/_numdiff.py:519: RuntimeWarning: invalid value encountered in true_divide\n",
      "  J_transposed[i] = df / dx\n",
      "/usr/local/lib/python3.8/site-packages/scipy/optimize/_numdiff.py:519: RuntimeWarning: invalid value encountered in true_divide\n",
      "  J_transposed[i] = df / dx\n",
      "/usr/local/lib/python3.8/site-packages/scipy/optimize/_numdiff.py:519: RuntimeWarning: invalid value encountered in true_divide\n",
      "  J_transposed[i] = df / dx\n",
      "/usr/local/lib/python3.8/site-packages/scipy/optimize/_numdiff.py:519: RuntimeWarning: invalid value encountered in true_divide\n",
      "  J_transposed[i] = df / dx\n",
      "/usr/local/lib/python3.8/site-packages/scipy/optimize/_numdiff.py:519: RuntimeWarning: invalid value encountered in true_divide\n",
      "  J_transposed[i] = df / dx\n",
      "/usr/local/lib/python3.8/site-packages/scipy/optimize/_numdiff.py:519: RuntimeWarning: invalid value encountered in true_divide\n",
      "  J_transposed[i] = df / dx\n",
      "/usr/local/lib/python3.8/site-packages/scipy/optimize/_numdiff.py:519: RuntimeWarning: invalid value encountered in true_divide\n",
      "  J_transposed[i] = df / dx\n",
      "/usr/local/lib/python3.8/site-packages/scipy/optimize/_numdiff.py:519: RuntimeWarning: invalid value encountered in true_divide\n",
      "  J_transposed[i] = df / dx\n",
      "/usr/local/lib/python3.8/site-packages/scipy/optimize/_numdiff.py:519: RuntimeWarning: invalid value encountered in true_divide\n",
      "  J_transposed[i] = df / dx\n",
      "/usr/local/lib/python3.8/site-packages/scipy/optimize/_numdiff.py:519: RuntimeWarning: invalid value encountered in true_divide\n",
      "  J_transposed[i] = df / dx\n",
      "/usr/local/lib/python3.8/site-packages/scipy/optimize/_numdiff.py:519: RuntimeWarning: invalid value encountered in true_divide\n",
      "  J_transposed[i] = df / dx\n",
      "/usr/local/lib/python3.8/site-packages/scipy/optimize/_numdiff.py:519: RuntimeWarning: invalid value encountered in true_divide\n",
      "  J_transposed[i] = df / dx\n",
      "/usr/local/lib/python3.8/site-packages/scipy/optimize/_numdiff.py:519: RuntimeWarning: invalid value encountered in true_divide\n",
      "  J_transposed[i] = df / dx\n",
      "/usr/local/lib/python3.8/site-packages/scipy/optimize/_numdiff.py:519: RuntimeWarning: invalid value encountered in true_divide\n",
      "  J_transposed[i] = df / dx\n",
      "/usr/local/lib/python3.8/site-packages/scipy/optimize/_numdiff.py:519: RuntimeWarning: invalid value encountered in true_divide\n",
      "  J_transposed[i] = df / dx\n",
      "/usr/local/lib/python3.8/site-packages/scipy/optimize/_numdiff.py:519: RuntimeWarning: invalid value encountered in true_divide\n",
      "  J_transposed[i] = df / dx\n",
      "/usr/local/lib/python3.8/site-packages/scipy/optimize/_numdiff.py:519: RuntimeWarning: invalid value encountered in true_divide\n",
      "  J_transposed[i] = df / dx\n",
      "/usr/local/lib/python3.8/site-packages/scipy/optimize/_numdiff.py:519: RuntimeWarning: invalid value encountered in true_divide\n",
      "  J_transposed[i] = df / dx\n",
      "/usr/local/lib/python3.8/site-packages/scipy/optimize/_numdiff.py:519: RuntimeWarning: invalid value encountered in true_divide\n",
      "  J_transposed[i] = df / dx\n",
      "/usr/local/lib/python3.8/site-packages/scipy/optimize/_numdiff.py:519: RuntimeWarning: invalid value encountered in true_divide\n",
      "  J_transposed[i] = df / dx\n",
      "/usr/local/lib/python3.8/site-packages/scipy/optimize/_numdiff.py:519: RuntimeWarning: invalid value encountered in true_divide\n",
      "  J_transposed[i] = df / dx\n",
      "/usr/local/lib/python3.8/site-packages/scipy/optimize/_numdiff.py:519: RuntimeWarning: invalid value encountered in true_divide\n",
      "  J_transposed[i] = df / dx\n",
      "/usr/local/lib/python3.8/site-packages/scipy/optimize/_numdiff.py:519: RuntimeWarning: invalid value encountered in true_divide\n",
      "  J_transposed[i] = df / dx\n",
      "/usr/local/lib/python3.8/site-packages/scipy/optimize/_numdiff.py:519: RuntimeWarning: invalid value encountered in true_divide\n",
      "  J_transposed[i] = df / dx\n",
      "/usr/local/lib/python3.8/site-packages/scipy/optimize/_numdiff.py:519: RuntimeWarning: invalid value encountered in true_divide\n",
      "  J_transposed[i] = df / dx\n",
      "/usr/local/lib/python3.8/site-packages/scipy/optimize/_numdiff.py:519: RuntimeWarning: invalid value encountered in true_divide\n",
      "  J_transposed[i] = df / dx\n",
      "/usr/local/lib/python3.8/site-packages/scipy/optimize/_numdiff.py:519: RuntimeWarning: invalid value encountered in true_divide\n",
      "  J_transposed[i] = df / dx\n",
      "/usr/local/lib/python3.8/site-packages/scipy/optimize/_numdiff.py:519: RuntimeWarning: invalid value encountered in true_divide\n",
      "  J_transposed[i] = df / dx\n",
      "/usr/local/lib/python3.8/site-packages/scipy/optimize/_numdiff.py:519: RuntimeWarning: invalid value encountered in true_divide\n",
      "  J_transposed[i] = df / dx\n",
      "/usr/local/lib/python3.8/site-packages/scipy/optimize/_numdiff.py:519: RuntimeWarning: invalid value encountered in true_divide\n",
      "  J_transposed[i] = df / dx\n",
      "/usr/local/lib/python3.8/site-packages/scipy/optimize/_numdiff.py:519: RuntimeWarning: invalid value encountered in true_divide\n",
      "  J_transposed[i] = df / dx\n",
      "/usr/local/lib/python3.8/site-packages/scipy/optimize/_numdiff.py:519: RuntimeWarning: invalid value encountered in true_divide\n",
      "  J_transposed[i] = df / dx\n",
      "/usr/local/lib/python3.8/site-packages/scipy/optimize/_numdiff.py:519: RuntimeWarning: invalid value encountered in true_divide\n",
      "  J_transposed[i] = df / dx\n",
      "/usr/local/lib/python3.8/site-packages/scipy/optimize/_numdiff.py:519: RuntimeWarning: invalid value encountered in true_divide\n",
      "  J_transposed[i] = df / dx\n",
      "/usr/local/lib/python3.8/site-packages/scipy/optimize/_numdiff.py:519: RuntimeWarning: invalid value encountered in true_divide\n",
      "  J_transposed[i] = df / dx\n",
      "/usr/local/lib/python3.8/site-packages/scipy/optimize/_numdiff.py:519: RuntimeWarning: invalid value encountered in true_divide\n",
      "  J_transposed[i] = df / dx\n",
      "/usr/local/lib/python3.8/site-packages/scipy/optimize/_numdiff.py:519: RuntimeWarning: invalid value encountered in true_divide\n",
      "  J_transposed[i] = df / dx\n",
      "/usr/local/lib/python3.8/site-packages/scipy/optimize/_numdiff.py:519: RuntimeWarning: invalid value encountered in true_divide\n",
      "  J_transposed[i] = df / dx\n",
      "/usr/local/lib/python3.8/site-packages/scipy/optimize/_numdiff.py:519: RuntimeWarning: invalid value encountered in true_divide\n",
      "  J_transposed[i] = df / dx\n",
      "/usr/local/lib/python3.8/site-packages/scipy/optimize/_numdiff.py:519: RuntimeWarning: invalid value encountered in true_divide\n",
      "  J_transposed[i] = df / dx\n",
      "/usr/local/lib/python3.8/site-packages/scipy/optimize/_numdiff.py:519: RuntimeWarning: invalid value encountered in true_divide\n",
      "  J_transposed[i] = df / dx\n",
      "/usr/local/lib/python3.8/site-packages/scipy/optimize/_numdiff.py:519: RuntimeWarning: invalid value encountered in true_divide\n",
      "  J_transposed[i] = df / dx\n",
      "/usr/local/lib/python3.8/site-packages/scipy/optimize/_numdiff.py:519: RuntimeWarning: invalid value encountered in true_divide\n",
      "  J_transposed[i] = df / dx\n",
      "/usr/local/lib/python3.8/site-packages/scipy/optimize/_numdiff.py:519: RuntimeWarning: invalid value encountered in true_divide\n",
      "  J_transposed[i] = df / dx\n",
      "/usr/local/lib/python3.8/site-packages/scipy/optimize/_numdiff.py:519: RuntimeWarning: invalid value encountered in true_divide\n",
      "  J_transposed[i] = df / dx\n",
      "/usr/local/lib/python3.8/site-packages/scipy/optimize/_numdiff.py:519: RuntimeWarning: invalid value encountered in true_divide\n",
      "  J_transposed[i] = df / dx\n",
      "/usr/local/lib/python3.8/site-packages/scipy/optimize/_numdiff.py:519: RuntimeWarning: invalid value encountered in true_divide\n",
      "  J_transposed[i] = df / dx\n",
      "/usr/local/lib/python3.8/site-packages/scipy/optimize/_numdiff.py:519: RuntimeWarning: invalid value encountered in true_divide\n",
      "  J_transposed[i] = df / dx\n",
      "/usr/local/lib/python3.8/site-packages/scipy/optimize/_numdiff.py:519: RuntimeWarning: invalid value encountered in true_divide\n",
      "  J_transposed[i] = df / dx\n",
      "/usr/local/lib/python3.8/site-packages/scipy/optimize/_numdiff.py:519: RuntimeWarning: invalid value encountered in true_divide\n",
      "  J_transposed[i] = df / dx\n",
      "/usr/local/lib/python3.8/site-packages/scipy/optimize/_numdiff.py:519: RuntimeWarning: invalid value encountered in true_divide\n",
      "  J_transposed[i] = df / dx\n",
      "/usr/local/lib/python3.8/site-packages/scipy/optimize/_numdiff.py:519: RuntimeWarning: invalid value encountered in true_divide\n",
      "  J_transposed[i] = df / dx\n"
     ]
    },
    {
     "name": "stderr",
     "output_type": "stream",
     "text": [
      "INFO:fbprophet:Found custom seasonality named 'yearly', disabling built-in 'yearly' seasonality.\n",
      "INFO:fbprophet:Found custom seasonality named 'daily', disabling built-in 'daily' seasonality.\n",
      "INFO:fbprophet:Making 11 forecasts with cutoffs between 2018-11-25 09:00:00 and 2020-01-16 01:00:00\n"
     ]
    },
    {
     "data": {
      "application/vnd.jupyter.widget-view+json": {
       "model_id": "bf949a15a79240bdac3dde70b7899de5",
       "version_major": 2,
       "version_minor": 0
      },
      "text/plain": [
       "HBox(children=(FloatProgress(value=0.0, max=11.0), HTML(value='')))"
      ]
     },
     "metadata": {},
     "output_type": "display_data"
    },
    {
     "name": "stdout",
     "output_type": "stream",
     "text": [
      "\n",
      "| \u001b[0m 29      \u001b[0m | \u001b[0m-5.883   \u001b[0m | \u001b[0m-0.7728  \u001b[0m | \u001b[0m-2.0     \u001b[0m | \u001b[0m-2.0     \u001b[0m | \u001b[0m 2.0     \u001b[0m |\n",
      "bounds: \n",
      "[[-2.  2.]\n",
      " [-2. -2.]\n",
      " [-2. -2.]\n",
      " [ 2.  2.]]\n"
     ]
    },
    {
     "name": "stderr",
     "output_type": "stream",
     "text": [
      "/usr/local/lib/python3.8/site-packages/scipy/optimize/_numdiff.py:519: RuntimeWarning: invalid value encountered in true_divide\n",
      "  J_transposed[i] = df / dx\n",
      "/usr/local/lib/python3.8/site-packages/scipy/optimize/_numdiff.py:519: RuntimeWarning: invalid value encountered in true_divide\n",
      "  J_transposed[i] = df / dx\n",
      "/usr/local/lib/python3.8/site-packages/scipy/optimize/_numdiff.py:519: RuntimeWarning: invalid value encountered in true_divide\n",
      "  J_transposed[i] = df / dx\n",
      "/usr/local/lib/python3.8/site-packages/scipy/optimize/_numdiff.py:519: RuntimeWarning: invalid value encountered in true_divide\n",
      "  J_transposed[i] = df / dx\n",
      "/usr/local/lib/python3.8/site-packages/scipy/optimize/_numdiff.py:519: RuntimeWarning: invalid value encountered in true_divide\n",
      "  J_transposed[i] = df / dx\n",
      "/usr/local/lib/python3.8/site-packages/scipy/optimize/_numdiff.py:519: RuntimeWarning: invalid value encountered in true_divide\n",
      "  J_transposed[i] = df / dx\n",
      "/usr/local/lib/python3.8/site-packages/scipy/optimize/_numdiff.py:519: RuntimeWarning: invalid value encountered in true_divide\n",
      "  J_transposed[i] = df / dx\n",
      "/usr/local/lib/python3.8/site-packages/scipy/optimize/_numdiff.py:519: RuntimeWarning: invalid value encountered in true_divide\n",
      "  J_transposed[i] = df / dx\n",
      "/usr/local/lib/python3.8/site-packages/scipy/optimize/_numdiff.py:519: RuntimeWarning: invalid value encountered in true_divide\n",
      "  J_transposed[i] = df / dx\n",
      "/usr/local/lib/python3.8/site-packages/scipy/optimize/_numdiff.py:519: RuntimeWarning: invalid value encountered in true_divide\n",
      "  J_transposed[i] = df / dx\n",
      "/usr/local/lib/python3.8/site-packages/scipy/optimize/_numdiff.py:519: RuntimeWarning: invalid value encountered in true_divide\n",
      "  J_transposed[i] = df / dx\n",
      "/usr/local/lib/python3.8/site-packages/scipy/optimize/_numdiff.py:519: RuntimeWarning: invalid value encountered in true_divide\n",
      "  J_transposed[i] = df / dx\n",
      "/usr/local/lib/python3.8/site-packages/scipy/optimize/_numdiff.py:519: RuntimeWarning: invalid value encountered in true_divide\n",
      "  J_transposed[i] = df / dx\n",
      "/usr/local/lib/python3.8/site-packages/scipy/optimize/_numdiff.py:519: RuntimeWarning: invalid value encountered in true_divide\n",
      "  J_transposed[i] = df / dx\n",
      "/usr/local/lib/python3.8/site-packages/scipy/optimize/_numdiff.py:519: RuntimeWarning: invalid value encountered in true_divide\n",
      "  J_transposed[i] = df / dx\n",
      "/usr/local/lib/python3.8/site-packages/scipy/optimize/_numdiff.py:519: RuntimeWarning: invalid value encountered in true_divide\n",
      "  J_transposed[i] = df / dx\n",
      "/usr/local/lib/python3.8/site-packages/scipy/optimize/_numdiff.py:519: RuntimeWarning: invalid value encountered in true_divide\n",
      "  J_transposed[i] = df / dx\n",
      "/usr/local/lib/python3.8/site-packages/scipy/optimize/_numdiff.py:519: RuntimeWarning: invalid value encountered in true_divide\n",
      "  J_transposed[i] = df / dx\n",
      "/usr/local/lib/python3.8/site-packages/scipy/optimize/_numdiff.py:519: RuntimeWarning: invalid value encountered in true_divide\n",
      "  J_transposed[i] = df / dx\n",
      "/usr/local/lib/python3.8/site-packages/scipy/optimize/_numdiff.py:519: RuntimeWarning: invalid value encountered in true_divide\n",
      "  J_transposed[i] = df / dx\n",
      "/usr/local/lib/python3.8/site-packages/scipy/optimize/_numdiff.py:519: RuntimeWarning: invalid value encountered in true_divide\n",
      "  J_transposed[i] = df / dx\n",
      "/usr/local/lib/python3.8/site-packages/scipy/optimize/_numdiff.py:519: RuntimeWarning: invalid value encountered in true_divide\n",
      "  J_transposed[i] = df / dx\n",
      "/usr/local/lib/python3.8/site-packages/scipy/optimize/_numdiff.py:519: RuntimeWarning: invalid value encountered in true_divide\n",
      "  J_transposed[i] = df / dx\n",
      "/usr/local/lib/python3.8/site-packages/scipy/optimize/_numdiff.py:519: RuntimeWarning: invalid value encountered in true_divide\n",
      "  J_transposed[i] = df / dx\n",
      "/usr/local/lib/python3.8/site-packages/scipy/optimize/_numdiff.py:519: RuntimeWarning: invalid value encountered in true_divide\n",
      "  J_transposed[i] = df / dx\n",
      "/usr/local/lib/python3.8/site-packages/scipy/optimize/_numdiff.py:519: RuntimeWarning: invalid value encountered in true_divide\n",
      "  J_transposed[i] = df / dx\n",
      "/usr/local/lib/python3.8/site-packages/scipy/optimize/_numdiff.py:519: RuntimeWarning: invalid value encountered in true_divide\n",
      "  J_transposed[i] = df / dx\n",
      "/usr/local/lib/python3.8/site-packages/scipy/optimize/_numdiff.py:519: RuntimeWarning: invalid value encountered in true_divide\n",
      "  J_transposed[i] = df / dx\n",
      "/usr/local/lib/python3.8/site-packages/scipy/optimize/_numdiff.py:519: RuntimeWarning: invalid value encountered in true_divide\n",
      "  J_transposed[i] = df / dx\n",
      "/usr/local/lib/python3.8/site-packages/scipy/optimize/_numdiff.py:519: RuntimeWarning: invalid value encountered in true_divide\n",
      "  J_transposed[i] = df / dx\n",
      "/usr/local/lib/python3.8/site-packages/scipy/optimize/_numdiff.py:519: RuntimeWarning: invalid value encountered in true_divide\n",
      "  J_transposed[i] = df / dx\n",
      "/usr/local/lib/python3.8/site-packages/scipy/optimize/_numdiff.py:519: RuntimeWarning: invalid value encountered in true_divide\n",
      "  J_transposed[i] = df / dx\n",
      "/usr/local/lib/python3.8/site-packages/scipy/optimize/_numdiff.py:519: RuntimeWarning: invalid value encountered in true_divide\n",
      "  J_transposed[i] = df / dx\n",
      "/usr/local/lib/python3.8/site-packages/scipy/optimize/_numdiff.py:519: RuntimeWarning: invalid value encountered in true_divide\n",
      "  J_transposed[i] = df / dx\n",
      "/usr/local/lib/python3.8/site-packages/scipy/optimize/_numdiff.py:519: RuntimeWarning: invalid value encountered in true_divide\n",
      "  J_transposed[i] = df / dx\n",
      "/usr/local/lib/python3.8/site-packages/scipy/optimize/_numdiff.py:519: RuntimeWarning: invalid value encountered in true_divide\n",
      "  J_transposed[i] = df / dx\n",
      "/usr/local/lib/python3.8/site-packages/scipy/optimize/_numdiff.py:519: RuntimeWarning: invalid value encountered in true_divide\n",
      "  J_transposed[i] = df / dx\n",
      "/usr/local/lib/python3.8/site-packages/scipy/optimize/_numdiff.py:519: RuntimeWarning: invalid value encountered in true_divide\n",
      "  J_transposed[i] = df / dx\n",
      "/usr/local/lib/python3.8/site-packages/scipy/optimize/_numdiff.py:519: RuntimeWarning: invalid value encountered in true_divide\n",
      "  J_transposed[i] = df / dx\n",
      "/usr/local/lib/python3.8/site-packages/scipy/optimize/_numdiff.py:519: RuntimeWarning: invalid value encountered in true_divide\n",
      "  J_transposed[i] = df / dx\n",
      "/usr/local/lib/python3.8/site-packages/scipy/optimize/_numdiff.py:519: RuntimeWarning: invalid value encountered in true_divide\n",
      "  J_transposed[i] = df / dx\n",
      "/usr/local/lib/python3.8/site-packages/scipy/optimize/_numdiff.py:519: RuntimeWarning: invalid value encountered in true_divide\n",
      "  J_transposed[i] = df / dx\n",
      "/usr/local/lib/python3.8/site-packages/scipy/optimize/_numdiff.py:519: RuntimeWarning: invalid value encountered in true_divide\n",
      "  J_transposed[i] = df / dx\n",
      "/usr/local/lib/python3.8/site-packages/scipy/optimize/_numdiff.py:519: RuntimeWarning: invalid value encountered in true_divide\n",
      "  J_transposed[i] = df / dx\n",
      "/usr/local/lib/python3.8/site-packages/scipy/optimize/_numdiff.py:519: RuntimeWarning: invalid value encountered in true_divide\n",
      "  J_transposed[i] = df / dx\n",
      "/usr/local/lib/python3.8/site-packages/scipy/optimize/_numdiff.py:519: RuntimeWarning: invalid value encountered in true_divide\n",
      "  J_transposed[i] = df / dx\n",
      "/usr/local/lib/python3.8/site-packages/scipy/optimize/_numdiff.py:519: RuntimeWarning: invalid value encountered in true_divide\n",
      "  J_transposed[i] = df / dx\n",
      "/usr/local/lib/python3.8/site-packages/scipy/optimize/_numdiff.py:519: RuntimeWarning: invalid value encountered in true_divide\n",
      "  J_transposed[i] = df / dx\n",
      "/usr/local/lib/python3.8/site-packages/scipy/optimize/_numdiff.py:519: RuntimeWarning: invalid value encountered in true_divide\n",
      "  J_transposed[i] = df / dx\n",
      "/usr/local/lib/python3.8/site-packages/scipy/optimize/_numdiff.py:519: RuntimeWarning: invalid value encountered in true_divide\n",
      "  J_transposed[i] = df / dx\n",
      "/usr/local/lib/python3.8/site-packages/scipy/optimize/_numdiff.py:519: RuntimeWarning: invalid value encountered in true_divide\n",
      "  J_transposed[i] = df / dx\n",
      "/usr/local/lib/python3.8/site-packages/scipy/optimize/_numdiff.py:519: RuntimeWarning: invalid value encountered in true_divide\n",
      "  J_transposed[i] = df / dx\n",
      "/usr/local/lib/python3.8/site-packages/scipy/optimize/_numdiff.py:519: RuntimeWarning: invalid value encountered in true_divide\n",
      "  J_transposed[i] = df / dx\n",
      "/usr/local/lib/python3.8/site-packages/scipy/optimize/_numdiff.py:519: RuntimeWarning: invalid value encountered in true_divide\n",
      "  J_transposed[i] = df / dx\n",
      "/usr/local/lib/python3.8/site-packages/scipy/optimize/_numdiff.py:519: RuntimeWarning: invalid value encountered in true_divide\n",
      "  J_transposed[i] = df / dx\n",
      "/usr/local/lib/python3.8/site-packages/scipy/optimize/_numdiff.py:519: RuntimeWarning: invalid value encountered in true_divide\n",
      "  J_transposed[i] = df / dx\n",
      "/usr/local/lib/python3.8/site-packages/scipy/optimize/_numdiff.py:519: RuntimeWarning: invalid value encountered in true_divide\n",
      "  J_transposed[i] = df / dx\n",
      "/usr/local/lib/python3.8/site-packages/scipy/optimize/_numdiff.py:519: RuntimeWarning: invalid value encountered in true_divide\n",
      "  J_transposed[i] = df / dx\n",
      "/usr/local/lib/python3.8/site-packages/scipy/optimize/_numdiff.py:519: RuntimeWarning: invalid value encountered in true_divide\n",
      "  J_transposed[i] = df / dx\n",
      "/usr/local/lib/python3.8/site-packages/scipy/optimize/_numdiff.py:519: RuntimeWarning: invalid value encountered in true_divide\n",
      "  J_transposed[i] = df / dx\n"
     ]
    },
    {
     "name": "stderr",
     "output_type": "stream",
     "text": [
      "INFO:fbprophet:Found custom seasonality named 'yearly', disabling built-in 'yearly' seasonality.\n",
      "INFO:fbprophet:Found custom seasonality named 'daily', disabling built-in 'daily' seasonality.\n",
      "INFO:fbprophet:Making 11 forecasts with cutoffs between 2018-11-25 09:00:00 and 2020-01-16 01:00:00\n"
     ]
    },
    {
     "data": {
      "application/vnd.jupyter.widget-view+json": {
       "model_id": "35247855de24486383898128e439ac1b",
       "version_major": 2,
       "version_minor": 0
      },
      "text/plain": [
       "HBox(children=(FloatProgress(value=0.0, max=11.0), HTML(value='')))"
      ]
     },
     "metadata": {},
     "output_type": "display_data"
    },
    {
     "name": "stdout",
     "output_type": "stream",
     "text": [
      "\n",
      "| \u001b[0m 30      \u001b[0m | \u001b[0m-5.884   \u001b[0m | \u001b[0m 0.09288 \u001b[0m | \u001b[0m-2.0     \u001b[0m | \u001b[0m-2.0     \u001b[0m | \u001b[0m 2.0     \u001b[0m |\n",
      "=========================================================================\n",
      "\n",
      "Max params:\n",
      "{'target': -5.8830215248022, 'params': {'daily_prior': 0.7832480635982564, 'dp_prior': -2.0, 'hum_prior': -2.0, 'yearly_prior': 2.0}}\n"
     ]
    }
   ],
   "source": [
    "# daily_prior_scale calculated as 10 ** daily_prior in prophet_f\n",
    "pbounds_red = {'daily_prior': (-2, 2), 'yearly_prior': (2, 2),\n",
    "               'hum_prior':   (-2, -2),    'dp_prior': (-2, -2)}\n",
    "\n",
    "optimizer.set_bounds(new_bounds=pbounds_red)\n",
    "\n",
    "optimizer.maximize(\n",
    "    init_points=0,\n",
    "    n_iter=10)\n",
    "\n",
    "print(\"\\nMax params:\")\n",
    "print(optimizer.max)\n"
   ]
  },
  {
   "cell_type": "markdown",
   "metadata": {},
   "source": [
    "### Compare optimised model with earlier models\n",
    "\n",
    "There was a marginal improvement in rmse value from setting new bounds to optimise only `daily_prior`.  We are firmly into the _micro-optimisation theatre_ regime, so time to stop optimisation.\n",
    "\n",
    "How does the optimised model compare with the earlier models?"
   ]
  },
  {
   "cell_type": "code",
   "execution_count": 14,
   "metadata": {},
   "outputs": [
    {
     "name": "stdout",
     "output_type": "stream",
     "text": [
      "Simple model:\n"
     ]
    },
    {
     "data": {
      "text/html": [
       "<div>\n",
       "<style scoped>\n",
       "    .dataframe tbody tr th:only-of-type {\n",
       "        vertical-align: middle;\n",
       "    }\n",
       "\n",
       "    .dataframe tbody tr th {\n",
       "        vertical-align: top;\n",
       "    }\n",
       "\n",
       "    .dataframe thead th {\n",
       "        text-align: right;\n",
       "    }\n",
       "</style>\n",
       "<table border=\"1\" class=\"dataframe\">\n",
       "  <thead>\n",
       "    <tr style=\"text-align: right;\">\n",
       "      <th></th>\n",
       "      <th>horizon</th>\n",
       "      <th>rmse</th>\n",
       "      <th>mae</th>\n",
       "      <th>mape</th>\n",
       "    </tr>\n",
       "  </thead>\n",
       "  <tbody>\n",
       "    <tr>\n",
       "      <th>0</th>\n",
       "      <td>00:30:00</td>\n",
       "      <td>30.129179</td>\n",
       "      <td>26.998845</td>\n",
       "      <td>0.710990</td>\n",
       "    </tr>\n",
       "    <tr>\n",
       "      <th>1</th>\n",
       "      <td>01:00:00</td>\n",
       "      <td>31.161329</td>\n",
       "      <td>27.206752</td>\n",
       "      <td>0.554322</td>\n",
       "    </tr>\n",
       "  </tbody>\n",
       "</table>\n",
       "</div>"
      ],
      "text/plain": [
       "   horizon       rmse        mae      mape\n",
       "0 00:30:00  30.129179  26.998845  0.710990\n",
       "1 01:00:00  31.161329  27.206752  0.554322"
      ]
     },
     "metadata": {},
     "output_type": "display_data"
    }
   ],
   "source": [
    "print(\"Simple model:\")\n",
    "display(df_p[['horizon','rmse','mae','mape']])"
   ]
  },
  {
   "cell_type": "markdown",
   "metadata": {},
   "source": [
    "Model with tuned discrete parameters and small grid search over continuous parameters:\n",
    "\n",
    "| horizon  | rmse     | mae      | mape     |\n",
    "|----------|----------|----------|----------|\n",
    "| 00:30:00 | 6.784561 | 5.127664 | 0.069588 |\n",
    "| 01:00:00 | 8.080058 | 5.304410 | 0.076183 |\n"
   ]
  },
  {
   "cell_type": "code",
   "execution_count": 16,
   "metadata": {},
   "outputs": [
    {
     "name": "stderr",
     "output_type": "stream",
     "text": [
      "INFO:fbprophet:Found custom seasonality named 'yearly', disabling built-in 'yearly' seasonality.\n",
      "INFO:fbprophet:Found custom seasonality named 'daily', disabling built-in 'daily' seasonality.\n",
      "INFO:fbprophet:Making 42 forecasts with cutoffs between 2018-11-14 23:00:00 and 2020-01-16 01:00:00\n"
     ]
    },
    {
     "data": {
      "application/vnd.jupyter.widget-view+json": {
       "model_id": "18799693ee64410aab4e4787cb516216",
       "version_major": 2,
       "version_minor": 0
      },
      "text/plain": [
       "HBox(children=(FloatProgress(value=0.0, max=42.0), HTML(value='')))"
      ]
     },
     "metadata": {},
     "output_type": "display_data"
    },
    {
     "name": "stdout",
     "output_type": "stream",
     "text": [
      "\n",
      "Bayesian optimised parameters:\n"
     ]
    },
    {
     "data": {
      "text/html": [
       "<div>\n",
       "<style scoped>\n",
       "    .dataframe tbody tr th:only-of-type {\n",
       "        vertical-align: middle;\n",
       "    }\n",
       "\n",
       "    .dataframe tbody tr th {\n",
       "        vertical-align: top;\n",
       "    }\n",
       "\n",
       "    .dataframe thead th {\n",
       "        text-align: right;\n",
       "    }\n",
       "</style>\n",
       "<table border=\"1\" class=\"dataframe\">\n",
       "  <thead>\n",
       "    <tr style=\"text-align: right;\">\n",
       "      <th></th>\n",
       "      <th>horizon</th>\n",
       "      <th>rmse</th>\n",
       "      <th>mae</th>\n",
       "      <th>mape</th>\n",
       "    </tr>\n",
       "  </thead>\n",
       "  <tbody>\n",
       "    <tr>\n",
       "      <th>0</th>\n",
       "      <td>00:30:00</td>\n",
       "      <td>6.878412</td>\n",
       "      <td>4.847572</td>\n",
       "      <td>0.073778</td>\n",
       "    </tr>\n",
       "    <tr>\n",
       "      <th>1</th>\n",
       "      <td>01:00:00</td>\n",
       "      <td>10.261053</td>\n",
       "      <td>5.267301</td>\n",
       "      <td>0.071958</td>\n",
       "    </tr>\n",
       "  </tbody>\n",
       "</table>\n",
       "</div>"
      ],
      "text/plain": [
       "   horizon       rmse       mae      mape\n",
       "0 00:30:00   6.878412  4.847572  0.073778\n",
       "1 01:00:00  10.261053  5.267301  0.071958"
      ]
     },
     "execution_count": 16,
     "metadata": {},
     "output_type": "execute_result"
    }
   ],
   "source": [
    "m_opt, m_diags_opt = prophet_f(optimizer.max['params']['daily_prior'], \n",
    "                               optimizer.max['params']['yearly_prior'], \n",
    "                               optimizer.max['params']['hum_prior'],\n",
    "                               optimizer.max['params']['dp_prior'],\n",
    "                               metric='all',\n",
    "                               period='250 hours')\n",
    "\n",
    "print(\"Bayesian optimised parameters:\")\n",
    "m_diags_opt"
   ]
  },
  {
   "cell_type": "markdown",
   "metadata": {},
   "source": [
    "### Plot components of forecast from optimised model\n",
    "\n",
    "Finally, make a forecast with the optimised model and plot model components."
   ]
  },
  {
   "cell_type": "code",
   "execution_count": 17,
   "metadata": {},
   "outputs": [
    {
     "name": "stderr",
     "output_type": "stream",
     "text": [
      "/usr/local/lib/python3.8/site-packages/fbprophet/plot.py:422: UserWarning: FixedFormatter should only be used together with FixedLocator\n",
      "  ax.set_yticklabels(yticklabels)\n",
      "/usr/local/lib/python3.8/site-packages/fbprophet/plot.py:422: UserWarning: FixedFormatter should only be used together with FixedLocator\n",
      "  ax.set_yticklabels(yticklabels)\n"
     ]
    },
    {
     "data": {
      "image/png": "[encoded data removed]",
      "text/plain": [
       "<Figure size 648x864 with 4 Axes>"
      ]
     },
     "metadata": {},
     "output_type": "display_data"
    }
   ],
   "source": [
    "forecast_opt = m_opt.predict(df_test)\n",
    "fig3 = m_opt.plot_components(forecast_opt)"
   ]
  },
  {
   "cell_type": "markdown",
   "metadata": {},
   "source": [
    "---\n",
    "\n",
    "## Conclusion\n",
    "\n",
    "Findings:\n",
    " * Bayesian optimised parameters\n",
    "   * it's notable that `yearly_prior` has converged to the maximum limit (2) and `dp_prior` plus `hum_prior` converged to the lower limit (-2)\n",
    " * Components\n",
    "   * yearly and daily seasonalities appear overfitted to me\n",
    "     * I would expect a smooth cycle with a single maximum and a single minimum\n",
    "   * there may be some seasonality present in the extra regressors\n",
    "     * check for seasonality in performance of the model\n",
    " * Diagnostics\n",
    "   * the Bayesian optimised model is superior to the simple model\n",
    "   * the Bayesian optimised model is comparable to the partially optimised grid search model\n",
    " * Number of model evaluations\n",
    "   * unfortunately, we cannot make a good comparison between the R grid search and the Bayesian optimisation\n",
    "     * I used a more restricted parameter range in the R grid search\n",
    "     * a comparable grid would be [0.01, 0.1, 0, 1, 10, 100] meaning potentially 625 (5 ** 4) model evaluations for these 4 continuous parameters\n",
    "     * this compares well with the 30 model evaluations performed for Bayesian optimisation\n",
    "   * a comparable random search may not give better results than Bayesian optimisation\n",
    "\n",
    "It's disappointing that the Bayesian optimised model has worse performance than the \n",
    "[simple exponential smoothing baseline model](https://github.com/makeyourownmaker/CambridgeTemperatureModel#one-step-ahead-baselines) :-(\n",
    "\n",
    "Future work could include:\n",
    " * Plot individual affect of each regressor as done in this [weather related prophet notebook](https://nbviewer.jupyter.org/github/nicolasfauchereau/Auckland_Cycling/blob/master/notebooks/Auckland_cycling_and_weather.ipynb)\n",
    " * Consider deseasonalising the regressors\n",
    " * Explore addition of lagged regressors\n",
    " * Expand horizon to 2 hours\n",
    "   * limited to 1 hour here to reduce compute time\n",
    " * Plot optimisation progress\n",
    "   * the bayes_opt package does not include any built-in plots\n",
    "   * plots could show if there are any unexplored areas of parameter space\n",
    " * Cross-validation would benefit from being \n",
    "[parallelised](https://facebook.github.io/prophet/docs/diagnostics.html#parallelizing-cross-validation)\n",
    "\n",
    "In conclusion, the Bayesian optimised model is much improved but the possible seasonality in the regressors needs further investigation."
   ]
  },
  {
   "cell_type": "markdown",
   "metadata": {},
   "source": [
    "---\n",
    "\n",
    "\n",
    "## Archival\n",
    "\n",
    "Archive code, markdown, history and formatted notebooks.\n",
    "\n",
    "Assumes all pdf, html, latex etc dependencies are installed.\n",
    "\n",
    "**WARNING** Will overwrite existing files."
   ]
  },
  {
   "cell_type": "code",
   "execution_count": 18,
   "metadata": {},
   "outputs": [
    {
     "name": "stdout",
     "output_type": "stream",
     "text": [
      "[NbConvertApp] Converting notebook BayesOptProphetHyperparameters.ipynb to python\n",
      "[NbConvertApp] Writing 18396 bytes to BayesOptProphetHyperparameters.py\n",
      "[NbConvertApp] Converting notebook BayesOptProphetHyperparameters.ipynb to markdown\n",
      "[NbConvertApp] Support files will be in BayesOptProphetHyperparameters_files/\n",
      "[NbConvertApp] Making directory BayesOptProphetHyperparameters_files\n",
      "[NbConvertApp] Making directory BayesOptProphetHyperparameters_files\n",
      "[NbConvertApp] Writing 151384 bytes to BayesOptProphetHyperparameters.md\n",
      "[NbConvertApp] Converting notebook BayesOptProphetHyperparameters.ipynb to html\n",
      "[NbConvertApp] Writing 910968 bytes to BayesOptProphetHyperparameters.html\n"
     ]
    }
   ],
   "source": [
    "notebook = \"BayesOptProphetHyperparameters.ipynb\"\n",
    "# !jupyter nbconvert --to script {notebook}\n",
    "# !jupyter nbconvert --execute --to html {notebook}\n",
    "# !jupyter nbconvert --execute --to pdf {notebook}\n",
    "# !jupyter nbconvert --to pdf {notebook}\n",
    "\n",
    "%rm history.txt\n",
    "%history -f history.txt\n",
    "\n",
    "!jupyter nbconvert --to python {notebook}\n",
    "sleep(5)\n",
    "!jupyter nbconvert --to markdown {notebook}\n",
    "sleep(5)\n",
    "!jupyter nbconvert --to html {notebook}"
   ]
  },
  {
   "cell_type": "markdown",
   "metadata": {},
   "source": [
    "---\n",
    "\n",
    "## Metadata\n",
    "\n",
    "Python and Jupyter versions plus modules imported and their version strings.\n",
    "This is the poor man's python equivalent of R's [`sessionInfo()`](https://stat.ethz.ch/R-manual/R-patched/library/utils/html/sessionInfo.html).\n",
    "\n",
    "Code for imported modules and versions adapted from this [stackoverflow answer](https://stackoverflow.com/a/49199019/100129).  There are simpler alternatives,\n",
    "such as [watermark](https://github.com/rasbt/watermark),\n",
    "but they all require installation."
   ]
  },
  {
   "cell_type": "code",
   "execution_count": 19,
   "metadata": {},
   "outputs": [
    {
     "name": "stdout",
     "output_type": "stream",
     "text": [
      "Python version:\n",
      "/usr/local/opt/python@3.8/bin/python3.8\n",
      "3.8.6 (default, Oct  8 2020, 14:17:19) \n",
      "[Clang 10.0.0 (clang-1000.11.45.5)]\n",
      "\n",
      "IPython version:\n",
      "7.19.0\n"
     ]
    }
   ],
   "source": [
    "import sys\n",
    "import IPython\n",
    "\n",
    "print(\"Python version:\")\n",
    "print(sys.executable)\n",
    "print(sys.version)\n",
    "print(\"\\nIPython version:\")\n",
    "print(IPython.__version__)"
   ]
  },
  {
   "cell_type": "code",
   "execution_count": 20,
   "metadata": {},
   "outputs": [
    {
     "name": "stdout",
     "output_type": "stream",
     "text": [
      "Imported modules:\n"
     ]
    },
    {
     "data": {
      "text/html": [
       "<style  type=\"text/css\" >\n",
       "</style><table id=\"T_3e0a12d8_56b6_11eb_a70e_542696cf5333\" ><thead>    <tr>        <th class=\"col_heading level0 col0\" >name</th>        <th class=\"col_heading level0 col1\" >version</th>    </tr></thead><tbody>\n",
       "                <tr>\n",
       "                                <td id=\"T_3e0a12d8_56b6_11eb_a70e_542696cf5333row0_col0\" class=\"data row0 col0\" >pandas</td>\n",
       "                        <td id=\"T_3e0a12d8_56b6_11eb_a70e_542696cf5333row0_col1\" class=\"data row0 col1\" >1.0.5</td>\n",
       "            </tr>\n",
       "            <tr>\n",
       "                                <td id=\"T_3e0a12d8_56b6_11eb_a70e_542696cf5333row1_col0\" class=\"data row1 col0\" >numpy</td>\n",
       "                        <td id=\"T_3e0a12d8_56b6_11eb_a70e_542696cf5333row1_col1\" class=\"data row1 col1\" >1.19.1</td>\n",
       "            </tr>\n",
       "            <tr>\n",
       "                                <td id=\"T_3e0a12d8_56b6_11eb_a70e_542696cf5333row2_col0\" class=\"data row2 col0\" >notebook</td>\n",
       "                        <td id=\"T_3e0a12d8_56b6_11eb_a70e_542696cf5333row2_col1\" class=\"data row2 col1\" >6.1.6</td>\n",
       "            </tr>\n",
       "            <tr>\n",
       "                                <td id=\"T_3e0a12d8_56b6_11eb_a70e_542696cf5333row3_col0\" class=\"data row3 col0\" >matplotlib</td>\n",
       "                        <td id=\"T_3e0a12d8_56b6_11eb_a70e_542696cf5333row3_col1\" class=\"data row3 col1\" >3.3.1</td>\n",
       "            </tr>\n",
       "            <tr>\n",
       "                                <td id=\"T_3e0a12d8_56b6_11eb_a70e_542696cf5333row4_col0\" class=\"data row4 col0\" >fbprophet</td>\n",
       "                        <td id=\"T_3e0a12d8_56b6_11eb_a70e_542696cf5333row4_col1\" class=\"data row4 col1\" >0.7.1</td>\n",
       "            </tr>\n",
       "            <tr>\n",
       "                                <td id=\"T_3e0a12d8_56b6_11eb_a70e_542696cf5333row5_col0\" class=\"data row5 col0\" >bayesian-optimization</td>\n",
       "                        <td id=\"T_3e0a12d8_56b6_11eb_a70e_542696cf5333row5_col1\" class=\"data row5 col1\" >1.2.0</td>\n",
       "            </tr>\n",
       "    </tbody></table>"
      ],
      "text/plain": [
       "<pandas.io.formats.style.Styler at 0x12c2235b0>"
      ]
     },
     "execution_count": 20,
     "metadata": {},
     "output_type": "execute_result"
    }
   ],
   "source": [
    "import pkg_resources\n",
    "import types\n",
    "\n",
    "def get_imports():\n",
    "    for name, val in globals().items():\n",
    "        if isinstance(val, types.ModuleType):\n",
    "            # Split ensures you get root package, \n",
    "            # not just imported function\n",
    "            name = val.__name__.split(\".\")[0]\n",
    "\n",
    "        elif isinstance(val, type):\n",
    "            name = val.__module__.split(\".\")[0]\n",
    "\n",
    "        # Some packages are weird and have different\n",
    "        # imported names vs. system/pip names.  Unfortunately,\n",
    "        # there is no systematic way to get pip names from\n",
    "        # a package's imported name.  You'll have to add\n",
    "        # exceptions to this list manually!\n",
    "        poorly_named_packages = {\n",
    "            \"PIL\":       \"Pillow\",\n",
    "            \"sklearn\":   \"scikit-learn\",\n",
    "            \"bayes_opt\": \"bayesian-optimization\",\n",
    "        }\n",
    "        if name in poorly_named_packages.keys():\n",
    "            name = poorly_named_packages[name]\n",
    "\n",
    "        yield name\n",
    "\n",
    "imports = list(set(get_imports()))\n",
    "\n",
    "# The only way I found to get the version of the root package\n",
    "# from only the name of the package is to cross-check the names \n",
    "# of installed packages vs. imported packages\n",
    "requirements = []\n",
    "for m in pkg_resources.working_set:\n",
    "    if m.project_name in imports and m.project_name != \"pip\":\n",
    "        requirements.append((m.project_name, m.version))\n",
    "\n",
    "reqs = pd.DataFrame(requirements, columns=['name', 'version'])\n",
    "print(\"Imported modules:\")\n",
    "reqs.style.hide_index()"
   ]
  },
  {
   "cell_type": "code",
   "execution_count": 21,
   "metadata": {},
   "outputs": [
    {
     "name": "stdout",
     "output_type": "stream",
     "text": [
      "Thu Jan 14 22:17:10 GMT 2021\r\n"
     ]
    }
   ],
   "source": [
    "!date"
   ]
  }
 ],
 "metadata": {
  "kernelspec": {
   "display_name": "Python 3",
   "language": "python",
   "name": "python3"
  },
  "language_info": {
   "codemirror_mode": {
    "name": "ipython",
    "version": 3
   },
   "file_extension": ".py",
   "mimetype": "text/x-python",
   "name": "python",
   "nbconvert_exporter": "python",
   "pygments_lexer": "ipython3",
   "version": "3.8.6"
  }
 },
 "nbformat": 4,
 "nbformat_minor": 4
}
