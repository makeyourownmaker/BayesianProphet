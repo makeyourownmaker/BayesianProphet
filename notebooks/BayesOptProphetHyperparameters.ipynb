{
 "cells": [
  {
   "cell_type": "code",
   "execution_count": 11,
   "metadata": {},
   "outputs": [],
   "source": [
    "%matplotlib inline\n",
    "\n",
    "import numpy as np\n",
    "import pandas as pd\n",
    "import matplotlib.pyplot as plt\n",
    "from time import sleep\n",
    "from fbprophet import Prophet\n",
    "from fbprophet.diagnostics import cross_validation, performance_metrics\n",
    "from bayes_opt import BayesianOptimization\n",
    "\n",
    "# silence scipy/optimize/_numdiff.py:519: RuntimeWarnings\n",
    "import warnings; \n",
    "warnings.simplefilter(\"ignore\", RuntimeWarning)\n",
    "\n",
    "# silence prophet INFO messages\n",
    "import logging\n",
    "logging.getLogger('fbprophet').setLevel(logging.WARNING)\n",
    "\n",
    "import random\n",
    "random.seed(42)\n",
    "np.random.seed(42)"
   ]
  },
  {
   "cell_type": "markdown",
   "metadata": {},
   "source": [
    "# Bayesian Optimisation of Prophet Hyperparameters\n",
    "\n",
    "This notebook illustrates optimisation of continuous hyperparamaters of \n",
    "[prophet](https://facebook.github.io/prophet/) \n",
    "time series models using the \n",
    "[BayesianOptimization](https://github.com/fmfn/BayesianOptimization) package.\n",
    "\n",
    "The notebook is organised into the following sections:\n",
    " * Importing Data\n",
    " * Building Simple Model\n",
    " * Cross-validating Model\n",
    " * Tuning Discrete Prophet Hyperparameters\n",
    " * Bayesian Optimisation of Continuous Prophet Hyperparameters\n",
    " * Conclusion\n",
    "\n",
    "\n",
    "## Import Data\n",
    "\n",
    "Data has been cleaned but may still have issues.  See the [cleaning section](https://github.com/makeyourownmaker/CambridgeTemperatureModel#Cleaning) in my [Cambridge Temperature Model repository](https://github.com/makeyourownmaker/CambridgeTemperatureModel) for details.\n",
    "\n",
    "The `y` variable is temperature * 10.  I'm primarily interested in very short term forecasts (less than 2 hours)\n",
    "but forecasts over 24 hours are also interesting."
   ]
  },
  {
   "cell_type": "code",
   "execution_count": 3,
   "metadata": {},
   "outputs": [
    {
     "name": "stdout",
     "output_type": "stream",
     "text": [
      "Shape:\n",
      "(192885, 11)\n",
      "\n",
      "Info:\n",
      "<class 'pandas.core.frame.DataFrame'>\n",
      "RangeIndex: 192885 entries, 0 to 192884\n",
      "Data columns (total 11 columns):\n",
      " #   Column             Non-Null Count   Dtype \n",
      "---  ------             --------------   ----- \n",
      " 0   ds                 192885 non-null  object\n",
      " 1   year               192885 non-null  int64 \n",
      " 2   doy                192885 non-null  int64 \n",
      " 3   time               192885 non-null  object\n",
      " 4   y                  192885 non-null  int64 \n",
      " 5   humidity           192885 non-null  int64 \n",
      " 6   dew.point          192885 non-null  int64 \n",
      " 7   pressure           192885 non-null  int64 \n",
      " 8   wind.speed.mean    192885 non-null  int64 \n",
      " 9   wind.bearing.mean  192885 non-null  int64 \n",
      " 10  wind.speed.max     192885 non-null  int64 \n",
      "dtypes: int64(9), object(2)\n",
      "memory usage: 16.2+ MB\n",
      "None\n",
      "\n",
      "Summary stats:\n"
     ]
    },
    {
     "data": {
      "text/html": [
       "<div>\n",
       "<style scoped>\n",
       "    .dataframe tbody tr th:only-of-type {\n",
       "        vertical-align: middle;\n",
       "    }\n",
       "\n",
       "    .dataframe tbody tr th {\n",
       "        vertical-align: top;\n",
       "    }\n",
       "\n",
       "    .dataframe thead th {\n",
       "        text-align: right;\n",
       "    }\n",
       "</style>\n",
       "<table border=\"1\" class=\"dataframe\">\n",
       "  <thead>\n",
       "    <tr style=\"text-align: right;\">\n",
       "      <th></th>\n",
       "      <th>year</th>\n",
       "      <th>doy</th>\n",
       "      <th>y</th>\n",
       "      <th>humidity</th>\n",
       "      <th>dew.point</th>\n",
       "      <th>pressure</th>\n",
       "      <th>wind.speed.mean</th>\n",
       "      <th>wind.bearing.mean</th>\n",
       "      <th>wind.speed.max</th>\n",
       "    </tr>\n",
       "  </thead>\n",
       "  <tbody>\n",
       "    <tr>\n",
       "      <th>count</th>\n",
       "      <td>192885.000000</td>\n",
       "      <td>192885.000000</td>\n",
       "      <td>192885.000000</td>\n",
       "      <td>192885.000000</td>\n",
       "      <td>192885.000000</td>\n",
       "      <td>192885.000000</td>\n",
       "      <td>192885.000000</td>\n",
       "      <td>192885.000000</td>\n",
       "      <td>192885.000000</td>\n",
       "    </tr>\n",
       "    <tr>\n",
       "      <th>mean</th>\n",
       "      <td>2013.895803</td>\n",
       "      <td>186.882298</td>\n",
       "      <td>101.096819</td>\n",
       "      <td>79.239951</td>\n",
       "      <td>62.135174</td>\n",
       "      <td>1014.404153</td>\n",
       "      <td>44.588148</td>\n",
       "      <td>196.223423</td>\n",
       "      <td>117.140369</td>\n",
       "    </tr>\n",
       "    <tr>\n",
       "      <th>std</th>\n",
       "      <td>3.283992</td>\n",
       "      <td>106.486420</td>\n",
       "      <td>64.465602</td>\n",
       "      <td>16.908724</td>\n",
       "      <td>51.016879</td>\n",
       "      <td>11.823922</td>\n",
       "      <td>40.025546</td>\n",
       "      <td>82.458390</td>\n",
       "      <td>80.116199</td>\n",
       "    </tr>\n",
       "    <tr>\n",
       "      <th>min</th>\n",
       "      <td>2008.000000</td>\n",
       "      <td>1.000000</td>\n",
       "      <td>-138.000000</td>\n",
       "      <td>25.000000</td>\n",
       "      <td>-143.000000</td>\n",
       "      <td>963.000000</td>\n",
       "      <td>0.000000</td>\n",
       "      <td>0.000000</td>\n",
       "      <td>0.000000</td>\n",
       "    </tr>\n",
       "    <tr>\n",
       "      <th>25%</th>\n",
       "      <td>2011.000000</td>\n",
       "      <td>94.000000</td>\n",
       "      <td>52.000000</td>\n",
       "      <td>69.000000</td>\n",
       "      <td>25.000000</td>\n",
       "      <td>1008.000000</td>\n",
       "      <td>12.000000</td>\n",
       "      <td>135.000000</td>\n",
       "      <td>60.000000</td>\n",
       "    </tr>\n",
       "    <tr>\n",
       "      <th>50%</th>\n",
       "      <td>2014.000000</td>\n",
       "      <td>191.000000</td>\n",
       "      <td>100.000000</td>\n",
       "      <td>83.000000</td>\n",
       "      <td>64.000000</td>\n",
       "      <td>1016.000000</td>\n",
       "      <td>35.000000</td>\n",
       "      <td>225.000000</td>\n",
       "      <td>100.000000</td>\n",
       "    </tr>\n",
       "    <tr>\n",
       "      <th>75%</th>\n",
       "      <td>2017.000000</td>\n",
       "      <td>280.000000</td>\n",
       "      <td>145.000000</td>\n",
       "      <td>92.000000</td>\n",
       "      <td>100.000000</td>\n",
       "      <td>1023.000000</td>\n",
       "      <td>67.000000</td>\n",
       "      <td>270.000000</td>\n",
       "      <td>160.000000</td>\n",
       "    </tr>\n",
       "    <tr>\n",
       "      <th>max</th>\n",
       "      <td>2020.000000</td>\n",
       "      <td>366.000000</td>\n",
       "      <td>361.000000</td>\n",
       "      <td>100.000000</td>\n",
       "      <td>216.000000</td>\n",
       "      <td>1048.000000</td>\n",
       "      <td>291.000000</td>\n",
       "      <td>315.000000</td>\n",
       "      <td>580.000000</td>\n",
       "    </tr>\n",
       "  </tbody>\n",
       "</table>\n",
       "</div>"
      ],
      "text/plain": [
       "                year            doy              y       humidity  \\\n",
       "count  192885.000000  192885.000000  192885.000000  192885.000000   \n",
       "mean     2013.895803     186.882298     101.096819      79.239951   \n",
       "std         3.283992     106.486420      64.465602      16.908724   \n",
       "min      2008.000000       1.000000    -138.000000      25.000000   \n",
       "25%      2011.000000      94.000000      52.000000      69.000000   \n",
       "50%      2014.000000     191.000000     100.000000      83.000000   \n",
       "75%      2017.000000     280.000000     145.000000      92.000000   \n",
       "max      2020.000000     366.000000     361.000000     100.000000   \n",
       "\n",
       "           dew.point       pressure  wind.speed.mean  wind.bearing.mean  \\\n",
       "count  192885.000000  192885.000000    192885.000000      192885.000000   \n",
       "mean       62.135174    1014.404153        44.588148         196.223423   \n",
       "std        51.016879      11.823922        40.025546          82.458390   \n",
       "min      -143.000000     963.000000         0.000000           0.000000   \n",
       "25%        25.000000    1008.000000        12.000000         135.000000   \n",
       "50%        64.000000    1016.000000        35.000000         225.000000   \n",
       "75%       100.000000    1023.000000        67.000000         270.000000   \n",
       "max       216.000000    1048.000000       291.000000         315.000000   \n",
       "\n",
       "       wind.speed.max  \n",
       "count   192885.000000  \n",
       "mean       117.140369  \n",
       "std         80.116199  \n",
       "min          0.000000  \n",
       "25%         60.000000  \n",
       "50%        100.000000  \n",
       "75%        160.000000  \n",
       "max        580.000000  "
      ]
     },
     "metadata": {},
     "output_type": "display_data"
    },
    {
     "name": "stdout",
     "output_type": "stream",
     "text": [
      "\n",
      "Raw data:\n"
     ]
    },
    {
     "data": {
      "text/html": [
       "<div>\n",
       "<style scoped>\n",
       "    .dataframe tbody tr th:only-of-type {\n",
       "        vertical-align: middle;\n",
       "    }\n",
       "\n",
       "    .dataframe tbody tr th {\n",
       "        vertical-align: top;\n",
       "    }\n",
       "\n",
       "    .dataframe thead th {\n",
       "        text-align: right;\n",
       "    }\n",
       "</style>\n",
       "<table border=\"1\" class=\"dataframe\">\n",
       "  <thead>\n",
       "    <tr style=\"text-align: right;\">\n",
       "      <th></th>\n",
       "      <th>ds</th>\n",
       "      <th>year</th>\n",
       "      <th>doy</th>\n",
       "      <th>time</th>\n",
       "      <th>y</th>\n",
       "      <th>humidity</th>\n",
       "      <th>dew.point</th>\n",
       "      <th>pressure</th>\n",
       "      <th>wind.speed.mean</th>\n",
       "      <th>wind.bearing.mean</th>\n",
       "      <th>wind.speed.max</th>\n",
       "    </tr>\n",
       "  </thead>\n",
       "  <tbody>\n",
       "    <tr>\n",
       "      <th>0</th>\n",
       "      <td>2008-08-01 08:30:00</td>\n",
       "      <td>2008</td>\n",
       "      <td>214</td>\n",
       "      <td>09:30:00</td>\n",
       "      <td>186</td>\n",
       "      <td>69</td>\n",
       "      <td>128</td>\n",
       "      <td>1010</td>\n",
       "      <td>123</td>\n",
       "      <td>180</td>\n",
       "      <td>280</td>\n",
       "    </tr>\n",
       "    <tr>\n",
       "      <th>1</th>\n",
       "      <td>2008-08-01 09:00:00</td>\n",
       "      <td>2008</td>\n",
       "      <td>214</td>\n",
       "      <td>10:00:00</td>\n",
       "      <td>191</td>\n",
       "      <td>70</td>\n",
       "      <td>135</td>\n",
       "      <td>1010</td>\n",
       "      <td>137</td>\n",
       "      <td>180</td>\n",
       "      <td>260</td>\n",
       "    </tr>\n",
       "    <tr>\n",
       "      <th>2</th>\n",
       "      <td>2008-08-01 09:30:00</td>\n",
       "      <td>2008</td>\n",
       "      <td>214</td>\n",
       "      <td>10:30:00</td>\n",
       "      <td>195</td>\n",
       "      <td>68</td>\n",
       "      <td>134</td>\n",
       "      <td>1010</td>\n",
       "      <td>133</td>\n",
       "      <td>180</td>\n",
       "      <td>260</td>\n",
       "    </tr>\n",
       "    <tr>\n",
       "      <th>3</th>\n",
       "      <td>2008-08-01 10:00:00</td>\n",
       "      <td>2008</td>\n",
       "      <td>214</td>\n",
       "      <td>11:00:00</td>\n",
       "      <td>200</td>\n",
       "      <td>68</td>\n",
       "      <td>139</td>\n",
       "      <td>1010</td>\n",
       "      <td>129</td>\n",
       "      <td>180</td>\n",
       "      <td>240</td>\n",
       "    </tr>\n",
       "    <tr>\n",
       "      <th>4</th>\n",
       "      <td>2008-08-01 10:30:00</td>\n",
       "      <td>2008</td>\n",
       "      <td>214</td>\n",
       "      <td>11:30:00</td>\n",
       "      <td>213</td>\n",
       "      <td>61</td>\n",
       "      <td>135</td>\n",
       "      <td>1010</td>\n",
       "      <td>145</td>\n",
       "      <td>180</td>\n",
       "      <td>260</td>\n",
       "    </tr>\n",
       "    <tr>\n",
       "      <th>...</th>\n",
       "      <td>...</td>\n",
       "      <td>...</td>\n",
       "      <td>...</td>\n",
       "      <td>...</td>\n",
       "      <td>...</td>\n",
       "      <td>...</td>\n",
       "      <td>...</td>\n",
       "      <td>...</td>\n",
       "      <td>...</td>\n",
       "      <td>...</td>\n",
       "      <td>...</td>\n",
       "    </tr>\n",
       "    <tr>\n",
       "      <th>192880</th>\n",
       "      <td>2020-01-16 00:00:00</td>\n",
       "      <td>2020</td>\n",
       "      <td>16</td>\n",
       "      <td>00:00:00</td>\n",
       "      <td>40</td>\n",
       "      <td>78</td>\n",
       "      <td>5</td>\n",
       "      <td>1017</td>\n",
       "      <td>45</td>\n",
       "      <td>180</td>\n",
       "      <td>100</td>\n",
       "    </tr>\n",
       "    <tr>\n",
       "      <th>192881</th>\n",
       "      <td>2020-01-16 00:30:00</td>\n",
       "      <td>2020</td>\n",
       "      <td>16</td>\n",
       "      <td>00:30:00</td>\n",
       "      <td>36</td>\n",
       "      <td>86</td>\n",
       "      <td>15</td>\n",
       "      <td>1018</td>\n",
       "      <td>25</td>\n",
       "      <td>180</td>\n",
       "      <td>120</td>\n",
       "    </tr>\n",
       "    <tr>\n",
       "      <th>192882</th>\n",
       "      <td>2020-01-16 01:00:00</td>\n",
       "      <td>2020</td>\n",
       "      <td>16</td>\n",
       "      <td>01:00:00</td>\n",
       "      <td>36</td>\n",
       "      <td>85</td>\n",
       "      <td>13</td>\n",
       "      <td>1018</td>\n",
       "      <td>28</td>\n",
       "      <td>180</td>\n",
       "      <td>80</td>\n",
       "    </tr>\n",
       "    <tr>\n",
       "      <th>192883</th>\n",
       "      <td>2020-01-16 01:30:00</td>\n",
       "      <td>2020</td>\n",
       "      <td>16</td>\n",
       "      <td>01:30:00</td>\n",
       "      <td>36</td>\n",
       "      <td>82</td>\n",
       "      <td>8</td>\n",
       "      <td>1018</td>\n",
       "      <td>17</td>\n",
       "      <td>180</td>\n",
       "      <td>80</td>\n",
       "    </tr>\n",
       "    <tr>\n",
       "      <th>192884</th>\n",
       "      <td>2020-01-16 02:00:00</td>\n",
       "      <td>2020</td>\n",
       "      <td>16</td>\n",
       "      <td>02:00:00</td>\n",
       "      <td>36</td>\n",
       "      <td>89</td>\n",
       "      <td>20</td>\n",
       "      <td>1018</td>\n",
       "      <td>22</td>\n",
       "      <td>180</td>\n",
       "      <td>100</td>\n",
       "    </tr>\n",
       "  </tbody>\n",
       "</table>\n",
       "<p>192885 rows × 11 columns</p>\n",
       "</div>"
      ],
      "text/plain": [
       "                         ds  year  doy      time    y  humidity  dew.point  \\\n",
       "0       2008-08-01 08:30:00  2008  214  09:30:00  186        69        128   \n",
       "1       2008-08-01 09:00:00  2008  214  10:00:00  191        70        135   \n",
       "2       2008-08-01 09:30:00  2008  214  10:30:00  195        68        134   \n",
       "3       2008-08-01 10:00:00  2008  214  11:00:00  200        68        139   \n",
       "4       2008-08-01 10:30:00  2008  214  11:30:00  213        61        135   \n",
       "...                     ...   ...  ...       ...  ...       ...        ...   \n",
       "192880  2020-01-16 00:00:00  2020   16  00:00:00   40        78          5   \n",
       "192881  2020-01-16 00:30:00  2020   16  00:30:00   36        86         15   \n",
       "192882  2020-01-16 01:00:00  2020   16  01:00:00   36        85         13   \n",
       "192883  2020-01-16 01:30:00  2020   16  01:30:00   36        82          8   \n",
       "192884  2020-01-16 02:00:00  2020   16  02:00:00   36        89         20   \n",
       "\n",
       "        pressure  wind.speed.mean  wind.bearing.mean  wind.speed.max  \n",
       "0           1010              123                180             280  \n",
       "1           1010              137                180             260  \n",
       "2           1010              133                180             260  \n",
       "3           1010              129                180             240  \n",
       "4           1010              145                180             260  \n",
       "...          ...              ...                ...             ...  \n",
       "192880      1017               45                180             100  \n",
       "192881      1018               25                180             120  \n",
       "192882      1018               28                180              80  \n",
       "192883      1018               17                180              80  \n",
       "192884      1018               22                180             100  \n",
       "\n",
       "[192885 rows x 11 columns]"
      ]
     },
     "execution_count": 3,
     "metadata": {},
     "output_type": "execute_result"
    }
   ],
   "source": [
    "df = pd.read_csv(\"../data/CamUKWeather.csv\", parse_dates=True)\n",
    "print(\"Shape:\")\n",
    "print(df.shape)\n",
    "print(\"\\nInfo:\")\n",
    "print(df.info())\n",
    "print(\"\\nSummary stats:\")\n",
    "display(df.describe())\n",
    "print(\"\\nRaw data:\")\n",
    "df"
   ]
  },
  {
   "cell_type": "markdown",
   "metadata": {},
   "source": [
    "Create train and test data.  Will perform [rolling origin forecasting](https://otexts.com/fpp2/accuracy.html#time-series-cross-validation) later."
   ]
  },
  {
   "cell_type": "code",
   "execution_count": 4,
   "metadata": {},
   "outputs": [],
   "source": [
    "THRESHOLD = 2019\n",
    "df_test  = df[df['year'] >= THRESHOLD]\n",
    "df_train = df[df['year'] <  THRESHOLD]"
   ]
  },
  {
   "cell_type": "markdown",
   "metadata": {},
   "source": [
    "---\n",
    "\n",
    "\n",
    "## Build Simple Model\n",
    "\n",
    "First, build a simple model with flat growth and no weekly seasonality.  This is a quick sanity check.  Results should be similar to my previous R version.\n",
    "\n",
    "One reason for using the python prophet version over R is to check the \n",
    "[flat growth](https://facebook.github.io/prophet/docs/additional_topics.html#flat-trend-and-custom-trends)\n",
    "option, (only available in python), with \n",
    "[linear and logistic growth I used earlier in R](https://github.com/makeyourownmaker/CambridgeTemperatureModel/blob/master/4.02-prophet.R).\n",
    "\n",
    "Seasonality mode defaults to additive for both daily and yearly.  Yearly seasonality is set to use 2 Fourier terms to enforce smooth annual cyclicality.  Yearly seasonality shows over-fitting if `yearly_seasonality = 'auto'` is used.\n",
    "It _may_ be better to use `yearly_seasonality = 'auto'` and tune `seasonality_prior_scale` instead of setting the number of Fourier terms."
   ]
  },
  {
   "cell_type": "code",
   "execution_count": 5,
   "metadata": {},
   "outputs": [],
   "source": [
    "m = Prophet(growth = 'flat',\n",
    "            daily_seasonality  = True,\n",
    "            weekly_seasonality = False,\n",
    "            yearly_seasonality = 2)\n",
    "m.fit(df_train);"
   ]
  },
  {
   "cell_type": "markdown",
   "metadata": {},
   "source": [
    "### Make forecast\n",
    "\n",
    "Use `df_test` data created earlier to make forecast.  `df_test` contains data in 2019 and after.\n",
    "`yhat_lower` and `yhat_upper` are the 80% uncertainty intervals."
   ]
  },
  {
   "cell_type": "code",
   "execution_count": 7,
   "metadata": {},
   "outputs": [
    {
     "data": {
      "text/html": [
       "<div>\n",
       "<style scoped>\n",
       "    .dataframe tbody tr th:only-of-type {\n",
       "        vertical-align: middle;\n",
       "    }\n",
       "\n",
       "    .dataframe tbody tr th {\n",
       "        vertical-align: top;\n",
       "    }\n",
       "\n",
       "    .dataframe thead th {\n",
       "        text-align: right;\n",
       "    }\n",
       "</style>\n",
       "<table border=\"1\" class=\"dataframe\">\n",
       "  <thead>\n",
       "    <tr style=\"text-align: right;\">\n",
       "      <th></th>\n",
       "      <th>ds</th>\n",
       "      <th>yhat</th>\n",
       "      <th>yhat_lower</th>\n",
       "      <th>yhat_upper</th>\n",
       "      <th>y</th>\n",
       "    </tr>\n",
       "  </thead>\n",
       "  <tbody>\n",
       "    <tr>\n",
       "      <th>0</th>\n",
       "      <td>2020-01-16 00:00:00</td>\n",
       "      <td>17.667960</td>\n",
       "      <td>-29.378573</td>\n",
       "      <td>63.475330</td>\n",
       "      <td>40</td>\n",
       "    </tr>\n",
       "    <tr>\n",
       "      <th>1</th>\n",
       "      <td>2020-01-16 00:30:00</td>\n",
       "      <td>16.180201</td>\n",
       "      <td>-33.025993</td>\n",
       "      <td>62.335274</td>\n",
       "      <td>36</td>\n",
       "    </tr>\n",
       "    <tr>\n",
       "      <th>2</th>\n",
       "      <td>2020-01-16 01:00:00</td>\n",
       "      <td>14.807732</td>\n",
       "      <td>-32.105470</td>\n",
       "      <td>60.216001</td>\n",
       "      <td>36</td>\n",
       "    </tr>\n",
       "    <tr>\n",
       "      <th>3</th>\n",
       "      <td>2020-01-16 01:30:00</td>\n",
       "      <td>13.508647</td>\n",
       "      <td>-32.616116</td>\n",
       "      <td>61.920117</td>\n",
       "      <td>36</td>\n",
       "    </tr>\n",
       "    <tr>\n",
       "      <th>4</th>\n",
       "      <td>2020-01-16 02:00:00</td>\n",
       "      <td>12.256809</td>\n",
       "      <td>-32.434217</td>\n",
       "      <td>59.606970</td>\n",
       "      <td>36</td>\n",
       "    </tr>\n",
       "  </tbody>\n",
       "</table>\n",
       "</div>"
      ],
      "text/plain": [
       "                   ds       yhat  yhat_lower  yhat_upper   y\n",
       "0 2020-01-16 00:00:00  17.667960  -29.378573   63.475330  40\n",
       "1 2020-01-16 00:30:00  16.180201  -33.025993   62.335274  36\n",
       "2 2020-01-16 01:00:00  14.807732  -32.105470   60.216001  36\n",
       "3 2020-01-16 01:30:00  13.508647  -32.616116   61.920117  36\n",
       "4 2020-01-16 02:00:00  12.256809  -32.434217   59.606970  36"
      ]
     },
     "execution_count": 7,
     "metadata": {},
     "output_type": "execute_result"
    }
   ],
   "source": [
    "forecast = m.predict(df_test)\n",
    "pd.concat([forecast[['ds', 'yhat', 'yhat_lower', 'yhat_upper']].tail().reset_index(drop = True), \n",
    "           df_test['y'].tail().reset_index(drop = True)], axis = 1)"
   ]
  },
  {
   "cell_type": "markdown",
   "metadata": {},
   "source": [
    "### Plot forecast"
   ]
  },
  {
   "cell_type": "code",
   "execution_count": 8,
   "metadata": {},
   "outputs": [
    {
     "data": {
      "image/png": "[encoded data removed]",
      "text/plain": [
       "<Figure size 720x432 with 1 Axes>"
      ]
     },
     "metadata": {},
     "output_type": "display_data"
    }
   ],
   "source": [
    "fig1 = m.plot(forecast)"
   ]
  },
  {
   "cell_type": "markdown",
   "metadata": {},
   "source": [
    "### Plot components of simple model forecast\n",
    "\n",
    "As expected the trend is flat and is close to the mean `y` (temperature in C * 10) value from `df.describe()` above (101.93).\n",
    "\n",
    "The seasonalities are smoothly varying and cyclic.\n",
    "The daily and yearly seasonalities resemble the \n",
    "[seasonalities obtained with R](https://github.com/makeyourownmaker/CambridgeTemperatureModel#Seasonality)."
   ]
  },
  {
   "cell_type": "code",
   "execution_count": 9,
   "metadata": {},
   "outputs": [
    {
     "data": {
      "image/png": "[encoded data removed]",
      "text/plain": [
       "<Figure size 648x648 with 3 Axes>"
      ]
     },
     "metadata": {},
     "output_type": "display_data"
    }
   ],
   "source": [
    "fig2 = m.plot_components(forecast)"
   ]
  },
  {
   "cell_type": "markdown",
   "metadata": {},
   "source": [
    "---\n",
    "\n",
    "## Cross-validate Model\n",
    "\n",
    "Second, cross-validate the simple model to get some indication of performance.\n",
    "\n",
    "To perform [rolling origin forecasting](https://otexts.com/fpp2/accuracy.html#time-series-cross-validation) first build a prophet model on `df` instead of `df_train`.  \n",
    "Then run cross-validation on a horizon of 1 hour, starting with 90,000 hours (over 10 years) of training data in the first cutoff and then making predictions every 1,000 hours.  On this 11 year time series, this corresponds to 11 total forecasts between 2018-11-25 09:00:00 and 2020-01-16 01:00:00.  1,000 hours is used to get get a range of forecasts throughout the year.  This is a small validation set.\n",
    "\n",
    "I'm primarily interested in making \"nowcasts\" (forecasts in the next 1 to 2 hours) because I live very close to the data source and the UK met office still only update the forecasts on their web site every 2 hours. "
   ]
  },
  {
   "cell_type": "code",
   "execution_count": 10,
   "metadata": {},
   "outputs": [
    {
     "data": {
      "application/vnd.jupyter.widget-view+json": {
       "model_id": "8d511d9a5b30423280536384e3219ceb",
       "version_major": 2,
       "version_minor": 0
      },
      "text/plain": [
       "HBox(children=(FloatProgress(value=0.0, max=11.0), HTML(value='')))"
      ]
     },
     "metadata": {},
     "output_type": "display_data"
    },
    {
     "name": "stdout",
     "output_type": "stream",
     "text": [
      "\n"
     ]
    },
    {
     "data": {
      "text/html": [
       "<div>\n",
       "<style scoped>\n",
       "    .dataframe tbody tr th:only-of-type {\n",
       "        vertical-align: middle;\n",
       "    }\n",
       "\n",
       "    .dataframe tbody tr th {\n",
       "        vertical-align: top;\n",
       "    }\n",
       "\n",
       "    .dataframe thead th {\n",
       "        text-align: right;\n",
       "    }\n",
       "</style>\n",
       "<table border=\"1\" class=\"dataframe\">\n",
       "  <thead>\n",
       "    <tr style=\"text-align: right;\">\n",
       "      <th></th>\n",
       "      <th>ds</th>\n",
       "      <th>yhat</th>\n",
       "      <th>yhat_lower</th>\n",
       "      <th>yhat_upper</th>\n",
       "      <th>y</th>\n",
       "      <th>cutoff</th>\n",
       "    </tr>\n",
       "  </thead>\n",
       "  <tbody>\n",
       "    <tr>\n",
       "      <th>0</th>\n",
       "      <td>2018-11-25 09:30:00</td>\n",
       "      <td>69.739130</td>\n",
       "      <td>21.225443</td>\n",
       "      <td>115.230298</td>\n",
       "      <td>40</td>\n",
       "      <td>2018-11-25 09:00:00</td>\n",
       "    </tr>\n",
       "    <tr>\n",
       "      <th>1</th>\n",
       "      <td>2018-11-25 10:00:00</td>\n",
       "      <td>74.736026</td>\n",
       "      <td>29.584274</td>\n",
       "      <td>123.286474</td>\n",
       "      <td>44</td>\n",
       "      <td>2018-11-25 09:00:00</td>\n",
       "    </tr>\n",
       "    <tr>\n",
       "      <th>2</th>\n",
       "      <td>2019-01-06 01:30:00</td>\n",
       "      <td>14.903101</td>\n",
       "      <td>-29.493593</td>\n",
       "      <td>60.849929</td>\n",
       "      <td>32</td>\n",
       "      <td>2019-01-06 01:00:00</td>\n",
       "    </tr>\n",
       "    <tr>\n",
       "      <th>3</th>\n",
       "      <td>2019-01-06 02:00:00</td>\n",
       "      <td>13.648006</td>\n",
       "      <td>-33.299961</td>\n",
       "      <td>60.705452</td>\n",
       "      <td>32</td>\n",
       "      <td>2019-01-06 01:00:00</td>\n",
       "    </tr>\n",
       "    <tr>\n",
       "      <th>4</th>\n",
       "      <td>2019-02-16 17:30:00</td>\n",
       "      <td>60.864809</td>\n",
       "      <td>15.346603</td>\n",
       "      <td>106.657746</td>\n",
       "      <td>92</td>\n",
       "      <td>2019-02-16 17:00:00</td>\n",
       "    </tr>\n",
       "    <tr>\n",
       "      <th>5</th>\n",
       "      <td>2019-02-16 18:00:00</td>\n",
       "      <td>57.318057</td>\n",
       "      <td>12.193294</td>\n",
       "      <td>103.565412</td>\n",
       "      <td>88</td>\n",
       "      <td>2019-02-16 17:00:00</td>\n",
       "    </tr>\n",
       "    <tr>\n",
       "      <th>6</th>\n",
       "      <td>2019-03-30 09:30:00</td>\n",
       "      <td>78.062718</td>\n",
       "      <td>36.138679</td>\n",
       "      <td>122.136545</td>\n",
       "      <td>123</td>\n",
       "      <td>2019-03-30 09:00:00</td>\n",
       "    </tr>\n",
       "    <tr>\n",
       "      <th>7</th>\n",
       "      <td>2019-03-30 10:00:00</td>\n",
       "      <td>83.093376</td>\n",
       "      <td>36.629363</td>\n",
       "      <td>129.146752</td>\n",
       "      <td>141</td>\n",
       "      <td>2019-03-30 09:00:00</td>\n",
       "    </tr>\n",
       "    <tr>\n",
       "      <th>8</th>\n",
       "      <td>2019-05-11 01:30:00</td>\n",
       "      <td>91.757079</td>\n",
       "      <td>47.053125</td>\n",
       "      <td>138.943771</td>\n",
       "      <td>56</td>\n",
       "      <td>2019-05-11 01:00:00</td>\n",
       "    </tr>\n",
       "    <tr>\n",
       "      <th>9</th>\n",
       "      <td>2019-05-11 02:00:00</td>\n",
       "      <td>90.536030</td>\n",
       "      <td>44.973560</td>\n",
       "      <td>134.771269</td>\n",
       "      <td>56</td>\n",
       "      <td>2019-05-11 01:00:00</td>\n",
       "    </tr>\n",
       "    <tr>\n",
       "      <th>10</th>\n",
       "      <td>2019-06-21 17:30:00</td>\n",
       "      <td>177.967667</td>\n",
       "      <td>134.717885</td>\n",
       "      <td>225.012916</td>\n",
       "      <td>186</td>\n",
       "      <td>2019-06-21 17:00:00</td>\n",
       "    </tr>\n",
       "    <tr>\n",
       "      <th>11</th>\n",
       "      <td>2019-06-21 18:00:00</td>\n",
       "      <td>174.412222</td>\n",
       "      <td>129.988620</td>\n",
       "      <td>220.564409</td>\n",
       "      <td>177</td>\n",
       "      <td>2019-06-21 17:00:00</td>\n",
       "    </tr>\n",
       "    <tr>\n",
       "      <th>12</th>\n",
       "      <td>2019-08-02 09:30:00</td>\n",
       "      <td>183.581257</td>\n",
       "      <td>136.121930</td>\n",
       "      <td>226.609331</td>\n",
       "      <td>186</td>\n",
       "      <td>2019-08-02 09:00:00</td>\n",
       "    </tr>\n",
       "    <tr>\n",
       "      <th>13</th>\n",
       "      <td>2019-08-02 10:00:00</td>\n",
       "      <td>188.600265</td>\n",
       "      <td>141.584996</td>\n",
       "      <td>237.675696</td>\n",
       "      <td>182</td>\n",
       "      <td>2019-08-02 09:00:00</td>\n",
       "    </tr>\n",
       "    <tr>\n",
       "      <th>14</th>\n",
       "      <td>2019-09-13 01:30:00</td>\n",
       "      <td>126.944368</td>\n",
       "      <td>83.903198</td>\n",
       "      <td>173.625766</td>\n",
       "      <td>155</td>\n",
       "      <td>2019-09-13 01:00:00</td>\n",
       "    </tr>\n",
       "    <tr>\n",
       "      <th>15</th>\n",
       "      <td>2019-09-13 02:00:00</td>\n",
       "      <td>125.625959</td>\n",
       "      <td>82.166930</td>\n",
       "      <td>169.953435</td>\n",
       "      <td>145</td>\n",
       "      <td>2019-09-13 01:00:00</td>\n",
       "    </tr>\n",
       "    <tr>\n",
       "      <th>16</th>\n",
       "      <td>2019-10-24 17:30:00</td>\n",
       "      <td>117.622934</td>\n",
       "      <td>68.773212</td>\n",
       "      <td>161.759584</td>\n",
       "      <td>88</td>\n",
       "      <td>2019-10-24 17:00:00</td>\n",
       "    </tr>\n",
       "    <tr>\n",
       "      <th>17</th>\n",
       "      <td>2019-10-24 18:00:00</td>\n",
       "      <td>113.996222</td>\n",
       "      <td>69.434557</td>\n",
       "      <td>159.843390</td>\n",
       "      <td>84</td>\n",
       "      <td>2019-10-24 17:00:00</td>\n",
       "    </tr>\n",
       "    <tr>\n",
       "      <th>18</th>\n",
       "      <td>2019-12-05 09:30:00</td>\n",
       "      <td>60.190404</td>\n",
       "      <td>16.193022</td>\n",
       "      <td>109.027649</td>\n",
       "      <td>12</td>\n",
       "      <td>2019-12-05 09:00:00</td>\n",
       "    </tr>\n",
       "    <tr>\n",
       "      <th>19</th>\n",
       "      <td>2019-12-05 10:00:00</td>\n",
       "      <td>65.223833</td>\n",
       "      <td>19.819246</td>\n",
       "      <td>111.113055</td>\n",
       "      <td>20</td>\n",
       "      <td>2019-12-05 09:00:00</td>\n",
       "    </tr>\n",
       "    <tr>\n",
       "      <th>20</th>\n",
       "      <td>2020-01-16 01:30:00</td>\n",
       "      <td>13.998328</td>\n",
       "      <td>-30.979692</td>\n",
       "      <td>60.627637</td>\n",
       "      <td>36</td>\n",
       "      <td>2020-01-16 01:00:00</td>\n",
       "    </tr>\n",
       "    <tr>\n",
       "      <th>21</th>\n",
       "      <td>2020-01-16 02:00:00</td>\n",
       "      <td>12.720485</td>\n",
       "      <td>-36.195731</td>\n",
       "      <td>56.937607</td>\n",
       "      <td>36</td>\n",
       "      <td>2020-01-16 01:00:00</td>\n",
       "    </tr>\n",
       "  </tbody>\n",
       "</table>\n",
       "</div>"
      ],
      "text/plain": [
       "                    ds        yhat  yhat_lower  yhat_upper    y  \\\n",
       "0  2018-11-25 09:30:00   69.739130   21.225443  115.230298   40   \n",
       "1  2018-11-25 10:00:00   74.736026   29.584274  123.286474   44   \n",
       "2  2019-01-06 01:30:00   14.903101  -29.493593   60.849929   32   \n",
       "3  2019-01-06 02:00:00   13.648006  -33.299961   60.705452   32   \n",
       "4  2019-02-16 17:30:00   60.864809   15.346603  106.657746   92   \n",
       "5  2019-02-16 18:00:00   57.318057   12.193294  103.565412   88   \n",
       "6  2019-03-30 09:30:00   78.062718   36.138679  122.136545  123   \n",
       "7  2019-03-30 10:00:00   83.093376   36.629363  129.146752  141   \n",
       "8  2019-05-11 01:30:00   91.757079   47.053125  138.943771   56   \n",
       "9  2019-05-11 02:00:00   90.536030   44.973560  134.771269   56   \n",
       "10 2019-06-21 17:30:00  177.967667  134.717885  225.012916  186   \n",
       "11 2019-06-21 18:00:00  174.412222  129.988620  220.564409  177   \n",
       "12 2019-08-02 09:30:00  183.581257  136.121930  226.609331  186   \n",
       "13 2019-08-02 10:00:00  188.600265  141.584996  237.675696  182   \n",
       "14 2019-09-13 01:30:00  126.944368   83.903198  173.625766  155   \n",
       "15 2019-09-13 02:00:00  125.625959   82.166930  169.953435  145   \n",
       "16 2019-10-24 17:30:00  117.622934   68.773212  161.759584   88   \n",
       "17 2019-10-24 18:00:00  113.996222   69.434557  159.843390   84   \n",
       "18 2019-12-05 09:30:00   60.190404   16.193022  109.027649   12   \n",
       "19 2019-12-05 10:00:00   65.223833   19.819246  111.113055   20   \n",
       "20 2020-01-16 01:30:00   13.998328  -30.979692   60.627637   36   \n",
       "21 2020-01-16 02:00:00   12.720485  -36.195731   56.937607   36   \n",
       "\n",
       "                cutoff  \n",
       "0  2018-11-25 09:00:00  \n",
       "1  2018-11-25 09:00:00  \n",
       "2  2019-01-06 01:00:00  \n",
       "3  2019-01-06 01:00:00  \n",
       "4  2019-02-16 17:00:00  \n",
       "5  2019-02-16 17:00:00  \n",
       "6  2019-03-30 09:00:00  \n",
       "7  2019-03-30 09:00:00  \n",
       "8  2019-05-11 01:00:00  \n",
       "9  2019-05-11 01:00:00  \n",
       "10 2019-06-21 17:00:00  \n",
       "11 2019-06-21 17:00:00  \n",
       "12 2019-08-02 09:00:00  \n",
       "13 2019-08-02 09:00:00  \n",
       "14 2019-09-13 01:00:00  \n",
       "15 2019-09-13 01:00:00  \n",
       "16 2019-10-24 17:00:00  \n",
       "17 2019-10-24 17:00:00  \n",
       "18 2019-12-05 09:00:00  \n",
       "19 2019-12-05 09:00:00  \n",
       "20 2020-01-16 01:00:00  \n",
       "21 2020-01-16 01:00:00  "
      ]
     },
     "execution_count": 10,
     "metadata": {},
     "output_type": "execute_result"
    }
   ],
   "source": [
    "m = Prophet(growth = 'flat',\n",
    "            daily_seasonality  = True,\n",
    "            weekly_seasonality = False,\n",
    "            yearly_seasonality = 2)\n",
    "m.fit(df)\n",
    "\n",
    "df_cv = cross_validation(m,                                                  \n",
    "                         initial = '90000 hours',\n",
    "                         period  = '1000 hours',\n",
    "                         horizon = '1 hours')\n",
    "df_cv"
   ]
  },
  {
   "cell_type": "code",
   "execution_count": 12,
   "metadata": {},
   "outputs": [
    {
     "data": {
      "text/html": [
       "<div>\n",
       "<style scoped>\n",
       "    .dataframe tbody tr th:only-of-type {\n",
       "        vertical-align: middle;\n",
       "    }\n",
       "\n",
       "    .dataframe tbody tr th {\n",
       "        vertical-align: top;\n",
       "    }\n",
       "\n",
       "    .dataframe thead th {\n",
       "        text-align: right;\n",
       "    }\n",
       "</style>\n",
       "<table border=\"1\" class=\"dataframe\">\n",
       "  <thead>\n",
       "    <tr style=\"text-align: right;\">\n",
       "      <th></th>\n",
       "      <th>horizon</th>\n",
       "      <th>rmse</th>\n",
       "      <th>mae</th>\n",
       "      <th>mape</th>\n",
       "    </tr>\n",
       "  </thead>\n",
       "  <tbody>\n",
       "    <tr>\n",
       "      <th>0</th>\n",
       "      <td>00:30:00</td>\n",
       "      <td>30.129179</td>\n",
       "      <td>26.998845</td>\n",
       "      <td>0.710990</td>\n",
       "    </tr>\n",
       "    <tr>\n",
       "      <th>1</th>\n",
       "      <td>01:00:00</td>\n",
       "      <td>31.161329</td>\n",
       "      <td>27.206752</td>\n",
       "      <td>0.554322</td>\n",
       "    </tr>\n",
       "  </tbody>\n",
       "</table>\n",
       "</div>"
      ],
      "text/plain": [
       "   horizon       rmse        mae      mape\n",
       "0 00:30:00  30.129179  26.998845  0.710990\n",
       "1 01:00:00  31.161329  27.206752  0.554322"
      ]
     },
     "execution_count": 12,
     "metadata": {},
     "output_type": "execute_result"
    }
   ],
   "source": [
    "df_p = performance_metrics(df_cv)\n",
    "df_p[['horizon', 'rmse', 'mae', 'mape']]"
   ]
  },
  {
   "cell_type": "markdown",
   "metadata": {},
   "source": [
    "These metrics are comparable to the basic linear and logistic model results previously obtained in R."
   ]
  },
  {
   "cell_type": "markdown",
   "metadata": {},
   "source": [
    "---\n",
    "\n",
    "\n",
    "## Tune Discrete Prophet Hyperparameters\n",
    "\n",
    "Third, tune the categorical parameters.\n",
    "\n",
    "In general, Gaussian process-based Bayesian optimisation does not support discrete parameters.  Discrete parameters should probably be tuned before continuous parameters.\n",
    "\n",
    "I previously added two additional regressors:\n",
    " * dew point\n",
    " * humidity\n",
    "\n",
    "Dew point is temperature to which air must be cooled to become saturated with water vapor, and\n",
    "humdidity is atmospheric moisture.\n",
    "\n",
    "These discrete hyperparameters were tuned:\n",
    " * growth\n",
    " * daily seasonality mode\n",
    " * yearly seasonality mode\n",
    " * dew point mode\n",
    " * humidity mode\n",
    " \n",
    "Final hyperparameters from \n",
    "[R version](https://github.com/makeyourownmaker/CambridgeTemperatureModel/blob/master/4.02-prophet.R):\n",
    "```R\n",
    "params <- data.frame(growth = 'linear',\n",
    "                     n.changepoints = 0,\n",
    "                     daily.mode  = 'multiplicative',\n",
    "                     yearly.mode = 'additive',\n",
    "                     daily.fo  = 2,\n",
    "                     yearly.fo = 2,\n",
    "                     daily.prior  = 0.01,\n",
    "                     yearly.prior = 0.01,\n",
    "                     dp.mode   = 'multiplicative',\n",
    "                     hum.mode  = 'multiplicative',\n",
    "                     dp.prior  = 0.01,\n",
    "                     hum.prior = 0.01,\n",
    "                     stringsAsFactors = FALSE)\n",
    "```\n",
    "\n",
    "When setting `n.changepoints = 0` the trend often showed small amounts of postive or negative growth.\n",
    "\n",
    "The seasonality and regressor priors were tuned over a small range of values \\[0.01, 0.1, 1, 10\\].\n",
    "The low number of Fourier terms and low prior values results in the seasonality components being dominated by the regressors.  This suggests the seasonality is not crucial for such short-term forecasts.\n",
    "It will be interesting to see at what horizon seasonality becomes less dominated.  The tuning grid should be extended to 100 or higher.\n",
    "\n",
    "Nonetheless, these parameters give much improved results compared to the simple model above.\n",
    "\n",
    "| horizon  | rmse     | mae      | mape     |\n",
    "|----------|----------|----------|----------|\n",
    "| 00:30:00 | 6.784561 | 5.127664 | 0.069588 |\n",
    "| 01:00:00 | 8.080058 | 5.304410 | 0.076183 |\n",
    "\n",
    "I won't translate the R code to python.  See the [prophet docs](https://facebook.github.io/prophet/docs/diagnostics.html#hyperparameter-tuning)\n",
    "for a python grid search example."
   ]
  },
  {
   "cell_type": "markdown",
   "metadata": {},
   "source": [
    "---\n",
    "\n",
    "\n",
    "## Bayesian Optimisation of Continuous Prophet Hyperparameters\n",
    "\n",
    "Fourth, tune the continuous parameters.\n",
    "\n",
    "Below I give an example of Bayesian optimisation of prophet seasonality and regressor parameters.\n",
    "\n",
    "These continuous parameters are optimised:\n",
    " * daily_prior_scale\n",
    " * yearly_prior_scale\n",
    " * dew point prior scale\n",
    " * humidity prior scale\n",
    " \n",
    "The python [BayesianOptimization](https://github.com/fmfn/BayesianOptimization)\n",
    "library is used.  It is an implementation of constrained global optimization with Gaussian processes.\n",
    "\n",
    "Next, I define the prophet model to optimise."
   ]
  },
  {
   "cell_type": "code",
   "execution_count": 15,
   "metadata": {},
   "outputs": [],
   "source": [
    "def prophet_f(daily_prior, yearly_prior, hum_prior, dp_prior, metric = 'rmse', period = '1000 hours'):\n",
    "    \"\"\"\n",
    "    Implements the prophet model to be optimised and performs cross-validation\n",
    "    \n",
    "    Args:\n",
    "        daily_prior:  daily seasonality prior scale\n",
    "        yearly_prior: yearly seasonality prior scale\n",
    "        hum_prior:    humidity regressor prior scale \n",
    "        dp_prior:     dew.point regressor prior scale\n",
    "        metric:       metric(s) to return - 'rmse' or ['horizon', 'rmse', 'mae', 'mape']\n",
    "        period:       cross-validation period\n",
    "\n",
    "    Returns:\n",
    "        negative of root mean square error\n",
    "    \"\"\"\n",
    "                     \n",
    "    m = Prophet(growth = 'flat',\n",
    "                weekly_seasonality = False)\n",
    "    \n",
    "    m.add_seasonality(name   = 'daily',\n",
    "                      period = 1,\n",
    "                      mode   = 'multiplicative',\n",
    "                      prior_scale   = 10 ** daily_prior,\n",
    "                      fourier_order = 2)\n",
    "    m.add_seasonality(name   = 'yearly',\n",
    "                      period = 365.25,\n",
    "                      mode   = 'additive',\n",
    "                      prior_scale   = 10 ** yearly_prior,\n",
    "                      fourier_order = 2)\n",
    "    \n",
    "    m.add_regressor('humidity',\n",
    "                    mode = 'multiplicative',\n",
    "                    prior_scale = 10 ** hum_prior)\n",
    "    m.add_regressor('dew.point',\n",
    "                    mode = 'multiplicative',\n",
    "                    prior_scale = 10 ** dp_prior)\n",
    "    \n",
    "    m.fit(df)\n",
    "    df_cv = cross_validation(m,                                                  \n",
    "                             initial = '90000 hours',\n",
    "                             period  = period,\n",
    "                             horizon = '1 hours')\n",
    "    \n",
    "    if metric == 'rmse':\n",
    "        df_cv_rmse = ((df_cv.y - df_cv.yhat) ** 2).mean() ** .5\n",
    "        return - df_cv_rmse\n",
    "    elif metric == 'all':\n",
    "        df_p = performance_metrics(df_cv)\n",
    "        return m, df_p[['horizon', 'rmse', 'mae', 'mape']]\n",
    "    "
   ]
  },
  {
   "cell_type": "markdown",
   "metadata": {},
   "source": [
    "**WARNING** Next cell may take quite a while to run.\n",
    "\n",
    "Run time can be reduced by \n",
    " * decreasing `init_points` and/or `n_iter` in the `optimizer.maximize` call below\n",
    " or\n",
    " * increasing `period` (up to maximum of '15000 hours') in the `cross_validation` call in the `prophet_f` function above.\n",
    " \n",
    "**NOTE** It may be necessary to scroll down through the runtime messages to find the optimised parameters.\n",
    "Or, set `verbose = 0` in the `BayesianOptimization` call below."
   ]
  },
  {
   "cell_type": "code",
   "execution_count": 16,
   "metadata": {},
   "outputs": [
    {
     "name": "stdout",
     "output_type": "stream",
     "text": [
      "|   iter    |  target   | daily_... | dp_prior  | hum_prior | yearly... |\n",
      "-------------------------------------------------------------------------\n"
     ]
    },
    {
     "data": {
      "application/vnd.jupyter.widget-view+json": {
       "model_id": "48388265e80a48e09cd9e0f81300e9bb",
       "version_major": 2,
       "version_minor": 0
      },
      "text/plain": [
       "HBox(children=(FloatProgress(value=0.0, max=11.0), HTML(value='')))"
      ]
     },
     "metadata": {},
     "output_type": "display_data"
    },
    {
     "name": "stdout",
     "output_type": "stream",
     "text": [
      "\n",
      "| \u001b[0m 1       \u001b[0m | \u001b[0m-5.892   \u001b[0m | \u001b[0m-0.3319  \u001b[0m | \u001b[0m 0.8813  \u001b[0m | \u001b[0m-2.0     \u001b[0m | \u001b[0m-0.7907  \u001b[0m |\n"
     ]
    },
    {
     "data": {
      "application/vnd.jupyter.widget-view+json": {
       "model_id": "d3fb450be8f644a4ac68276fa996e9d1",
       "version_major": 2,
       "version_minor": 0
      },
      "text/plain": [
       "HBox(children=(FloatProgress(value=0.0, max=11.0), HTML(value='')))"
      ]
     },
     "metadata": {},
     "output_type": "display_data"
    },
    {
     "name": "stdout",
     "output_type": "stream",
     "text": [
      "\n",
      "| \u001b[0m 2       \u001b[0m | \u001b[0m-5.894   \u001b[0m | \u001b[0m-1.413   \u001b[0m | \u001b[0m-1.631   \u001b[0m | \u001b[0m-1.255   \u001b[0m | \u001b[0m-0.6178  \u001b[0m |\n"
     ]
    },
    {
     "data": {
      "application/vnd.jupyter.widget-view+json": {
       "model_id": "9670b6acd19a410eb5f3594b90b378ba",
       "version_major": 2,
       "version_minor": 0
      },
      "text/plain": [
       "HBox(children=(FloatProgress(value=0.0, max=11.0), HTML(value='')))"
      ]
     },
     "metadata": {},
     "output_type": "display_data"
    },
    {
     "name": "stdout",
     "output_type": "stream",
     "text": [
      "\n",
      "| \u001b[0m 3       \u001b[0m | \u001b[0m-5.896   \u001b[0m | \u001b[0m-0.4129  \u001b[0m | \u001b[0m 0.1553  \u001b[0m | \u001b[0m-0.3232  \u001b[0m | \u001b[0m 0.7409  \u001b[0m |\n"
     ]
    },
    {
     "data": {
      "application/vnd.jupyter.widget-view+json": {
       "model_id": "45db939be8e94372a11e39de22061d2a",
       "version_major": 2,
       "version_minor": 0
      },
      "text/plain": [
       "HBox(children=(FloatProgress(value=0.0, max=11.0), HTML(value='')))"
      ]
     },
     "metadata": {},
     "output_type": "display_data"
    },
    {
     "name": "stdout",
     "output_type": "stream",
     "text": [
      "\n",
      "| \u001b[0m 4       \u001b[0m | \u001b[0m-5.893   \u001b[0m | \u001b[0m-1.182   \u001b[0m | \u001b[0m 1.512   \u001b[0m | \u001b[0m-1.89    \u001b[0m | \u001b[0m 0.6819  \u001b[0m |\n"
     ]
    },
    {
     "data": {
      "application/vnd.jupyter.widget-view+json": {
       "model_id": "5899f72816034008819df948e3a55ded",
       "version_major": 2,
       "version_minor": 0
      },
      "text/plain": [
       "HBox(children=(FloatProgress(value=0.0, max=11.0), HTML(value='')))"
      ]
     },
     "metadata": {},
     "output_type": "display_data"
    },
    {
     "name": "stdout",
     "output_type": "stream",
     "text": [
      "\n",
      "| \u001b[0m 5       \u001b[0m | \u001b[0m-5.896   \u001b[0m | \u001b[0m-0.3308  \u001b[0m | \u001b[0m 0.2348  \u001b[0m | \u001b[0m-1.438   \u001b[0m | \u001b[0m-1.208   \u001b[0m |\n"
     ]
    },
    {
     "data": {
      "application/vnd.jupyter.widget-view+json": {
       "model_id": "dbc70d068860413ead3ae44c1adcad29",
       "version_major": 2,
       "version_minor": 0
      },
      "text/plain": [
       "HBox(children=(FloatProgress(value=0.0, max=11.0), HTML(value='')))"
      ]
     },
     "metadata": {},
     "output_type": "display_data"
    },
    {
     "name": "stdout",
     "output_type": "stream",
     "text": [
      "\n",
      "| \u001b[0m 6       \u001b[0m | \u001b[0m-5.896   \u001b[0m | \u001b[0m 1.203   \u001b[0m | \u001b[0m 1.873   \u001b[0m | \u001b[0m-0.7463  \u001b[0m | \u001b[0m 0.7693  \u001b[0m |\n"
     ]
    },
    {
     "data": {
      "application/vnd.jupyter.widget-view+json": {
       "model_id": "e5031e974be54bbd9b1506878288425f",
       "version_major": 2,
       "version_minor": 0
      },
      "text/plain": [
       "HBox(children=(FloatProgress(value=0.0, max=11.0), HTML(value='')))"
      ]
     },
     "metadata": {},
     "output_type": "display_data"
    },
    {
     "name": "stdout",
     "output_type": "stream",
     "text": [
      "\n",
      "| \u001b[0m 7       \u001b[0m | \u001b[0m-5.895   \u001b[0m | \u001b[0m 1.506   \u001b[0m | \u001b[0m 1.578   \u001b[0m | \u001b[0m-1.66    \u001b[0m | \u001b[0m-1.844   \u001b[0m |\n"
     ]
    },
    {
     "data": {
      "application/vnd.jupyter.widget-view+json": {
       "model_id": "d1d46a9f22b64f91af962d5acb222752",
       "version_major": 2,
       "version_minor": 0
      },
      "text/plain": [
       "HBox(children=(FloatProgress(value=0.0, max=11.0), HTML(value='')))"
      ]
     },
     "metadata": {},
     "output_type": "display_data"
    },
    {
     "name": "stdout",
     "output_type": "stream",
     "text": [
      "\n",
      "| \u001b[0m 8       \u001b[0m | \u001b[0m-5.896   \u001b[0m | \u001b[0m-1.321   \u001b[0m | \u001b[0m 1.513   \u001b[0m | \u001b[0m-1.607   \u001b[0m | \u001b[0m-0.3156  \u001b[0m |\n"
     ]
    },
    {
     "data": {
      "application/vnd.jupyter.widget-view+json": {
       "model_id": "90929250ab1243758a9dcdf3d6c7c498",
       "version_major": 2,
       "version_minor": 0
      },
      "text/plain": [
       "HBox(children=(FloatProgress(value=0.0, max=11.0), HTML(value='')))"
      ]
     },
     "metadata": {},
     "output_type": "display_data"
    },
    {
     "name": "stdout",
     "output_type": "stream",
     "text": [
      "\n",
      "| \u001b[0m 9       \u001b[0m | \u001b[0m-5.896   \u001b[0m | \u001b[0m 1.832   \u001b[0m | \u001b[0m 0.1327  \u001b[0m | \u001b[0m 0.7675  \u001b[0m | \u001b[0m-0.7379  \u001b[0m |\n"
     ]
    },
    {
     "data": {
      "application/vnd.jupyter.widget-view+json": {
       "model_id": "94ff852aebac476c811d1b2f8c2c34a4",
       "version_major": 2,
       "version_minor": 0
      },
      "text/plain": [
       "HBox(children=(FloatProgress(value=0.0, max=11.0), HTML(value='')))"
      ]
     },
     "metadata": {},
     "output_type": "display_data"
    },
    {
     "name": "stdout",
     "output_type": "stream",
     "text": [
      "\n",
      "| \u001b[0m 10      \u001b[0m | \u001b[0m-5.893   \u001b[0m | \u001b[0m 0.746   \u001b[0m | \u001b[0m 1.339   \u001b[0m | \u001b[0m-1.927   \u001b[0m | \u001b[0m 1.001   \u001b[0m |\n",
      "bounds: \n",
      "[[-2.  2.]\n",
      " [-2.  2.]\n",
      " [-2.  2.]\n",
      " [-2.  2.]]\n"
     ]
    },
    {
     "data": {
      "application/vnd.jupyter.widget-view+json": {
       "model_id": "66f87656b82041b6a4bfde3b0ae4bbf7",
       "version_major": 2,
       "version_minor": 0
      },
      "text/plain": [
       "HBox(children=(FloatProgress(value=0.0, max=11.0), HTML(value='')))"
      ]
     },
     "metadata": {},
     "output_type": "display_data"
    },
    {
     "name": "stdout",
     "output_type": "stream",
     "text": [
      "\n",
      "| \u001b[0m 11      \u001b[0m | \u001b[0m-5.896   \u001b[0m | \u001b[0m-1.969   \u001b[0m | \u001b[0m-1.353   \u001b[0m | \u001b[0m 0.8375  \u001b[0m | \u001b[0m 1.059   \u001b[0m |\n",
      "bounds: \n",
      "[[-2.  2.]\n",
      " [-2.  2.]\n",
      " [-2.  2.]\n",
      " [-2.  2.]]\n"
     ]
    },
    {
     "data": {
      "application/vnd.jupyter.widget-view+json": {
       "model_id": "4d8eb071072343c898dc01b52b424612",
       "version_major": 2,
       "version_minor": 0
      },
      "text/plain": [
       "HBox(children=(FloatProgress(value=0.0, max=11.0), HTML(value='')))"
      ]
     },
     "metadata": {},
     "output_type": "display_data"
    },
    {
     "name": "stdout",
     "output_type": "stream",
     "text": [
      "\n",
      "| \u001b[0m 12      \u001b[0m | \u001b[0m-5.896   \u001b[0m | \u001b[0m-0.2298  \u001b[0m | \u001b[0m-0.3461  \u001b[0m | \u001b[0m 0.1912  \u001b[0m | \u001b[0m 0.9768  \u001b[0m |\n",
      "bounds: \n",
      "[[-2.  2.]\n",
      " [-2.  2.]\n",
      " [-2.  2.]\n",
      " [-2.  2.]]\n"
     ]
    },
    {
     "data": {
      "application/vnd.jupyter.widget-view+json": {
       "model_id": "3257d4dcc4114a41b9cd5191fc4c51d8",
       "version_major": 2,
       "version_minor": 0
      },
      "text/plain": [
       "HBox(children=(FloatProgress(value=0.0, max=11.0), HTML(value='')))"
      ]
     },
     "metadata": {},
     "output_type": "display_data"
    },
    {
     "name": "stdout",
     "output_type": "stream",
     "text": [
      "\n",
      "| \u001b[0m 13      \u001b[0m | \u001b[0m-5.896   \u001b[0m | \u001b[0m 0.4935  \u001b[0m | \u001b[0m-1.107   \u001b[0m | \u001b[0m 1.836   \u001b[0m | \u001b[0m 1.219   \u001b[0m |\n",
      "bounds: \n",
      "[[-2.  2.]\n",
      " [-2.  2.]\n",
      " [-2.  2.]\n",
      " [-2.  2.]]\n"
     ]
    },
    {
     "data": {
      "application/vnd.jupyter.widget-view+json": {
       "model_id": "a0555054dd484e7bb82d7bf0d8ef27d4",
       "version_major": 2,
       "version_minor": 0
      },
      "text/plain": [
       "HBox(children=(FloatProgress(value=0.0, max=11.0), HTML(value='')))"
      ]
     },
     "metadata": {},
     "output_type": "display_data"
    },
    {
     "name": "stdout",
     "output_type": "stream",
     "text": [
      "\n",
      "| \u001b[0m 14      \u001b[0m | \u001b[0m-5.896   \u001b[0m | \u001b[0m-1.915   \u001b[0m | \u001b[0m 1.232   \u001b[0m | \u001b[0m 1.859   \u001b[0m | \u001b[0m 0.8083  \u001b[0m |\n",
      "bounds: \n",
      "[[-2.  2.]\n",
      " [-2.  2.]\n",
      " [-2.  2.]\n",
      " [-2.  2.]]\n"
     ]
    },
    {
     "data": {
      "application/vnd.jupyter.widget-view+json": {
       "model_id": "3360807d397e4298ad8a34920672ef4d",
       "version_major": 2,
       "version_minor": 0
      },
      "text/plain": [
       "HBox(children=(FloatProgress(value=0.0, max=11.0), HTML(value='')))"
      ]
     },
     "metadata": {},
     "output_type": "display_data"
    },
    {
     "name": "stdout",
     "output_type": "stream",
     "text": [
      "\n",
      "| \u001b[95m 15      \u001b[0m | \u001b[95m-5.891   \u001b[0m | \u001b[95m-0.5423  \u001b[0m | \u001b[95m-1.91    \u001b[0m | \u001b[95m-1.39    \u001b[0m | \u001b[95m 1.886   \u001b[0m |\n",
      "bounds: \n",
      "[[-2.  2.]\n",
      " [-2.  2.]\n",
      " [-2.  2.]\n",
      " [-2.  2.]]\n"
     ]
    },
    {
     "data": {
      "application/vnd.jupyter.widget-view+json": {
       "model_id": "c2891cd0e6104aadbaf4090e852a0c47",
       "version_major": 2,
       "version_minor": 0
      },
      "text/plain": [
       "HBox(children=(FloatProgress(value=0.0, max=11.0), HTML(value='')))"
      ]
     },
     "metadata": {},
     "output_type": "display_data"
    },
    {
     "name": "stdout",
     "output_type": "stream",
     "text": [
      "\n",
      "| \u001b[0m 16      \u001b[0m | \u001b[0m-5.892   \u001b[0m | \u001b[0m-0.2874  \u001b[0m | \u001b[0m 0.8332  \u001b[0m | \u001b[0m-1.989   \u001b[0m | \u001b[0m-0.8146  \u001b[0m |\n",
      "bounds: \n",
      "[[-2.  2.]\n",
      " [-2.  2.]\n",
      " [-2.  2.]\n",
      " [-2.  2.]]\n"
     ]
    },
    {
     "data": {
      "application/vnd.jupyter.widget-view+json": {
       "model_id": "18fad8d7677a4de9857a1fb13a9b3adb",
       "version_major": 2,
       "version_minor": 0
      },
      "text/plain": [
       "HBox(children=(FloatProgress(value=0.0, max=11.0), HTML(value='')))"
      ]
     },
     "metadata": {},
     "output_type": "display_data"
    },
    {
     "name": "stdout",
     "output_type": "stream",
     "text": [
      "\n",
      "| \u001b[95m 17      \u001b[0m | \u001b[95m-5.886   \u001b[0m | \u001b[95m-0.3065  \u001b[0m | \u001b[95m-2.0     \u001b[0m | \u001b[95m-1.753   \u001b[0m | \u001b[95m 2.0     \u001b[0m |\n",
      "bounds: \n",
      "[[-2.  2.]\n",
      " [-2.  2.]\n",
      " [-2.  2.]\n",
      " [-2.  2.]]\n"
     ]
    },
    {
     "data": {
      "application/vnd.jupyter.widget-view+json": {
       "model_id": "9b5e778fc4b348e4bb1395981a0e73c3",
       "version_major": 2,
       "version_minor": 0
      },
      "text/plain": [
       "HBox(children=(FloatProgress(value=0.0, max=11.0), HTML(value='')))"
      ]
     },
     "metadata": {},
     "output_type": "display_data"
    },
    {
     "name": "stdout",
     "output_type": "stream",
     "text": [
      "\n",
      "| \u001b[95m 18      \u001b[0m | \u001b[95m-5.885   \u001b[0m | \u001b[95m-0.1552  \u001b[0m | \u001b[95m-1.97    \u001b[0m | \u001b[95m-1.977   \u001b[0m | \u001b[95m 1.861   \u001b[0m |\n",
      "bounds: \n",
      "[[-2.  2.]\n",
      " [-2.  2.]\n",
      " [-2.  2.]\n",
      " [-2.  2.]]\n"
     ]
    },
    {
     "data": {
      "application/vnd.jupyter.widget-view+json": {
       "model_id": "d37a483ae34741f9987cb3d68bd5570b",
       "version_major": 2,
       "version_minor": 0
      },
      "text/plain": [
       "HBox(children=(FloatProgress(value=0.0, max=11.0), HTML(value='')))"
      ]
     },
     "metadata": {},
     "output_type": "display_data"
    },
    {
     "name": "stdout",
     "output_type": "stream",
     "text": [
      "\n",
      "| \u001b[95m 19      \u001b[0m | \u001b[95m-5.883   \u001b[0m | \u001b[95m 0.4908  \u001b[0m | \u001b[95m-2.0     \u001b[0m | \u001b[95m-2.0     \u001b[0m | \u001b[95m 2.0     \u001b[0m |\n",
      "bounds: \n",
      "[[-2.  2.]\n",
      " [-2.  2.]\n",
      " [-2.  2.]\n",
      " [-2.  2.]]\n"
     ]
    },
    {
     "data": {
      "application/vnd.jupyter.widget-view+json": {
       "model_id": "fdfcf31b84be4abf9f47dc9dd9c03502",
       "version_major": 2,
       "version_minor": 0
      },
      "text/plain": [
       "HBox(children=(FloatProgress(value=0.0, max=11.0), HTML(value='')))"
      ]
     },
     "metadata": {},
     "output_type": "display_data"
    },
    {
     "name": "stdout",
     "output_type": "stream",
     "text": [
      "\n",
      "| \u001b[0m 20      \u001b[0m | \u001b[0m-5.883   \u001b[0m | \u001b[0m 1.768   \u001b[0m | \u001b[0m-2.0     \u001b[0m | \u001b[0m-2.0     \u001b[0m | \u001b[0m 2.0     \u001b[0m |\n",
      "=========================================================================\n",
      "\n",
      "Max params:\n",
      "{'target': -5.883217196442895, 'params': {'daily_prior': 0.4908015707468804, 'dp_prior': -2.0, 'hum_prior': -2.0, 'yearly_prior': 2.0}}\n"
     ]
    }
   ],
   "source": [
    "# daily_prior_scale calculated as 10 ** daily_prior in prophet_f\n",
    "pbounds = {'daily_prior': (-2, 2), 'yearly_prior': (-2, 2),\n",
    "           'hum_prior':   (-2, 2), 'dp_prior':     (-2, 2)}\n",
    "\n",
    "optimizer = BayesianOptimization(\n",
    "    f = prophet_f,\n",
    "    pbounds = pbounds,\n",
    "    verbose = 2,  # verbose = 1 prints only when a maximum is observed, verbose = 0 is silent\n",
    "    random_state = 1\n",
    ")\n",
    "\n",
    "optimizer.maximize(\n",
    "    init_points = 10,\n",
    "    n_iter = 10)\n",
    "\n",
    "print(\"\\nMax params:\")\n",
    "print(optimizer.max)\n"
   ]
  },
  {
   "cell_type": "markdown",
   "metadata": {},
   "source": [
    "`yearly_prior` has converged to the maximum limit (2), `dp_prior` and `hum_prior` have converged to the minimum limit (-2).\n",
    "Anecdotally, it seemed like the Bayesian optimisation was bouncing around in a shallow basin.\n",
    "`daily_prior` may or may not have converged.  We can check by setting new bounds to optimise only `daily_prior`."
   ]
  },
  {
   "cell_type": "code",
   "execution_count": 17,
   "metadata": {},
   "outputs": [
    {
     "name": "stdout",
     "output_type": "stream",
     "text": [
      "|   iter    |  target   | daily_... | dp_prior  | hum_prior | yearly... |\n",
      "-------------------------------------------------------------------------\n",
      "bounds: \n",
      "[[-2.  2.]\n",
      " [-2. -2.]\n",
      " [-2. -2.]\n",
      " [ 2.  2.]]\n"
     ]
    },
    {
     "data": {
      "application/vnd.jupyter.widget-view+json": {
       "model_id": "ba284cba98dd49838a45a7099d0043da",
       "version_major": 2,
       "version_minor": 0
      },
      "text/plain": [
       "HBox(children=(FloatProgress(value=0.0, max=11.0), HTML(value='')))"
      ]
     },
     "metadata": {},
     "output_type": "display_data"
    },
    {
     "name": "stdout",
     "output_type": "stream",
     "text": [
      "\n",
      "| \u001b[0m 21      \u001b[0m | \u001b[0m-5.883   \u001b[0m | \u001b[0m 1.186   \u001b[0m | \u001b[0m-2.0     \u001b[0m | \u001b[0m-2.0     \u001b[0m | \u001b[0m 2.0     \u001b[0m |\n",
      "bounds: \n",
      "[[-2.  2.]\n",
      " [-2. -2.]\n",
      " [-2. -2.]\n",
      " [ 2.  2.]]\n"
     ]
    },
    {
     "data": {
      "application/vnd.jupyter.widget-view+json": {
       "model_id": "a89e34c8d72d40089778242881c520df",
       "version_major": 2,
       "version_minor": 0
      },
      "text/plain": [
       "HBox(children=(FloatProgress(value=0.0, max=11.0), HTML(value='')))"
      ]
     },
     "metadata": {},
     "output_type": "display_data"
    },
    {
     "name": "stdout",
     "output_type": "stream",
     "text": [
      "\n",
      "| \u001b[0m 22      \u001b[0m | \u001b[0m-5.883   \u001b[0m | \u001b[0m 2.0     \u001b[0m | \u001b[0m-2.0     \u001b[0m | \u001b[0m-2.0     \u001b[0m | \u001b[0m 2.0     \u001b[0m |\n",
      "bounds: \n",
      "[[-2.  2.]\n",
      " [-2. -2.]\n",
      " [-2. -2.]\n",
      " [ 2.  2.]]\n"
     ]
    },
    {
     "data": {
      "application/vnd.jupyter.widget-view+json": {
       "model_id": "9a7b46e6eb4244afb20b378a97232c83",
       "version_major": 2,
       "version_minor": 0
      },
      "text/plain": [
       "HBox(children=(FloatProgress(value=0.0, max=11.0), HTML(value='')))"
      ]
     },
     "metadata": {},
     "output_type": "display_data"
    },
    {
     "name": "stdout",
     "output_type": "stream",
     "text": [
      "\n",
      "| \u001b[95m 23      \u001b[0m | \u001b[95m-5.883   \u001b[0m | \u001b[95m 0.7832  \u001b[0m | \u001b[95m-2.0     \u001b[0m | \u001b[95m-2.0     \u001b[0m | \u001b[95m 2.0     \u001b[0m |\n",
      "bounds: \n",
      "[[-2.  2.]\n",
      " [-2. -2.]\n",
      " [-2. -2.]\n",
      " [ 2.  2.]]\n"
     ]
    },
    {
     "data": {
      "application/vnd.jupyter.widget-view+json": {
       "model_id": "597b734365eb4c8bba4a611f4aa0354e",
       "version_major": 2,
       "version_minor": 0
      },
      "text/plain": [
       "HBox(children=(FloatProgress(value=0.0, max=11.0), HTML(value='')))"
      ]
     },
     "metadata": {},
     "output_type": "display_data"
    },
    {
     "name": "stdout",
     "output_type": "stream",
     "text": [
      "\n",
      "| \u001b[0m 24      \u001b[0m | \u001b[0m-5.883   \u001b[0m | \u001b[0m-2.0     \u001b[0m | \u001b[0m-2.0     \u001b[0m | \u001b[0m-2.0     \u001b[0m | \u001b[0m 2.0     \u001b[0m |\n",
      "bounds: \n",
      "[[-2.  2.]\n",
      " [-2. -2.]\n",
      " [-2. -2.]\n",
      " [ 2.  2.]]\n"
     ]
    },
    {
     "data": {
      "application/vnd.jupyter.widget-view+json": {
       "model_id": "15b964bae81a46d8ad9bcc3b2370c605",
       "version_major": 2,
       "version_minor": 0
      },
      "text/plain": [
       "HBox(children=(FloatProgress(value=0.0, max=11.0), HTML(value='')))"
      ]
     },
     "metadata": {},
     "output_type": "display_data"
    },
    {
     "name": "stdout",
     "output_type": "stream",
     "text": [
      "\n",
      "| \u001b[0m 25      \u001b[0m | \u001b[0m-5.883   \u001b[0m | \u001b[0m-1.364   \u001b[0m | \u001b[0m-2.0     \u001b[0m | \u001b[0m-2.0     \u001b[0m | \u001b[0m 2.0     \u001b[0m |\n",
      "bounds: \n",
      "[[-2.  2.]\n",
      " [-2. -2.]\n",
      " [-2. -2.]\n",
      " [ 2.  2.]]\n"
     ]
    },
    {
     "data": {
      "application/vnd.jupyter.widget-view+json": {
       "model_id": "3885b901b1e34c2495ac0f1775adedc1",
       "version_major": 2,
       "version_minor": 0
      },
      "text/plain": [
       "HBox(children=(FloatProgress(value=0.0, max=11.0), HTML(value='')))"
      ]
     },
     "metadata": {},
     "output_type": "display_data"
    },
    {
     "name": "stdout",
     "output_type": "stream",
     "text": [
      "\n",
      "| \u001b[0m 26      \u001b[0m | \u001b[0m-5.883   \u001b[0m | \u001b[0m-1.708   \u001b[0m | \u001b[0m-2.0     \u001b[0m | \u001b[0m-2.0     \u001b[0m | \u001b[0m 2.0     \u001b[0m |\n",
      "bounds: \n",
      "[[-2.  2.]\n",
      " [-2. -2.]\n",
      " [-2. -2.]\n",
      " [ 2.  2.]]\n"
     ]
    },
    {
     "data": {
      "application/vnd.jupyter.widget-view+json": {
       "model_id": "feb3560a378d4a5ba5d8827f02c6db6e",
       "version_major": 2,
       "version_minor": 0
      },
      "text/plain": [
       "HBox(children=(FloatProgress(value=0.0, max=11.0), HTML(value='')))"
      ]
     },
     "metadata": {},
     "output_type": "display_data"
    },
    {
     "name": "stdout",
     "output_type": "stream",
     "text": [
      "\n",
      "| \u001b[0m 27      \u001b[0m | \u001b[0m-5.883   \u001b[0m | \u001b[0m 0.6975  \u001b[0m | \u001b[0m-2.0     \u001b[0m | \u001b[0m-2.0     \u001b[0m | \u001b[0m 2.0     \u001b[0m |\n",
      "bounds: \n",
      "[[-2.  2.]\n",
      " [-2. -2.]\n",
      " [-2. -2.]\n",
      " [ 2.  2.]]\n"
     ]
    },
    {
     "data": {
      "application/vnd.jupyter.widget-view+json": {
       "model_id": "1210ede259fd43f2af4a20fa1d89c58d",
       "version_major": 2,
       "version_minor": 0
      },
      "text/plain": [
       "HBox(children=(FloatProgress(value=0.0, max=11.0), HTML(value='')))"
      ]
     },
     "metadata": {},
     "output_type": "display_data"
    },
    {
     "name": "stdout",
     "output_type": "stream",
     "text": [
      "\n",
      "| \u001b[0m 28      \u001b[0m | \u001b[0m-5.883   \u001b[0m | \u001b[0m 0.879   \u001b[0m | \u001b[0m-2.0     \u001b[0m | \u001b[0m-2.0     \u001b[0m | \u001b[0m 2.0     \u001b[0m |\n",
      "bounds: \n",
      "[[-2.  2.]\n",
      " [-2. -2.]\n",
      " [-2. -2.]\n",
      " [ 2.  2.]]\n"
     ]
    },
    {
     "data": {
      "application/vnd.jupyter.widget-view+json": {
       "model_id": "892f7141f5dc4bcba1f336be9c438416",
       "version_major": 2,
       "version_minor": 0
      },
      "text/plain": [
       "HBox(children=(FloatProgress(value=0.0, max=11.0), HTML(value='')))"
      ]
     },
     "metadata": {},
     "output_type": "display_data"
    },
    {
     "name": "stdout",
     "output_type": "stream",
     "text": [
      "\n",
      "| \u001b[0m 29      \u001b[0m | \u001b[0m-5.883   \u001b[0m | \u001b[0m-0.7728  \u001b[0m | \u001b[0m-2.0     \u001b[0m | \u001b[0m-2.0     \u001b[0m | \u001b[0m 2.0     \u001b[0m |\n",
      "bounds: \n",
      "[[-2.  2.]\n",
      " [-2. -2.]\n",
      " [-2. -2.]\n",
      " [ 2.  2.]]\n"
     ]
    },
    {
     "data": {
      "application/vnd.jupyter.widget-view+json": {
       "model_id": "5617ed953fa3481688d5593ce8b00145",
       "version_major": 2,
       "version_minor": 0
      },
      "text/plain": [
       "HBox(children=(FloatProgress(value=0.0, max=11.0), HTML(value='')))"
      ]
     },
     "metadata": {},
     "output_type": "display_data"
    },
    {
     "name": "stdout",
     "output_type": "stream",
     "text": [
      "\n",
      "| \u001b[0m 30      \u001b[0m | \u001b[0m-5.884   \u001b[0m | \u001b[0m 0.09288 \u001b[0m | \u001b[0m-2.0     \u001b[0m | \u001b[0m-2.0     \u001b[0m | \u001b[0m 2.0     \u001b[0m |\n",
      "=========================================================================\n",
      "\n",
      "Max params:\n",
      "{'target': -5.8830215248022, 'params': {'daily_prior': 0.7832480635982564, 'dp_prior': -2.0, 'hum_prior': -2.0, 'yearly_prior': 2.0}}\n"
     ]
    }
   ],
   "source": [
    "# daily_prior_scale calculated as 10 ** daily_prior in prophet_f\n",
    "pbounds_red = {'daily_prior': (-2, 2),  'yearly_prior': (2, 2),\n",
    "               'hum_prior':   (-2, -2), 'dp_prior':     (-2, -2)}\n",
    "\n",
    "optimizer.set_bounds(new_bounds = pbounds_red)\n",
    "\n",
    "optimizer.maximize(\n",
    "    init_points = 0,\n",
    "    n_iter = 10)\n",
    "\n",
    "print(\"\\nMax params:\")\n",
    "print(optimizer.max)\n"
   ]
  },
  {
   "cell_type": "markdown",
   "metadata": {},
   "source": [
    "There was a marginal improvement in rmse value from setting new bounds to optimise only `daily_prior`.  We are firmly into the _micro-optimisation theatre_ regime, so time to stop optimisation.\n",
    "\n",
    "### Compare optimised model with earlier models\n",
    "\n",
    "How does the optimised model compare with the earlier models?"
   ]
  },
  {
   "cell_type": "code",
   "execution_count": 18,
   "metadata": {},
   "outputs": [
    {
     "name": "stdout",
     "output_type": "stream",
     "text": [
      "Simple model:\n"
     ]
    },
    {
     "data": {
      "text/html": [
       "<div>\n",
       "<style scoped>\n",
       "    .dataframe tbody tr th:only-of-type {\n",
       "        vertical-align: middle;\n",
       "    }\n",
       "\n",
       "    .dataframe tbody tr th {\n",
       "        vertical-align: top;\n",
       "    }\n",
       "\n",
       "    .dataframe thead th {\n",
       "        text-align: right;\n",
       "    }\n",
       "</style>\n",
       "<table border=\"1\" class=\"dataframe\">\n",
       "  <thead>\n",
       "    <tr style=\"text-align: right;\">\n",
       "      <th></th>\n",
       "      <th>horizon</th>\n",
       "      <th>rmse</th>\n",
       "      <th>mae</th>\n",
       "      <th>mape</th>\n",
       "    </tr>\n",
       "  </thead>\n",
       "  <tbody>\n",
       "    <tr>\n",
       "      <th>0</th>\n",
       "      <td>00:30:00</td>\n",
       "      <td>30.129179</td>\n",
       "      <td>26.998845</td>\n",
       "      <td>0.710990</td>\n",
       "    </tr>\n",
       "    <tr>\n",
       "      <th>1</th>\n",
       "      <td>01:00:00</td>\n",
       "      <td>31.161329</td>\n",
       "      <td>27.206752</td>\n",
       "      <td>0.554322</td>\n",
       "    </tr>\n",
       "  </tbody>\n",
       "</table>\n",
       "</div>"
      ],
      "text/plain": [
       "   horizon       rmse        mae      mape\n",
       "0 00:30:00  30.129179  26.998845  0.710990\n",
       "1 01:00:00  31.161329  27.206752  0.554322"
      ]
     },
     "metadata": {},
     "output_type": "display_data"
    }
   ],
   "source": [
    "print(\"Simple model:\")\n",
    "display(df_p[['horizon', 'rmse', 'mae', 'mape']])"
   ]
  },
  {
   "cell_type": "markdown",
   "metadata": {},
   "source": [
    "Model with tuned discrete parameters and small grid search over continuous parameters:\n",
    "\n",
    "| horizon  | rmse     | mae      | mape     |\n",
    "|----------|----------|----------|----------|\n",
    "| 00:30:00 | 6.784561 | 5.127664 | 0.069588 |\n",
    "| 01:00:00 | 8.080058 | 5.304410 | 0.076183 |\n"
   ]
  },
  {
   "cell_type": "code",
   "execution_count": 19,
   "metadata": {},
   "outputs": [
    {
     "data": {
      "application/vnd.jupyter.widget-view+json": {
       "model_id": "037e2dd15044415b81e192f94f36ab2f",
       "version_major": 2,
       "version_minor": 0
      },
      "text/plain": [
       "HBox(children=(FloatProgress(value=0.0, max=42.0), HTML(value='')))"
      ]
     },
     "metadata": {},
     "output_type": "display_data"
    },
    {
     "name": "stdout",
     "output_type": "stream",
     "text": [
      "\n",
      "Bayesian optimised parameters:\n"
     ]
    },
    {
     "data": {
      "text/html": [
       "<div>\n",
       "<style scoped>\n",
       "    .dataframe tbody tr th:only-of-type {\n",
       "        vertical-align: middle;\n",
       "    }\n",
       "\n",
       "    .dataframe tbody tr th {\n",
       "        vertical-align: top;\n",
       "    }\n",
       "\n",
       "    .dataframe thead th {\n",
       "        text-align: right;\n",
       "    }\n",
       "</style>\n",
       "<table border=\"1\" class=\"dataframe\">\n",
       "  <thead>\n",
       "    <tr style=\"text-align: right;\">\n",
       "      <th></th>\n",
       "      <th>horizon</th>\n",
       "      <th>rmse</th>\n",
       "      <th>mae</th>\n",
       "      <th>mape</th>\n",
       "    </tr>\n",
       "  </thead>\n",
       "  <tbody>\n",
       "    <tr>\n",
       "      <th>0</th>\n",
       "      <td>00:30:00</td>\n",
       "      <td>6.878412</td>\n",
       "      <td>4.847572</td>\n",
       "      <td>0.073778</td>\n",
       "    </tr>\n",
       "    <tr>\n",
       "      <th>1</th>\n",
       "      <td>01:00:00</td>\n",
       "      <td>10.261053</td>\n",
       "      <td>5.267301</td>\n",
       "      <td>0.071958</td>\n",
       "    </tr>\n",
       "  </tbody>\n",
       "</table>\n",
       "</div>"
      ],
      "text/plain": [
       "   horizon       rmse       mae      mape\n",
       "0 00:30:00   6.878412  4.847572  0.073778\n",
       "1 01:00:00  10.261053  5.267301  0.071958"
      ]
     },
     "execution_count": 19,
     "metadata": {},
     "output_type": "execute_result"
    }
   ],
   "source": [
    "m_opt, m_diags_opt = prophet_f(optimizer.max['params']['daily_prior'], \n",
    "                               optimizer.max['params']['yearly_prior'], \n",
    "                               optimizer.max['params']['hum_prior'],\n",
    "                               optimizer.max['params']['dp_prior'],\n",
    "                               metric = 'all',\n",
    "                               period = '250 hours')\n",
    "\n",
    "print(\"Model with Bayesian optimised parameters:\")\n",
    "m_diags_opt"
   ]
  },
  {
   "cell_type": "markdown",
   "metadata": {},
   "source": [
    "### Plot components of forecast from optimised model\n",
    "\n",
    "Finally, make a forecast with the optimised model and plot model components."
   ]
  },
  {
   "cell_type": "code",
   "execution_count": 20,
   "metadata": {},
   "outputs": [
    {
     "name": "stderr",
     "output_type": "stream",
     "text": [
      "/usr/local/lib/python3.8/site-packages/fbprophet/plot.py:422: UserWarning: FixedFormatter should only be used together with FixedLocator\n",
      "  ax.set_yticklabels(yticklabels)\n",
      "/usr/local/lib/python3.8/site-packages/fbprophet/plot.py:422: UserWarning: FixedFormatter should only be used together with FixedLocator\n",
      "  ax.set_yticklabels(yticklabels)\n"
     ]
    },
    {
     "data": {
      "image/png": "[encoded data removed]",
      "text/plain": [
       "<Figure size 648x864 with 4 Axes>"
      ]
     },
     "metadata": {},
     "output_type": "display_data"
    }
   ],
   "source": [
    "forecast_opt = m_opt.predict(df_test)\n",
    "fig3 = m_opt.plot_components(forecast_opt)"
   ]
  },
  {
   "cell_type": "markdown",
   "metadata": {},
   "source": [
    "---\n",
    "\n",
    "## Conclusion\n",
    "\n",
    "Findings:\n",
    " * Bayesian optimised parameters\n",
    "   * it's notable that `yearly_prior` has converged to the maximum limit (2) and `dp_prior` plus `hum_prior` converged to the lower limit (-2)\n",
    " * Components\n",
    "   * yearly and daily seasonalities appear overfitted\n",
    "     * I would expect a smooth cycle between the maximum and minimum values\n",
    "   * there may be some seasonality present in the extra regressors\n",
    "     * check for seasonality in performance of the model\n",
    " * Diagnostics\n",
    "   * the Bayesian optimised model is superior to the simple model\n",
    "   * the Bayesian optimised model is comparable to the partially optimised grid search model\n",
    " * Number of model evaluations\n",
    "   * unfortunately, we cannot make a good comparison between the R grid search and the Bayesian optimisation\n",
    "     * I used a more restricted parameter range in the R grid search\n",
    "     * a comparable grid would be [0.01, 0.1, 0, 1, 10, 100] meaning potentially 625 (5 ** 4) model evaluations for these 4 continuous parameters\n",
    "     * this compares well with the 30 model evaluations performed for Bayesian optimisation\n",
    "   * presumably a comparable random search would not give better results than Bayesian optimisation\n",
    "\n",
    "It's disappointing that the Bayesian optimised model has worse performance than the \n",
    "[simple exponential smoothing baseline model](https://github.com/makeyourownmaker/CambridgeTemperatureModel#one-step-ahead-baselines) :-(\n",
    "\n",
    "Future work could include:\n",
    " * Plot optimisation progress\n",
    "   * the bayes_opt package does not include any built-in plots\n",
    "   * plots could show if there are any unexplored areas of parameter space\n",
    " * Plot individual effect of each regressor as done in this [weather related prophet notebook](https://nbviewer.jupyter.org/github/nicolasfauchereau/Auckland_Cycling/blob/master/notebooks/Auckland_cycling_and_weather.ipynb)\n",
    " * Consider deseasonalising the regressors\n",
    " * Explore addition of lagged regressors\n",
    " * Expand cross-validation horizon to 2 hours\n",
    "   * limited to 1 hour here to reduce compute time\n",
    " * Cross-validation would benefit from being \n",
    "[parallelised](https://facebook.github.io/prophet/docs/diagnostics.html#parallelizing-cross-validation)\n",
    "\n",
    "In conclusion, the Bayesian optimised model is much improved but the possible seasonality in the regressors needs further investigation."
   ]
  },
  {
   "cell_type": "markdown",
   "metadata": {},
   "source": [
    "---\n",
    "\n",
    "\n",
    "## Archival\n",
    "\n",
    "Archive code, markdown, history and formatted notebooks.\n",
    "\n",
    "Assumes all pdf, html, latex etc dependencies are installed.\n",
    "\n",
    "**WARNING** Will overwrite existing files."
   ]
  },
  {
   "cell_type": "code",
   "execution_count": 25,
   "metadata": {},
   "outputs": [
    {
     "name": "stdout",
     "output_type": "stream",
     "text": [
      "[NbConvertApp] Converting notebook BayesOptProphetHyperparameters.ipynb to python\n",
      "[NbConvertApp] Writing 19032 bytes to BayesOptProphetHyperparameters.py\n",
      "[NbConvertApp] Converting notebook BayesOptProphetHyperparameters.ipynb to markdown\n",
      "[NbConvertApp] Support files will be in BayesOptProphetHyperparameters_files/\n",
      "[NbConvertApp] Making directory BayesOptProphetHyperparameters_files\n",
      "[NbConvertApp] Making directory BayesOptProphetHyperparameters_files\n",
      "[NbConvertApp] Making directory BayesOptProphetHyperparameters_files\n",
      "[NbConvertApp] Writing 46704 bytes to BayesOptProphetHyperparameters.md\n",
      "[NbConvertApp] Converting notebook BayesOptProphetHyperparameters.ipynb to html\n",
      "[NbConvertApp] Writing 907940 bytes to BayesOptProphetHyperparameters.html\n"
     ]
    }
   ],
   "source": [
    "notebook = \"BayesOptProphetHyperparameters.ipynb\"\n",
    "# !jupyter nbconvert --to script {notebook}\n",
    "# !jupyter nbconvert --execute --to html {notebook}\n",
    "# !jupyter nbconvert --execute --to pdf {notebook}\n",
    "# !jupyter nbconvert --to pdf {notebook}\n",
    "\n",
    "%rm history.txt\n",
    "%history -f history.txt\n",
    "\n",
    "!jupyter nbconvert --to python {notebook}\n",
    "sleep(5)\n",
    "!jupyter nbconvert --to markdown {notebook}\n",
    "sleep(5)\n",
    "!jupyter nbconvert --to html {notebook}"
   ]
  },
  {
   "cell_type": "markdown",
   "metadata": {},
   "source": [
    "---\n",
    "\n",
    "## Metadata\n",
    "\n",
    "Python and Jupyter versions plus modules imported and their version strings.\n",
    "This is the poor man's python equivalent of R's [`sessionInfo()`](https://stat.ethz.ch/R-manual/R-patched/library/utils/html/sessionInfo.html).\n",
    "\n",
    "Code for imported modules and versions adapted from this [stackoverflow answer](https://stackoverflow.com/a/49199019/100129).  There are simpler alternatives,\n",
    "such as [watermark](https://github.com/rasbt/watermark),\n",
    "but they all require installation."
   ]
  },
  {
   "cell_type": "code",
   "execution_count": 22,
   "metadata": {},
   "outputs": [
    {
     "name": "stdout",
     "output_type": "stream",
     "text": [
      "Python version:\n",
      "/usr/local/opt/python@3.8/bin/python3.8\n",
      "3.8.6 (default, Oct  8 2020, 14:17:19) \n",
      "[Clang 10.0.0 (clang-1000.11.45.5)]\n",
      "\n",
      "IPython version:\n",
      "7.19.0\n"
     ]
    }
   ],
   "source": [
    "import sys\n",
    "import IPython\n",
    "\n",
    "print(\"Python version:\")\n",
    "print(sys.executable)\n",
    "print(sys.version)\n",
    "print(\"\\nIPython version:\")\n",
    "print(IPython.__version__)"
   ]
  },
  {
   "cell_type": "code",
   "execution_count": 23,
   "metadata": {},
   "outputs": [
    {
     "name": "stdout",
     "output_type": "stream",
     "text": [
      "Imported modules:\n"
     ]
    },
    {
     "data": {
      "text/html": [
       "<style  type=\"text/css\" >\n",
       "</style><table id=\"T_b382e4c0_5767_11eb_ba3b_542696cf5333\" ><thead>    <tr>        <th class=\"col_heading level0 col0\" >name</th>        <th class=\"col_heading level0 col1\" >version</th>    </tr></thead><tbody>\n",
       "                <tr>\n",
       "                                <td id=\"T_b382e4c0_5767_11eb_ba3b_542696cf5333row0_col0\" class=\"data row0 col0\" >pandas</td>\n",
       "                        <td id=\"T_b382e4c0_5767_11eb_ba3b_542696cf5333row0_col1\" class=\"data row0 col1\" >1.0.5</td>\n",
       "            </tr>\n",
       "            <tr>\n",
       "                                <td id=\"T_b382e4c0_5767_11eb_ba3b_542696cf5333row1_col0\" class=\"data row1 col0\" >numpy</td>\n",
       "                        <td id=\"T_b382e4c0_5767_11eb_ba3b_542696cf5333row1_col1\" class=\"data row1 col1\" >1.19.1</td>\n",
       "            </tr>\n",
       "            <tr>\n",
       "                                <td id=\"T_b382e4c0_5767_11eb_ba3b_542696cf5333row2_col0\" class=\"data row2 col0\" >notebook</td>\n",
       "                        <td id=\"T_b382e4c0_5767_11eb_ba3b_542696cf5333row2_col1\" class=\"data row2 col1\" >6.1.6</td>\n",
       "            </tr>\n",
       "            <tr>\n",
       "                                <td id=\"T_b382e4c0_5767_11eb_ba3b_542696cf5333row3_col0\" class=\"data row3 col0\" >matplotlib</td>\n",
       "                        <td id=\"T_b382e4c0_5767_11eb_ba3b_542696cf5333row3_col1\" class=\"data row3 col1\" >3.3.1</td>\n",
       "            </tr>\n",
       "            <tr>\n",
       "                                <td id=\"T_b382e4c0_5767_11eb_ba3b_542696cf5333row4_col0\" class=\"data row4 col0\" >fbprophet</td>\n",
       "                        <td id=\"T_b382e4c0_5767_11eb_ba3b_542696cf5333row4_col1\" class=\"data row4 col1\" >0.7.1</td>\n",
       "            </tr>\n",
       "            <tr>\n",
       "                                <td id=\"T_b382e4c0_5767_11eb_ba3b_542696cf5333row5_col0\" class=\"data row5 col0\" >bayesian-optimization</td>\n",
       "                        <td id=\"T_b382e4c0_5767_11eb_ba3b_542696cf5333row5_col1\" class=\"data row5 col1\" >1.2.0</td>\n",
       "            </tr>\n",
       "    </tbody></table>"
      ],
      "text/plain": [
       "<pandas.io.formats.style.Styler at 0x123f88700>"
      ]
     },
     "execution_count": 23,
     "metadata": {},
     "output_type": "execute_result"
    }
   ],
   "source": [
    "import pkg_resources\n",
    "import types\n",
    "\n",
    "def get_imports():\n",
    "    for name, val in globals().items():\n",
    "        if isinstance(val, types.ModuleType):\n",
    "            # Split ensures you get root package, \n",
    "            # not just imported function\n",
    "            name = val.__name__.split(\".\")[0]\n",
    "\n",
    "        elif isinstance(val, type):\n",
    "            name = val.__module__.split(\".\")[0]\n",
    "\n",
    "        # Some packages are weird and have different\n",
    "        # imported names vs. system/pip names.  Unfortunately,\n",
    "        # there is no systematic way to get pip names from\n",
    "        # a package's imported name.  You'll have to add\n",
    "        # exceptions to this list manually!\n",
    "        poorly_named_packages = {\n",
    "            \"PIL\":       \"Pillow\",\n",
    "            \"sklearn\":   \"scikit-learn\",\n",
    "            \"bayes_opt\": \"bayesian-optimization\",\n",
    "        }\n",
    "        if name in poorly_named_packages.keys():\n",
    "            name = poorly_named_packages[name]\n",
    "\n",
    "        yield name\n",
    "\n",
    "imports = list(set(get_imports()))\n",
    "\n",
    "# The only way I found to get the version of the root package\n",
    "# from only the name of the package is to cross-check the names \n",
    "# of installed packages vs. imported packages\n",
    "requirements = []\n",
    "for m in pkg_resources.working_set:\n",
    "    if m.project_name in imports and m.project_name != \"pip\":\n",
    "        requirements.append((m.project_name, m.version))\n",
    "\n",
    "reqs = pd.DataFrame(requirements, columns = ['name', 'version'])\n",
    "print(\"Imported modules:\")\n",
    "reqs.style.hide_index()"
   ]
  },
  {
   "cell_type": "code",
   "execution_count": 24,
   "metadata": {},
   "outputs": [
    {
     "name": "stdout",
     "output_type": "stream",
     "text": [
      "Fri Jan 15 19:27:28 GMT 2021\r\n"
     ]
    }
   ],
   "source": [
    "!date"
   ]
  }
 ],
 "metadata": {
  "kernelspec": {
   "display_name": "Python 3",
   "language": "python",
   "name": "python3"
  },
  "language_info": {
   "codemirror_mode": {
    "name": "ipython",
    "version": 3
   },
   "file_extension": ".py",
   "mimetype": "text/x-python",
   "name": "python",
   "nbconvert_exporter": "python",
   "pygments_lexer": "ipython3",
   "version": "3.8.6"
  }
 },
 "nbformat": 4,
 "nbformat_minor": 4
}
